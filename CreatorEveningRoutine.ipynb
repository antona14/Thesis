{
 "cells": [
  {
   "cell_type": "code",
   "execution_count": 132,
   "id": "southeast-variety",
   "metadata": {},
   "outputs": [],
   "source": [
    "import random\n",
    "from datetime import datetime, date, timedelta\n",
    "import pandas as pd\n",
    "import itertools\n",
    "import json\n",
    "import numpy\n",
    "import pm4py\n",
    "import os\n",
    "import functools"
   ]
  },
  {
   "cell_type": "code",
   "execution_count": 133,
   "id": "recognized-brown",
   "metadata": {},
   "outputs": [],
   "source": [
    "def getRandomTime(min_x, max_x, duration, start_time):\n",
    "    if type(start_time) == type('a'):\n",
    "        start_time = datetime.strptime(start_time, \"%Y-%m-%d %H:%M:%S:%f\")\n",
    "    random_duration = start_time + timedelta(minutes=duration)\n",
    "    return (random_duration.strftime('%Y-%m-%d %H:%M:%S:%f'), duration)"
   ]
  },
  {
   "cell_type": "code",
   "execution_count": 134,
   "id": "fleet-british",
   "metadata": {},
   "outputs": [],
   "source": [
    "def calculateDuration(df, start_time):\n",
    "    for index, row in df.iterrows():\n",
    "        if index != 0:\n",
    "            previous = df.loc[index -1, \"End_time\"]\n",
    "            a = getRandomTime(row[\"Min\"],row[\"Max\"], row[\"Duration\"], previous)\n",
    "            df.at[index, \"start_time\"] = previous\n",
    "            df.at[index, \"End_time\"] = datetime.strptime(a[0], \"%Y-%m-%d %H:%M:%S:%f\")\n",
    "            df.at[index, \"Duration\"] = a[1]\n",
    "        else:\n",
    "            a = getRandomTime(row[\"Min\"],row[\"Max\"], row[\"Duration\"], start_time)\n",
    "            df.at[index, \"start_time\"] = datetime.strptime(start_time.strftime('%Y-%m-%d %H:%M:%S:%f'), \"%Y-%m-%d %H:%M:%S:%f\")\n",
    "            df.at[index, \"End_time\"] = datetime.strptime(a[0], \"%Y-%m-%d %H:%M:%S:%f\")\n",
    "            df.at[index, \"Duration\"] = a[1]\n",
    "    return(df)"
   ]
  },
  {
   "cell_type": "code",
   "execution_count": 135,
   "id": "relevant-batch",
   "metadata": {},
   "outputs": [],
   "source": [
    "# Each Activity have 3 properties: Activity, minimum time, maximum time\n",
    "\n",
    "def haveDinner():\n",
    "    return ['Dinner', '00:40:00:00','01:10:00:00']\n",
    "\n",
    "def haveDinner2():\n",
    "    return ['Dinner', '00:20:00:00','01:30:00:00']\n",
    "\n",
    "def haveDinnerBreakStats():\n",
    "    return ['Dinner', '00:30:00:00','01:20:00:00']"
   ]
  },
  {
   "cell_type": "code",
   "execution_count": 136,
   "id": "supported-plant",
   "metadata": {},
   "outputs": [],
   "source": [
    "def watchTV():\n",
    "    return ['TV', '00:30:00:00', '01:00:00:00']\n",
    " \n",
    "def watchTV2():\n",
    "    return ['TV', '00:20:00:00', '01:20:00:00']\n",
    "\n",
    "def watchTVBreakStats():\n",
    "    return ['TV', '00:40:00:00', '02:00:00:00']"
   ]
  },
  {
   "cell_type": "code",
   "execution_count": 137,
   "id": "da4d2de2",
   "metadata": {},
   "outputs": [],
   "source": [
    "def goToGym():\n",
    "    return ['TV', '00:30:00:00', '01:00:00:00']"
   ]
  },
  {
   "cell_type": "code",
   "execution_count": 138,
   "id": "c5b08ab7",
   "metadata": {},
   "outputs": [],
   "source": [
    "def brushTeeth():\n",
    "    return ['Brush teeth', '00:10:00:00', '00:20:00:00']\n",
    " \n",
    "def BrushTeeth2():\n",
    "    return ['Brush teeth', '00:10:00:00', '00:40:00:00']\n",
    "\n",
    "def BrushTeethBreakStats():\n",
    "    return ['Brush teeth', '00:05:00:00', '00:40:00:00']"
   ]
  },
  {
   "cell_type": "code",
   "execution_count": 139,
   "id": "human-minnesota",
   "metadata": {},
   "outputs": [],
   "source": [
    "def read():#21:15\n",
    "    return ['Read', '00:00:30:00','01:00:00:00']\n",
    "\n",
    "def read2():\n",
    "    return ['Read', '00:20:00:00','01:20:00:00']\n",
    "\n",
    "def readBreakStats():\n",
    "    return ['Read', '00:01:00:00','00:40:00:00']"
   ]
  },
  {
   "cell_type": "code",
   "execution_count": 140,
   "id": "6e4d61ee",
   "metadata": {},
   "outputs": [],
   "source": [
    "def goToSleep(): #Around 22:00\n",
    "    return ['Sleep', '00:10:00:00','00:30:00:00']\n",
    "\n",
    "def goToSleep2():\n",
    "    return ['Sleep', '00:10:00:00','00:30:00:00']\n",
    "\n",
    "def goToSleepBreakStats():\n",
    "    return ['Sleep', '00:01:00:00','00:15:00:00']"
   ]
  },
  {
   "cell_type": "code",
   "execution_count": 141,
   "id": "surgical-likelihood",
   "metadata": {},
   "outputs": [],
   "source": [
    "def waitingTime3A():\n",
    "    return ['waiting', '00:05:00:00', '00:15:00:00']\n",
    "\n",
    "def waitingTime3B():\n",
    "    return ['waiting', '00:01:00:00', '00:15:00:00']\n",
    "\n",
    "def doNothing():\n",
    "    return ['waiting', '00:10:00:00', '00:30:00:00']"
   ]
  },
  {
   "cell_type": "code",
   "execution_count": 142,
   "id": "helpful-latest",
   "metadata": {},
   "outputs": [],
   "source": [
    "def build3A():\n",
    "    activities = []\n",
    "    group = [watchTV(), read(), doNothing(), doNothing(), doNothing()]\n",
    "\n",
    "#     Start with dinner\n",
    "    activity = haveDinner()\n",
    "    activity_duration = round(random.uniform(40,70),2)\n",
    "    activities.append([activity, activity_duration])\n",
    "    activities.append([waitingTime3A(), round(random.uniform(5, 15),2)])\n",
    "    \n",
    "#     2x Random activities\n",
    "    iterations = random.randint(1, 2)\n",
    "    for i in range(1,iterations+1):\n",
    "        activity = random.choice(group)\n",
    "        if activity == doNothing():\n",
    "            activity_duration = round(random.uniform(10,30),2)\n",
    "            group.remove(activity)\n",
    "        else:\n",
    "            activity_duration = round(random.uniform(30,60),2)\n",
    "        activities.append([activity, activity_duration])\n",
    "    activities.append([waitingTime3A(), round(random.uniform(5, 15),2)])\n",
    "    \n",
    "#     Brush teeth\n",
    "    activity = brushTeeth()\n",
    "    activity_duration = round(random.uniform(10,20),2)\n",
    "    activities.append([activity, activity_duration])\n",
    "    \n",
    "#     2x Random activities\n",
    "    iterations = random.randint(1, 2)\n",
    "    for i in range(1,iterations+1):\n",
    "        activity = random.choice(group)\n",
    "        if activity == doNothing():\n",
    "            activity_duration = round(random.uniform(10,30),2)\n",
    "            group.remove(activity)\n",
    "        else:\n",
    "            activity_duration = round(random.uniform(30,60),2)\n",
    "        activities.append([activity, activity_duration])\n",
    "    activities.append([waitingTime3A(), round(random.uniform(5, 15),2)])\n",
    "    \n",
    "#     Always end by going to sleep\n",
    "    activity = goToSleep()\n",
    "    activity_duration = round(random.uniform(10,30),2)\n",
    "    activities.append([activity, activity_duration])\n",
    "\n",
    "    return activities"
   ]
  },
  {
   "cell_type": "code",
   "execution_count": 143,
   "id": "fixed-thing",
   "metadata": {},
   "outputs": [],
   "source": [
    "def build3B():    \n",
    "    eveningDuration = 240 #From 19:xx for four hours\n",
    "    activities = []\n",
    "    group = [#haveDinner(),\n",
    "             watchTV(),\n",
    "             read(),\n",
    "             brushTeeth(), \n",
    "             goToSleep(),\n",
    "             goToGym()]\n",
    "    \n",
    "    x = [random.choice(group)]\n",
    "    activity = random.choice(x)\n",
    "\n",
    "# #     Start with one activity, most likely dinner\n",
    "#     if activity == haveDinner():\n",
    "#         activity_duration = round(random.uniform(20,90),2)\n",
    "#         activities.append([activity, activity_duration])\n",
    "#         Filter haveDinner from the list used to select next activity\n",
    "#         group = list(filter((haveDinner()).__ne__, group))\n",
    "    if activity == brushTeeth():\n",
    "        activity_duration = round(random.uniform(10,20),2)\n",
    "        activities.append([activity, activity_duration])\n",
    "#         group = list(filter((brushTeeth()).__ne__, group))\n",
    "        group.append(brushTeeth())\n",
    "    elif activity == goToSleep():\n",
    "        activity_duration = round(random.uniform(10,30),2)\n",
    "        activities.append([activity, activity_duration])\n",
    "#         return activities\n",
    "    else:\n",
    "        activity_duration = round(random.uniform(30,60),2)\n",
    "        activities.append([activity, activity_duration])\n",
    "    eveningDuration -= activity_duration\n",
    " \n",
    "    group = [haveDinner(),\n",
    "             watchTV(),\n",
    "             read(),\n",
    "             brushTeeth(), \n",
    "             goToSleep()]\n",
    "    \n",
    "    while eveningDuration > 0:\n",
    "        activities.append([waitingTime3A(), round(random.uniform(5, 15),2)])\n",
    "\n",
    "#         iterations = random.randint(1, 2)\n",
    "#         for i in range(1,iterations+1):\n",
    "        activity = random.choice(group)\n",
    "        if activity == haveDinner():\n",
    "            activity_duration = round(random.uniform(40,70),2)\n",
    "            activities.append([activity, activity_duration])\n",
    "#             group = list(filter((haveDinner()).__ne__, group))\n",
    "        elif activity == brushTeeth():\n",
    "            activity_duration = round(random.uniform(10,20),2)\n",
    "            activities.append([activity, activity_duration])\n",
    "#             group = list(filter((brushTeeth()).__ne__, group))\n",
    "#             group.append(brushTeeth())\n",
    "        elif activity == goToSleep():\n",
    "            break\n",
    "        else:\n",
    "            activity_duration = round(random.uniform(30,60),2)\n",
    "            activities.append([activity, activity_duration])\n",
    "#         activities.append([waitingTime3A(), round(random.uniform(5, 15),2)])\n",
    "        eveningDuration -= activity_duration\n",
    "    \n",
    "    activity = goToSleep()\n",
    "    activity_duration = round(random.uniform(10,30),2)\n",
    "    activities.append([activity, activity_duration])\n",
    "    return activities"
   ]
  },
  {
   "cell_type": "code",
   "execution_count": 144,
   "id": "danish-newfoundland",
   "metadata": {},
   "outputs": [],
   "source": [
    "def mergeData(day):\n",
    "    droprow = []\n",
    "    result = day\n",
    "    label_index = 0\n",
    "    for i in range(1, day.shape[0]):\n",
    "        if day.iloc[i]['concept:name'] == result.iloc[label_index]['concept:name']:\n",
    "            result.iloc[label_index, 3] = day.iloc[i, 3]\n",
    "            result.iloc[label_index, 4] += day.iloc[i, 4]\n",
    "            droprow.append(i)\n",
    "        else:\n",
    "            label_index = i\n",
    "    result = result.drop(index=droprow)\n",
    "    result = result.reset_index()\n",
    "    return result"
   ]
  },
  {
   "cell_type": "code",
   "execution_count": 145,
   "id": "contemporary-friendly",
   "metadata": {},
   "outputs": [],
   "source": [
    "dayActivities = build3B()\n",
    "dayActivities.append([haveDinner(), round(random.uniform(1, 15),2)])\n",
    "dd = pd.DataFrame(dayActivities)\n",
    "dd = pd.concat([dd[0].apply(lambda x: pd.Series(x)), dd[1]], axis=1)"
   ]
  },
  {
   "cell_type": "code",
   "execution_count": 146,
   "id": "sexual-preference",
   "metadata": {},
   "outputs": [],
   "source": [
    "def createEventLog3A(dayRange, fileName):\n",
    "    path = './'+fileName.split('.')[0] \n",
    "    if os.path.exists(path):\n",
    "        pass\n",
    "    else:\n",
    "        os.mkdir(path)\n",
    "        \n",
    "    daySimulation = pd.DataFrame()\n",
    "\n",
    "#     Setting the start date (the first date in log) \n",
    "    start_time = datetime(2022, 1, 1, 19, 0, 0, 0)\n",
    "    \n",
    "    for i in range(dayRange):\n",
    "        # Create daily routine\n",
    "        dayActivities = build3A()\n",
    "#         dayActivities.append([wakeUp(), round(random.uniform(1, 15),2)])\n",
    "        dd = pd.DataFrame(dayActivities)\n",
    "        dd = pd.concat([dd[0].apply(lambda x: pd.Series(x)), dd[1]], axis=1)\n",
    "        dd.columns = ['Activity', 'Min', 'Max', 'Duration']\n",
    "        dd = dd.reindex(columns = [\"Activity\",\"Min\", \"Max\", \"start_time\", \"End_time\", \"Duration\"]) \n",
    "        dd = dd.fillna(\"\")\n",
    "\n",
    "        # Randomly get time and calculate routine\n",
    "#         start_time = datetime(2022, 1, i+1, 22, 0, 0, 0).strftime('%Y-%m-%d %H:%M:%S:%f')\n",
    "#         Adding one day to the starting date\n",
    "        start_time = start_time + timedelta(days=1)\n",
    "\n",
    "        ddfinal = calculateDuration(dd, start_time)\n",
    "        ddfinal = ddfinal.drop(columns =['Min', 'Max'])\n",
    "        ddfinal = ddfinal.rename(columns={'Activity':'concept:name'})\n",
    "        ddfinal = ddfinal.rename(columns={'End_time':'time:timestamp'})\n",
    "        #ddfinal = ddfinal.rename(columns={'index':'case_id'})\n",
    "        ddfinal['case_id'] = i+1\n",
    "        # print(ddfinal)\n",
    "        ddfinal.insert(loc=0, column='case:concept:name', value=i+1)\n",
    "        #resfinal = resfinal.reindex(columns = ['case:concept:name', 'concept:name', 'Start_time', 'End_time', 'Duration'])\n",
    "        ddfinal = mergeData(ddfinal)\n",
    "        \n",
    "#         print(ddfinal)\n",
    "        ddfinal = ddfinal.drop(ddfinal[ddfinal['concept:name']=='waiting'].index)\n",
    "    \n",
    "        pm4py.write_xes(ddfinal, './%s/'%path + 'day%d.xes'%(i+1))\n",
    "    #     Add daily routine to Final data\n",
    "        daySimulation = daySimulation.append(ddfinal)\n",
    "        \n",
    "        # Create Event Log 3A\n",
    "\n",
    "    #daySimulation = daySimulation.drop(daySimulation[daySimulation['concept:name']=='waiting'].index)\n",
    "    #print(daySimulation)\n",
    "    pm4py.write_xes(daySimulation, fileName)"
   ]
  },
  {
   "cell_type": "code",
   "execution_count": 147,
   "id": "comparable-vault",
   "metadata": {},
   "outputs": [],
   "source": [
    "def createEventLog3B(dayRange, fileName):\n",
    "    path = './'+fileName.split('.')[0] \n",
    "    if os.path.exists(path):\n",
    "        pass\n",
    "    else:\n",
    "        os.mkdir(path)\n",
    "    \n",
    "    #xes_Index = [\"case:concept:name\",\"Activity\" , \"start_time\", \"End_time\", \"Duration\"]\n",
    "    daySimulation = pd.DataFrame()\n",
    "    \n",
    "#     Setting the start date (the first date in log)\n",
    "    start_time = datetime(2022, 1, 1, 19, 0, 0, 0)\n",
    "\n",
    "    for i in range(dayRange):\n",
    "        # Create daily routine\n",
    "        dayActivities = build3B()\n",
    "#         dayActivities.append([wakeUp(), round(random.uniform(1, 15),2)])\n",
    "        dd = pd.DataFrame(dayActivities)\n",
    "        dd = pd.concat([dd[0].apply(lambda x: pd.Series(x)), dd[1]], axis=1)\n",
    "        dd.columns = ['Activity', 'Min', 'Max', 'Duration']\n",
    "        dd = dd.reindex(columns = [\"Activity\",\"Min\", \"Max\", \"start_time\", \"End_time\", \"Duration\"]) \n",
    "        dd = dd.fillna(\"\")\n",
    "        #print(dd)\n",
    "        # Randomly get time and calculate routine\n",
    "#         start_time = datetime(2022, 1, i+1, 22, 0, 0, 0).strftime('%Y-%m-%d %H:%M:%S:%f')\n",
    "#         Adding one day to the starting date\n",
    "        start_time = start_time + timedelta(days=1)\n",
    "    \n",
    "        ddfinal = calculateDuration(dd, start_time)\n",
    "        ddfinal = ddfinal.drop(columns =['Min', 'Max'])\n",
    "        ddfinal = ddfinal.rename(columns={'Activity':'concept:name'})\n",
    "        ddfinal = ddfinal.rename(columns={'End_time':'time:timestamp'})\n",
    "        ddfinal.insert(loc=0, column='case:concept:name', value=i+1)\n",
    "        ddfinal = mergeData(ddfinal)\n",
    "        \n",
    "        ddfinal = ddfinal.drop(ddfinal[ddfinal['concept:name']=='waiting'].index)\n",
    "    \n",
    "        pm4py.write_xes(ddfinal, './%s/'%path + 'day%d.xes'%(i+1))\n",
    "\n",
    "    #     Add daily routine to Final data\n",
    "        daySimulation = daySimulation.append(ddfinal)\n",
    "        \n",
    "        # Create Event Log 3A\n",
    "    daySimulation = daySimulation.drop(daySimulation[daySimulation['concept:name']=='waiting'].index)\n",
    "    pm4py.write_xes(daySimulation, fileName)"
   ]
  },
  {
   "cell_type": "code",
   "execution_count": 148,
   "id": "exact-likelihood",
   "metadata": {
    "scrolled": true
   },
   "outputs": [
    {
     "data": {
      "application/vnd.jupyter.widget-view+json": {
       "model_id": "68ed3a01bc654bcd9597308e53ed79ef",
       "version_major": 2,
       "version_minor": 0
      },
      "text/plain": [
       "exporting log, completed traces ::   0%|          | 0/1 [00:00<?, ?it/s]"
      ]
     },
     "metadata": {},
     "output_type": "display_data"
    },
    {
     "name": "stderr",
     "output_type": "stream",
     "text": [
      "/var/folders/7c/r3slh6d1643d1hl26cgzfq5c0000gn/T/ipykernel_54153/4270458896.py:44: FutureWarning: The frame.append method is deprecated and will be removed from pandas in a future version. Use pandas.concat instead.\n",
      "  daySimulation = daySimulation.append(ddfinal)\n"
     ]
    },
    {
     "data": {
      "application/vnd.jupyter.widget-view+json": {
       "model_id": "8c50ab113287413aaf5df79b83bffe3e",
       "version_major": 2,
       "version_minor": 0
      },
      "text/plain": [
       "exporting log, completed traces ::   0%|          | 0/1 [00:00<?, ?it/s]"
      ]
     },
     "metadata": {},
     "output_type": "display_data"
    },
    {
     "name": "stderr",
     "output_type": "stream",
     "text": [
      "/var/folders/7c/r3slh6d1643d1hl26cgzfq5c0000gn/T/ipykernel_54153/4270458896.py:44: FutureWarning: The frame.append method is deprecated and will be removed from pandas in a future version. Use pandas.concat instead.\n",
      "  daySimulation = daySimulation.append(ddfinal)\n"
     ]
    },
    {
     "data": {
      "application/vnd.jupyter.widget-view+json": {
       "model_id": "da926e0e5efa4966883cfe1679856b50",
       "version_major": 2,
       "version_minor": 0
      },
      "text/plain": [
       "exporting log, completed traces ::   0%|          | 0/1 [00:00<?, ?it/s]"
      ]
     },
     "metadata": {},
     "output_type": "display_data"
    },
    {
     "name": "stderr",
     "output_type": "stream",
     "text": [
      "/var/folders/7c/r3slh6d1643d1hl26cgzfq5c0000gn/T/ipykernel_54153/4270458896.py:44: FutureWarning: The frame.append method is deprecated and will be removed from pandas in a future version. Use pandas.concat instead.\n",
      "  daySimulation = daySimulation.append(ddfinal)\n"
     ]
    },
    {
     "data": {
      "application/vnd.jupyter.widget-view+json": {
       "model_id": "fb07534b5423479f9f4c43092702cddb",
       "version_major": 2,
       "version_minor": 0
      },
      "text/plain": [
       "exporting log, completed traces ::   0%|          | 0/1 [00:00<?, ?it/s]"
      ]
     },
     "metadata": {},
     "output_type": "display_data"
    },
    {
     "name": "stderr",
     "output_type": "stream",
     "text": [
      "/var/folders/7c/r3slh6d1643d1hl26cgzfq5c0000gn/T/ipykernel_54153/4270458896.py:44: FutureWarning: The frame.append method is deprecated and will be removed from pandas in a future version. Use pandas.concat instead.\n",
      "  daySimulation = daySimulation.append(ddfinal)\n"
     ]
    },
    {
     "data": {
      "application/vnd.jupyter.widget-view+json": {
       "model_id": "d2300f9d98854e9c90ad43cc3da3e0c7",
       "version_major": 2,
       "version_minor": 0
      },
      "text/plain": [
       "exporting log, completed traces ::   0%|          | 0/1 [00:00<?, ?it/s]"
      ]
     },
     "metadata": {},
     "output_type": "display_data"
    },
    {
     "name": "stderr",
     "output_type": "stream",
     "text": [
      "/var/folders/7c/r3slh6d1643d1hl26cgzfq5c0000gn/T/ipykernel_54153/4270458896.py:44: FutureWarning: The frame.append method is deprecated and will be removed from pandas in a future version. Use pandas.concat instead.\n",
      "  daySimulation = daySimulation.append(ddfinal)\n"
     ]
    },
    {
     "data": {
      "application/vnd.jupyter.widget-view+json": {
       "model_id": "6eda8f7061c24654987b81e805e4b38e",
       "version_major": 2,
       "version_minor": 0
      },
      "text/plain": [
       "exporting log, completed traces ::   0%|          | 0/1 [00:00<?, ?it/s]"
      ]
     },
     "metadata": {},
     "output_type": "display_data"
    },
    {
     "name": "stderr",
     "output_type": "stream",
     "text": [
      "/var/folders/7c/r3slh6d1643d1hl26cgzfq5c0000gn/T/ipykernel_54153/4270458896.py:44: FutureWarning: The frame.append method is deprecated and will be removed from pandas in a future version. Use pandas.concat instead.\n",
      "  daySimulation = daySimulation.append(ddfinal)\n"
     ]
    },
    {
     "data": {
      "application/vnd.jupyter.widget-view+json": {
       "model_id": "d748fc667a3944e596bbcb6fe099fb74",
       "version_major": 2,
       "version_minor": 0
      },
      "text/plain": [
       "exporting log, completed traces ::   0%|          | 0/1 [00:00<?, ?it/s]"
      ]
     },
     "metadata": {},
     "output_type": "display_data"
    },
    {
     "name": "stderr",
     "output_type": "stream",
     "text": [
      "/var/folders/7c/r3slh6d1643d1hl26cgzfq5c0000gn/T/ipykernel_54153/4270458896.py:44: FutureWarning: The frame.append method is deprecated and will be removed from pandas in a future version. Use pandas.concat instead.\n",
      "  daySimulation = daySimulation.append(ddfinal)\n"
     ]
    },
    {
     "data": {
      "application/vnd.jupyter.widget-view+json": {
       "model_id": "f6523c4d980c437584bcc27e2253477d",
       "version_major": 2,
       "version_minor": 0
      },
      "text/plain": [
       "exporting log, completed traces ::   0%|          | 0/1 [00:00<?, ?it/s]"
      ]
     },
     "metadata": {},
     "output_type": "display_data"
    },
    {
     "name": "stderr",
     "output_type": "stream",
     "text": [
      "/var/folders/7c/r3slh6d1643d1hl26cgzfq5c0000gn/T/ipykernel_54153/4270458896.py:44: FutureWarning: The frame.append method is deprecated and will be removed from pandas in a future version. Use pandas.concat instead.\n",
      "  daySimulation = daySimulation.append(ddfinal)\n"
     ]
    },
    {
     "data": {
      "application/vnd.jupyter.widget-view+json": {
       "model_id": "7bb6af2c81b0410cb66dc8a6e5b403c8",
       "version_major": 2,
       "version_minor": 0
      },
      "text/plain": [
       "exporting log, completed traces ::   0%|          | 0/1 [00:00<?, ?it/s]"
      ]
     },
     "metadata": {},
     "output_type": "display_data"
    },
    {
     "name": "stderr",
     "output_type": "stream",
     "text": [
      "/var/folders/7c/r3slh6d1643d1hl26cgzfq5c0000gn/T/ipykernel_54153/4270458896.py:44: FutureWarning: The frame.append method is deprecated and will be removed from pandas in a future version. Use pandas.concat instead.\n",
      "  daySimulation = daySimulation.append(ddfinal)\n"
     ]
    },
    {
     "data": {
      "application/vnd.jupyter.widget-view+json": {
       "model_id": "b28af46a0cb54a2ba21d7fb06608ffa8",
       "version_major": 2,
       "version_minor": 0
      },
      "text/plain": [
       "exporting log, completed traces ::   0%|          | 0/1 [00:00<?, ?it/s]"
      ]
     },
     "metadata": {},
     "output_type": "display_data"
    },
    {
     "name": "stderr",
     "output_type": "stream",
     "text": [
      "/var/folders/7c/r3slh6d1643d1hl26cgzfq5c0000gn/T/ipykernel_54153/4270458896.py:44: FutureWarning: The frame.append method is deprecated and will be removed from pandas in a future version. Use pandas.concat instead.\n",
      "  daySimulation = daySimulation.append(ddfinal)\n"
     ]
    },
    {
     "data": {
      "application/vnd.jupyter.widget-view+json": {
       "model_id": "38935f05db8041b3953dc6ebc850f8f0",
       "version_major": 2,
       "version_minor": 0
      },
      "text/plain": [
       "exporting log, completed traces ::   0%|          | 0/1 [00:00<?, ?it/s]"
      ]
     },
     "metadata": {},
     "output_type": "display_data"
    },
    {
     "name": "stderr",
     "output_type": "stream",
     "text": [
      "/var/folders/7c/r3slh6d1643d1hl26cgzfq5c0000gn/T/ipykernel_54153/4270458896.py:44: FutureWarning: The frame.append method is deprecated and will be removed from pandas in a future version. Use pandas.concat instead.\n",
      "  daySimulation = daySimulation.append(ddfinal)\n"
     ]
    },
    {
     "data": {
      "application/vnd.jupyter.widget-view+json": {
       "model_id": "9b3af156c691451a9d44e5fb898a7101",
       "version_major": 2,
       "version_minor": 0
      },
      "text/plain": [
       "exporting log, completed traces ::   0%|          | 0/1 [00:00<?, ?it/s]"
      ]
     },
     "metadata": {},
     "output_type": "display_data"
    },
    {
     "name": "stderr",
     "output_type": "stream",
     "text": [
      "/var/folders/7c/r3slh6d1643d1hl26cgzfq5c0000gn/T/ipykernel_54153/4270458896.py:44: FutureWarning: The frame.append method is deprecated and will be removed from pandas in a future version. Use pandas.concat instead.\n",
      "  daySimulation = daySimulation.append(ddfinal)\n"
     ]
    },
    {
     "data": {
      "application/vnd.jupyter.widget-view+json": {
       "model_id": "e5999170634b49c8baf5e2953e19ef5e",
       "version_major": 2,
       "version_minor": 0
      },
      "text/plain": [
       "exporting log, completed traces ::   0%|          | 0/1 [00:00<?, ?it/s]"
      ]
     },
     "metadata": {},
     "output_type": "display_data"
    },
    {
     "name": "stderr",
     "output_type": "stream",
     "text": [
      "/var/folders/7c/r3slh6d1643d1hl26cgzfq5c0000gn/T/ipykernel_54153/4270458896.py:44: FutureWarning: The frame.append method is deprecated and will be removed from pandas in a future version. Use pandas.concat instead.\n",
      "  daySimulation = daySimulation.append(ddfinal)\n"
     ]
    },
    {
     "data": {
      "application/vnd.jupyter.widget-view+json": {
       "model_id": "c4239514c2034f67be99ac9a6f82fcf3",
       "version_major": 2,
       "version_minor": 0
      },
      "text/plain": [
       "exporting log, completed traces ::   0%|          | 0/1 [00:00<?, ?it/s]"
      ]
     },
     "metadata": {},
     "output_type": "display_data"
    },
    {
     "name": "stderr",
     "output_type": "stream",
     "text": [
      "/var/folders/7c/r3slh6d1643d1hl26cgzfq5c0000gn/T/ipykernel_54153/4270458896.py:44: FutureWarning: The frame.append method is deprecated and will be removed from pandas in a future version. Use pandas.concat instead.\n",
      "  daySimulation = daySimulation.append(ddfinal)\n"
     ]
    },
    {
     "data": {
      "application/vnd.jupyter.widget-view+json": {
       "model_id": "6ee0077517fc41c786bf95e10313da8f",
       "version_major": 2,
       "version_minor": 0
      },
      "text/plain": [
       "exporting log, completed traces ::   0%|          | 0/1 [00:00<?, ?it/s]"
      ]
     },
     "metadata": {},
     "output_type": "display_data"
    },
    {
     "name": "stderr",
     "output_type": "stream",
     "text": [
      "/var/folders/7c/r3slh6d1643d1hl26cgzfq5c0000gn/T/ipykernel_54153/4270458896.py:44: FutureWarning: The frame.append method is deprecated and will be removed from pandas in a future version. Use pandas.concat instead.\n",
      "  daySimulation = daySimulation.append(ddfinal)\n"
     ]
    },
    {
     "data": {
      "application/vnd.jupyter.widget-view+json": {
       "model_id": "868600bf7a814b10a53c8485c1b35ce7",
       "version_major": 2,
       "version_minor": 0
      },
      "text/plain": [
       "exporting log, completed traces ::   0%|          | 0/1 [00:00<?, ?it/s]"
      ]
     },
     "metadata": {},
     "output_type": "display_data"
    },
    {
     "name": "stderr",
     "output_type": "stream",
     "text": [
      "/var/folders/7c/r3slh6d1643d1hl26cgzfq5c0000gn/T/ipykernel_54153/4270458896.py:44: FutureWarning: The frame.append method is deprecated and will be removed from pandas in a future version. Use pandas.concat instead.\n",
      "  daySimulation = daySimulation.append(ddfinal)\n"
     ]
    },
    {
     "data": {
      "application/vnd.jupyter.widget-view+json": {
       "model_id": "f80658a8a8f844748d3e8e0acc616110",
       "version_major": 2,
       "version_minor": 0
      },
      "text/plain": [
       "exporting log, completed traces ::   0%|          | 0/1 [00:00<?, ?it/s]"
      ]
     },
     "metadata": {},
     "output_type": "display_data"
    },
    {
     "name": "stderr",
     "output_type": "stream",
     "text": [
      "/var/folders/7c/r3slh6d1643d1hl26cgzfq5c0000gn/T/ipykernel_54153/4270458896.py:44: FutureWarning: The frame.append method is deprecated and will be removed from pandas in a future version. Use pandas.concat instead.\n",
      "  daySimulation = daySimulation.append(ddfinal)\n"
     ]
    },
    {
     "data": {
      "application/vnd.jupyter.widget-view+json": {
       "model_id": "7b3cf40f50134dd882e9478ddb85246e",
       "version_major": 2,
       "version_minor": 0
      },
      "text/plain": [
       "exporting log, completed traces ::   0%|          | 0/1 [00:00<?, ?it/s]"
      ]
     },
     "metadata": {},
     "output_type": "display_data"
    },
    {
     "name": "stderr",
     "output_type": "stream",
     "text": [
      "/var/folders/7c/r3slh6d1643d1hl26cgzfq5c0000gn/T/ipykernel_54153/4270458896.py:44: FutureWarning: The frame.append method is deprecated and will be removed from pandas in a future version. Use pandas.concat instead.\n",
      "  daySimulation = daySimulation.append(ddfinal)\n"
     ]
    },
    {
     "data": {
      "application/vnd.jupyter.widget-view+json": {
       "model_id": "239f1459418a41ada8fee4e49302901a",
       "version_major": 2,
       "version_minor": 0
      },
      "text/plain": [
       "exporting log, completed traces ::   0%|          | 0/1 [00:00<?, ?it/s]"
      ]
     },
     "metadata": {},
     "output_type": "display_data"
    },
    {
     "name": "stderr",
     "output_type": "stream",
     "text": [
      "/var/folders/7c/r3slh6d1643d1hl26cgzfq5c0000gn/T/ipykernel_54153/4270458896.py:44: FutureWarning: The frame.append method is deprecated and will be removed from pandas in a future version. Use pandas.concat instead.\n",
      "  daySimulation = daySimulation.append(ddfinal)\n"
     ]
    },
    {
     "data": {
      "application/vnd.jupyter.widget-view+json": {
       "model_id": "e79f08a869d6432486486177dc652ebc",
       "version_major": 2,
       "version_minor": 0
      },
      "text/plain": [
       "exporting log, completed traces ::   0%|          | 0/1 [00:00<?, ?it/s]"
      ]
     },
     "metadata": {},
     "output_type": "display_data"
    },
    {
     "name": "stderr",
     "output_type": "stream",
     "text": [
      "/var/folders/7c/r3slh6d1643d1hl26cgzfq5c0000gn/T/ipykernel_54153/4270458896.py:44: FutureWarning: The frame.append method is deprecated and will be removed from pandas in a future version. Use pandas.concat instead.\n",
      "  daySimulation = daySimulation.append(ddfinal)\n"
     ]
    },
    {
     "data": {
      "application/vnd.jupyter.widget-view+json": {
       "model_id": "4d9895e605a54abab5b81083ff023182",
       "version_major": 2,
       "version_minor": 0
      },
      "text/plain": [
       "exporting log, completed traces ::   0%|          | 0/1 [00:00<?, ?it/s]"
      ]
     },
     "metadata": {},
     "output_type": "display_data"
    },
    {
     "name": "stderr",
     "output_type": "stream",
     "text": [
      "/var/folders/7c/r3slh6d1643d1hl26cgzfq5c0000gn/T/ipykernel_54153/4270458896.py:44: FutureWarning: The frame.append method is deprecated and will be removed from pandas in a future version. Use pandas.concat instead.\n",
      "  daySimulation = daySimulation.append(ddfinal)\n"
     ]
    },
    {
     "data": {
      "application/vnd.jupyter.widget-view+json": {
       "model_id": "ecd7bfa1d63c42a987ed1dd81484fac4",
       "version_major": 2,
       "version_minor": 0
      },
      "text/plain": [
       "exporting log, completed traces ::   0%|          | 0/1 [00:00<?, ?it/s]"
      ]
     },
     "metadata": {},
     "output_type": "display_data"
    },
    {
     "name": "stderr",
     "output_type": "stream",
     "text": [
      "/var/folders/7c/r3slh6d1643d1hl26cgzfq5c0000gn/T/ipykernel_54153/4270458896.py:44: FutureWarning: The frame.append method is deprecated and will be removed from pandas in a future version. Use pandas.concat instead.\n",
      "  daySimulation = daySimulation.append(ddfinal)\n"
     ]
    },
    {
     "data": {
      "application/vnd.jupyter.widget-view+json": {
       "model_id": "c693deacd7d942e4ad08ea399b210c71",
       "version_major": 2,
       "version_minor": 0
      },
      "text/plain": [
       "exporting log, completed traces ::   0%|          | 0/1 [00:00<?, ?it/s]"
      ]
     },
     "metadata": {},
     "output_type": "display_data"
    },
    {
     "name": "stderr",
     "output_type": "stream",
     "text": [
      "/var/folders/7c/r3slh6d1643d1hl26cgzfq5c0000gn/T/ipykernel_54153/4270458896.py:44: FutureWarning: The frame.append method is deprecated and will be removed from pandas in a future version. Use pandas.concat instead.\n",
      "  daySimulation = daySimulation.append(ddfinal)\n"
     ]
    },
    {
     "data": {
      "application/vnd.jupyter.widget-view+json": {
       "model_id": "e7dbdc49ad6944fd85860960848defcf",
       "version_major": 2,
       "version_minor": 0
      },
      "text/plain": [
       "exporting log, completed traces ::   0%|          | 0/1 [00:00<?, ?it/s]"
      ]
     },
     "metadata": {},
     "output_type": "display_data"
    },
    {
     "name": "stderr",
     "output_type": "stream",
     "text": [
      "/var/folders/7c/r3slh6d1643d1hl26cgzfq5c0000gn/T/ipykernel_54153/4270458896.py:44: FutureWarning: The frame.append method is deprecated and will be removed from pandas in a future version. Use pandas.concat instead.\n",
      "  daySimulation = daySimulation.append(ddfinal)\n"
     ]
    },
    {
     "data": {
      "application/vnd.jupyter.widget-view+json": {
       "model_id": "e9e97f3a57b542928bcb56dda2c9d7ab",
       "version_major": 2,
       "version_minor": 0
      },
      "text/plain": [
       "exporting log, completed traces ::   0%|          | 0/1 [00:00<?, ?it/s]"
      ]
     },
     "metadata": {},
     "output_type": "display_data"
    },
    {
     "name": "stderr",
     "output_type": "stream",
     "text": [
      "/var/folders/7c/r3slh6d1643d1hl26cgzfq5c0000gn/T/ipykernel_54153/4270458896.py:44: FutureWarning: The frame.append method is deprecated and will be removed from pandas in a future version. Use pandas.concat instead.\n",
      "  daySimulation = daySimulation.append(ddfinal)\n"
     ]
    },
    {
     "data": {
      "application/vnd.jupyter.widget-view+json": {
       "model_id": "56b82c9129334d8795ab6fe7a7496988",
       "version_major": 2,
       "version_minor": 0
      },
      "text/plain": [
       "exporting log, completed traces ::   0%|          | 0/1 [00:00<?, ?it/s]"
      ]
     },
     "metadata": {},
     "output_type": "display_data"
    },
    {
     "name": "stderr",
     "output_type": "stream",
     "text": [
      "/var/folders/7c/r3slh6d1643d1hl26cgzfq5c0000gn/T/ipykernel_54153/4270458896.py:44: FutureWarning: The frame.append method is deprecated and will be removed from pandas in a future version. Use pandas.concat instead.\n",
      "  daySimulation = daySimulation.append(ddfinal)\n"
     ]
    },
    {
     "data": {
      "application/vnd.jupyter.widget-view+json": {
       "model_id": "a84308ac74a44d05b1368437a3b3857e",
       "version_major": 2,
       "version_minor": 0
      },
      "text/plain": [
       "exporting log, completed traces ::   0%|          | 0/1 [00:00<?, ?it/s]"
      ]
     },
     "metadata": {},
     "output_type": "display_data"
    },
    {
     "name": "stderr",
     "output_type": "stream",
     "text": [
      "/var/folders/7c/r3slh6d1643d1hl26cgzfq5c0000gn/T/ipykernel_54153/4270458896.py:44: FutureWarning: The frame.append method is deprecated and will be removed from pandas in a future version. Use pandas.concat instead.\n",
      "  daySimulation = daySimulation.append(ddfinal)\n"
     ]
    },
    {
     "data": {
      "application/vnd.jupyter.widget-view+json": {
       "model_id": "69c6463d13864e579ab64530db22adc4",
       "version_major": 2,
       "version_minor": 0
      },
      "text/plain": [
       "exporting log, completed traces ::   0%|          | 0/1 [00:00<?, ?it/s]"
      ]
     },
     "metadata": {},
     "output_type": "display_data"
    },
    {
     "name": "stderr",
     "output_type": "stream",
     "text": [
      "/var/folders/7c/r3slh6d1643d1hl26cgzfq5c0000gn/T/ipykernel_54153/4270458896.py:44: FutureWarning: The frame.append method is deprecated and will be removed from pandas in a future version. Use pandas.concat instead.\n",
      "  daySimulation = daySimulation.append(ddfinal)\n"
     ]
    },
    {
     "data": {
      "application/vnd.jupyter.widget-view+json": {
       "model_id": "47686eb95bd64760ba652e96198692e1",
       "version_major": 2,
       "version_minor": 0
      },
      "text/plain": [
       "exporting log, completed traces ::   0%|          | 0/1 [00:00<?, ?it/s]"
      ]
     },
     "metadata": {},
     "output_type": "display_data"
    },
    {
     "name": "stderr",
     "output_type": "stream",
     "text": [
      "/var/folders/7c/r3slh6d1643d1hl26cgzfq5c0000gn/T/ipykernel_54153/4270458896.py:44: FutureWarning: The frame.append method is deprecated and will be removed from pandas in a future version. Use pandas.concat instead.\n",
      "  daySimulation = daySimulation.append(ddfinal)\n"
     ]
    },
    {
     "data": {
      "application/vnd.jupyter.widget-view+json": {
       "model_id": "a850723343494da2b93cdf55a76ec9b6",
       "version_major": 2,
       "version_minor": 0
      },
      "text/plain": [
       "exporting log, completed traces ::   0%|          | 0/1 [00:00<?, ?it/s]"
      ]
     },
     "metadata": {},
     "output_type": "display_data"
    },
    {
     "name": "stderr",
     "output_type": "stream",
     "text": [
      "/var/folders/7c/r3slh6d1643d1hl26cgzfq5c0000gn/T/ipykernel_54153/4270458896.py:44: FutureWarning: The frame.append method is deprecated and will be removed from pandas in a future version. Use pandas.concat instead.\n",
      "  daySimulation = daySimulation.append(ddfinal)\n"
     ]
    },
    {
     "data": {
      "application/vnd.jupyter.widget-view+json": {
       "model_id": "c7348b23bbe94a7ea0db435e69fb0eaa",
       "version_major": 2,
       "version_minor": 0
      },
      "text/plain": [
       "exporting log, completed traces ::   0%|          | 0/1 [00:00<?, ?it/s]"
      ]
     },
     "metadata": {},
     "output_type": "display_data"
    },
    {
     "name": "stderr",
     "output_type": "stream",
     "text": [
      "/var/folders/7c/r3slh6d1643d1hl26cgzfq5c0000gn/T/ipykernel_54153/4270458896.py:44: FutureWarning: The frame.append method is deprecated and will be removed from pandas in a future version. Use pandas.concat instead.\n",
      "  daySimulation = daySimulation.append(ddfinal)\n"
     ]
    },
    {
     "data": {
      "application/vnd.jupyter.widget-view+json": {
       "model_id": "53bcd50bf9fb4d6abcebb0f49067f00d",
       "version_major": 2,
       "version_minor": 0
      },
      "text/plain": [
       "exporting log, completed traces ::   0%|          | 0/1 [00:00<?, ?it/s]"
      ]
     },
     "metadata": {},
     "output_type": "display_data"
    },
    {
     "name": "stderr",
     "output_type": "stream",
     "text": [
      "/var/folders/7c/r3slh6d1643d1hl26cgzfq5c0000gn/T/ipykernel_54153/4270458896.py:44: FutureWarning: The frame.append method is deprecated and will be removed from pandas in a future version. Use pandas.concat instead.\n",
      "  daySimulation = daySimulation.append(ddfinal)\n"
     ]
    },
    {
     "data": {
      "application/vnd.jupyter.widget-view+json": {
       "model_id": "37ef0c7d549b4b3eb190e35184c014c0",
       "version_major": 2,
       "version_minor": 0
      },
      "text/plain": [
       "exporting log, completed traces ::   0%|          | 0/1 [00:00<?, ?it/s]"
      ]
     },
     "metadata": {},
     "output_type": "display_data"
    },
    {
     "name": "stderr",
     "output_type": "stream",
     "text": [
      "/var/folders/7c/r3slh6d1643d1hl26cgzfq5c0000gn/T/ipykernel_54153/4270458896.py:44: FutureWarning: The frame.append method is deprecated and will be removed from pandas in a future version. Use pandas.concat instead.\n",
      "  daySimulation = daySimulation.append(ddfinal)\n"
     ]
    },
    {
     "data": {
      "application/vnd.jupyter.widget-view+json": {
       "model_id": "ab92be8eab5149ea9af900dd2b705378",
       "version_major": 2,
       "version_minor": 0
      },
      "text/plain": [
       "exporting log, completed traces ::   0%|          | 0/1 [00:00<?, ?it/s]"
      ]
     },
     "metadata": {},
     "output_type": "display_data"
    },
    {
     "name": "stderr",
     "output_type": "stream",
     "text": [
      "/var/folders/7c/r3slh6d1643d1hl26cgzfq5c0000gn/T/ipykernel_54153/4270458896.py:44: FutureWarning: The frame.append method is deprecated and will be removed from pandas in a future version. Use pandas.concat instead.\n",
      "  daySimulation = daySimulation.append(ddfinal)\n"
     ]
    },
    {
     "data": {
      "application/vnd.jupyter.widget-view+json": {
       "model_id": "2f8d5866a3f4441d8ce146f16f6f46a0",
       "version_major": 2,
       "version_minor": 0
      },
      "text/plain": [
       "exporting log, completed traces ::   0%|          | 0/1 [00:00<?, ?it/s]"
      ]
     },
     "metadata": {},
     "output_type": "display_data"
    },
    {
     "name": "stderr",
     "output_type": "stream",
     "text": [
      "/var/folders/7c/r3slh6d1643d1hl26cgzfq5c0000gn/T/ipykernel_54153/4270458896.py:44: FutureWarning: The frame.append method is deprecated and will be removed from pandas in a future version. Use pandas.concat instead.\n",
      "  daySimulation = daySimulation.append(ddfinal)\n"
     ]
    },
    {
     "data": {
      "application/vnd.jupyter.widget-view+json": {
       "model_id": "e086973691c149ff9351e1e690b82bbd",
       "version_major": 2,
       "version_minor": 0
      },
      "text/plain": [
       "exporting log, completed traces ::   0%|          | 0/1 [00:00<?, ?it/s]"
      ]
     },
     "metadata": {},
     "output_type": "display_data"
    },
    {
     "name": "stderr",
     "output_type": "stream",
     "text": [
      "/var/folders/7c/r3slh6d1643d1hl26cgzfq5c0000gn/T/ipykernel_54153/4270458896.py:44: FutureWarning: The frame.append method is deprecated and will be removed from pandas in a future version. Use pandas.concat instead.\n",
      "  daySimulation = daySimulation.append(ddfinal)\n"
     ]
    },
    {
     "data": {
      "application/vnd.jupyter.widget-view+json": {
       "model_id": "2b40f38da9624b50817e1b1fa6732531",
       "version_major": 2,
       "version_minor": 0
      },
      "text/plain": [
       "exporting log, completed traces ::   0%|          | 0/1 [00:00<?, ?it/s]"
      ]
     },
     "metadata": {},
     "output_type": "display_data"
    },
    {
     "name": "stderr",
     "output_type": "stream",
     "text": [
      "/var/folders/7c/r3slh6d1643d1hl26cgzfq5c0000gn/T/ipykernel_54153/4270458896.py:44: FutureWarning: The frame.append method is deprecated and will be removed from pandas in a future version. Use pandas.concat instead.\n",
      "  daySimulation = daySimulation.append(ddfinal)\n"
     ]
    },
    {
     "data": {
      "application/vnd.jupyter.widget-view+json": {
       "model_id": "220428ac5b9e4251b49f8c4934e20aca",
       "version_major": 2,
       "version_minor": 0
      },
      "text/plain": [
       "exporting log, completed traces ::   0%|          | 0/1 [00:00<?, ?it/s]"
      ]
     },
     "metadata": {},
     "output_type": "display_data"
    },
    {
     "name": "stderr",
     "output_type": "stream",
     "text": [
      "/var/folders/7c/r3slh6d1643d1hl26cgzfq5c0000gn/T/ipykernel_54153/4270458896.py:44: FutureWarning: The frame.append method is deprecated and will be removed from pandas in a future version. Use pandas.concat instead.\n",
      "  daySimulation = daySimulation.append(ddfinal)\n"
     ]
    },
    {
     "data": {
      "application/vnd.jupyter.widget-view+json": {
       "model_id": "99bdfd8868d548edb0e78e1acb961953",
       "version_major": 2,
       "version_minor": 0
      },
      "text/plain": [
       "exporting log, completed traces ::   0%|          | 0/1 [00:00<?, ?it/s]"
      ]
     },
     "metadata": {},
     "output_type": "display_data"
    },
    {
     "name": "stderr",
     "output_type": "stream",
     "text": [
      "/var/folders/7c/r3slh6d1643d1hl26cgzfq5c0000gn/T/ipykernel_54153/4270458896.py:44: FutureWarning: The frame.append method is deprecated and will be removed from pandas in a future version. Use pandas.concat instead.\n",
      "  daySimulation = daySimulation.append(ddfinal)\n"
     ]
    },
    {
     "data": {
      "application/vnd.jupyter.widget-view+json": {
       "model_id": "613587d0476140b69e3d377ac13cc11f",
       "version_major": 2,
       "version_minor": 0
      },
      "text/plain": [
       "exporting log, completed traces ::   0%|          | 0/1 [00:00<?, ?it/s]"
      ]
     },
     "metadata": {},
     "output_type": "display_data"
    },
    {
     "name": "stderr",
     "output_type": "stream",
     "text": [
      "/var/folders/7c/r3slh6d1643d1hl26cgzfq5c0000gn/T/ipykernel_54153/4270458896.py:44: FutureWarning: The frame.append method is deprecated and will be removed from pandas in a future version. Use pandas.concat instead.\n",
      "  daySimulation = daySimulation.append(ddfinal)\n"
     ]
    },
    {
     "data": {
      "application/vnd.jupyter.widget-view+json": {
       "model_id": "c5adbe60b2c04c6697ed54647d8734a5",
       "version_major": 2,
       "version_minor": 0
      },
      "text/plain": [
       "exporting log, completed traces ::   0%|          | 0/1 [00:00<?, ?it/s]"
      ]
     },
     "metadata": {},
     "output_type": "display_data"
    },
    {
     "name": "stderr",
     "output_type": "stream",
     "text": [
      "/var/folders/7c/r3slh6d1643d1hl26cgzfq5c0000gn/T/ipykernel_54153/4270458896.py:44: FutureWarning: The frame.append method is deprecated and will be removed from pandas in a future version. Use pandas.concat instead.\n",
      "  daySimulation = daySimulation.append(ddfinal)\n"
     ]
    },
    {
     "data": {
      "application/vnd.jupyter.widget-view+json": {
       "model_id": "1b8e850b7e894dc9aed2b4fb79724157",
       "version_major": 2,
       "version_minor": 0
      },
      "text/plain": [
       "exporting log, completed traces ::   0%|          | 0/1 [00:00<?, ?it/s]"
      ]
     },
     "metadata": {},
     "output_type": "display_data"
    },
    {
     "name": "stderr",
     "output_type": "stream",
     "text": [
      "/var/folders/7c/r3slh6d1643d1hl26cgzfq5c0000gn/T/ipykernel_54153/4270458896.py:44: FutureWarning: The frame.append method is deprecated and will be removed from pandas in a future version. Use pandas.concat instead.\n",
      "  daySimulation = daySimulation.append(ddfinal)\n"
     ]
    },
    {
     "data": {
      "application/vnd.jupyter.widget-view+json": {
       "model_id": "28480ff0ae89492199cba0d617fc5743",
       "version_major": 2,
       "version_minor": 0
      },
      "text/plain": [
       "exporting log, completed traces ::   0%|          | 0/1 [00:00<?, ?it/s]"
      ]
     },
     "metadata": {},
     "output_type": "display_data"
    },
    {
     "name": "stderr",
     "output_type": "stream",
     "text": [
      "/var/folders/7c/r3slh6d1643d1hl26cgzfq5c0000gn/T/ipykernel_54153/4270458896.py:44: FutureWarning: The frame.append method is deprecated and will be removed from pandas in a future version. Use pandas.concat instead.\n",
      "  daySimulation = daySimulation.append(ddfinal)\n"
     ]
    },
    {
     "data": {
      "application/vnd.jupyter.widget-view+json": {
       "model_id": "975ef0e984e44a168745af235f53fc8d",
       "version_major": 2,
       "version_minor": 0
      },
      "text/plain": [
       "exporting log, completed traces ::   0%|          | 0/1 [00:00<?, ?it/s]"
      ]
     },
     "metadata": {},
     "output_type": "display_data"
    },
    {
     "name": "stderr",
     "output_type": "stream",
     "text": [
      "/var/folders/7c/r3slh6d1643d1hl26cgzfq5c0000gn/T/ipykernel_54153/4270458896.py:44: FutureWarning: The frame.append method is deprecated and will be removed from pandas in a future version. Use pandas.concat instead.\n",
      "  daySimulation = daySimulation.append(ddfinal)\n"
     ]
    },
    {
     "data": {
      "application/vnd.jupyter.widget-view+json": {
       "model_id": "2d1af47fa6614ce49edbb75f26fc6ed0",
       "version_major": 2,
       "version_minor": 0
      },
      "text/plain": [
       "exporting log, completed traces ::   0%|          | 0/1 [00:00<?, ?it/s]"
      ]
     },
     "metadata": {},
     "output_type": "display_data"
    },
    {
     "name": "stderr",
     "output_type": "stream",
     "text": [
      "/var/folders/7c/r3slh6d1643d1hl26cgzfq5c0000gn/T/ipykernel_54153/4270458896.py:44: FutureWarning: The frame.append method is deprecated and will be removed from pandas in a future version. Use pandas.concat instead.\n",
      "  daySimulation = daySimulation.append(ddfinal)\n"
     ]
    },
    {
     "data": {
      "application/vnd.jupyter.widget-view+json": {
       "model_id": "4f45678e329541a1b7ef03e1bb536916",
       "version_major": 2,
       "version_minor": 0
      },
      "text/plain": [
       "exporting log, completed traces ::   0%|          | 0/1 [00:00<?, ?it/s]"
      ]
     },
     "metadata": {},
     "output_type": "display_data"
    },
    {
     "name": "stderr",
     "output_type": "stream",
     "text": [
      "/var/folders/7c/r3slh6d1643d1hl26cgzfq5c0000gn/T/ipykernel_54153/4270458896.py:44: FutureWarning: The frame.append method is deprecated and will be removed from pandas in a future version. Use pandas.concat instead.\n",
      "  daySimulation = daySimulation.append(ddfinal)\n"
     ]
    },
    {
     "data": {
      "application/vnd.jupyter.widget-view+json": {
       "model_id": "ff0fbc2de0c5457c855b302272db08b9",
       "version_major": 2,
       "version_minor": 0
      },
      "text/plain": [
       "exporting log, completed traces ::   0%|          | 0/1 [00:00<?, ?it/s]"
      ]
     },
     "metadata": {},
     "output_type": "display_data"
    },
    {
     "name": "stderr",
     "output_type": "stream",
     "text": [
      "/var/folders/7c/r3slh6d1643d1hl26cgzfq5c0000gn/T/ipykernel_54153/4270458896.py:44: FutureWarning: The frame.append method is deprecated and will be removed from pandas in a future version. Use pandas.concat instead.\n",
      "  daySimulation = daySimulation.append(ddfinal)\n"
     ]
    },
    {
     "data": {
      "application/vnd.jupyter.widget-view+json": {
       "model_id": "31879eb328c84037a5723112d3b779aa",
       "version_major": 2,
       "version_minor": 0
      },
      "text/plain": [
       "exporting log, completed traces ::   0%|          | 0/1 [00:00<?, ?it/s]"
      ]
     },
     "metadata": {},
     "output_type": "display_data"
    },
    {
     "name": "stderr",
     "output_type": "stream",
     "text": [
      "/var/folders/7c/r3slh6d1643d1hl26cgzfq5c0000gn/T/ipykernel_54153/4270458896.py:44: FutureWarning: The frame.append method is deprecated and will be removed from pandas in a future version. Use pandas.concat instead.\n",
      "  daySimulation = daySimulation.append(ddfinal)\n"
     ]
    },
    {
     "data": {
      "application/vnd.jupyter.widget-view+json": {
       "model_id": "b7a51528fd064decbab05e6f25153d32",
       "version_major": 2,
       "version_minor": 0
      },
      "text/plain": [
       "exporting log, completed traces ::   0%|          | 0/1 [00:00<?, ?it/s]"
      ]
     },
     "metadata": {},
     "output_type": "display_data"
    },
    {
     "name": "stderr",
     "output_type": "stream",
     "text": [
      "/var/folders/7c/r3slh6d1643d1hl26cgzfq5c0000gn/T/ipykernel_54153/4270458896.py:44: FutureWarning: The frame.append method is deprecated and will be removed from pandas in a future version. Use pandas.concat instead.\n",
      "  daySimulation = daySimulation.append(ddfinal)\n"
     ]
    },
    {
     "data": {
      "application/vnd.jupyter.widget-view+json": {
       "model_id": "a085e9d9099b44cdbbe471eaf41cee28",
       "version_major": 2,
       "version_minor": 0
      },
      "text/plain": [
       "exporting log, completed traces ::   0%|          | 0/1 [00:00<?, ?it/s]"
      ]
     },
     "metadata": {},
     "output_type": "display_data"
    },
    {
     "name": "stderr",
     "output_type": "stream",
     "text": [
      "/var/folders/7c/r3slh6d1643d1hl26cgzfq5c0000gn/T/ipykernel_54153/4270458896.py:44: FutureWarning: The frame.append method is deprecated and will be removed from pandas in a future version. Use pandas.concat instead.\n",
      "  daySimulation = daySimulation.append(ddfinal)\n"
     ]
    },
    {
     "data": {
      "application/vnd.jupyter.widget-view+json": {
       "model_id": "b5c3bd26d9254cee82891e9f501b507c",
       "version_major": 2,
       "version_minor": 0
      },
      "text/plain": [
       "exporting log, completed traces ::   0%|          | 0/1 [00:00<?, ?it/s]"
      ]
     },
     "metadata": {},
     "output_type": "display_data"
    },
    {
     "name": "stderr",
     "output_type": "stream",
     "text": [
      "/var/folders/7c/r3slh6d1643d1hl26cgzfq5c0000gn/T/ipykernel_54153/4270458896.py:44: FutureWarning: The frame.append method is deprecated and will be removed from pandas in a future version. Use pandas.concat instead.\n",
      "  daySimulation = daySimulation.append(ddfinal)\n"
     ]
    },
    {
     "data": {
      "application/vnd.jupyter.widget-view+json": {
       "model_id": "77b760a89cc84fcf913796a18cba76bd",
       "version_major": 2,
       "version_minor": 0
      },
      "text/plain": [
       "exporting log, completed traces ::   0%|          | 0/1 [00:00<?, ?it/s]"
      ]
     },
     "metadata": {},
     "output_type": "display_data"
    },
    {
     "name": "stderr",
     "output_type": "stream",
     "text": [
      "/var/folders/7c/r3slh6d1643d1hl26cgzfq5c0000gn/T/ipykernel_54153/4270458896.py:44: FutureWarning: The frame.append method is deprecated and will be removed from pandas in a future version. Use pandas.concat instead.\n",
      "  daySimulation = daySimulation.append(ddfinal)\n"
     ]
    },
    {
     "data": {
      "application/vnd.jupyter.widget-view+json": {
       "model_id": "c0b8b6654630428682ad11d568f4041f",
       "version_major": 2,
       "version_minor": 0
      },
      "text/plain": [
       "exporting log, completed traces ::   0%|          | 0/1 [00:00<?, ?it/s]"
      ]
     },
     "metadata": {},
     "output_type": "display_data"
    },
    {
     "name": "stderr",
     "output_type": "stream",
     "text": [
      "/var/folders/7c/r3slh6d1643d1hl26cgzfq5c0000gn/T/ipykernel_54153/4270458896.py:44: FutureWarning: The frame.append method is deprecated and will be removed from pandas in a future version. Use pandas.concat instead.\n",
      "  daySimulation = daySimulation.append(ddfinal)\n"
     ]
    },
    {
     "data": {
      "application/vnd.jupyter.widget-view+json": {
       "model_id": "3f4d377fdf0642fe9311e08708d91df0",
       "version_major": 2,
       "version_minor": 0
      },
      "text/plain": [
       "exporting log, completed traces ::   0%|          | 0/1 [00:00<?, ?it/s]"
      ]
     },
     "metadata": {},
     "output_type": "display_data"
    },
    {
     "name": "stderr",
     "output_type": "stream",
     "text": [
      "/var/folders/7c/r3slh6d1643d1hl26cgzfq5c0000gn/T/ipykernel_54153/4270458896.py:44: FutureWarning: The frame.append method is deprecated and will be removed from pandas in a future version. Use pandas.concat instead.\n",
      "  daySimulation = daySimulation.append(ddfinal)\n"
     ]
    },
    {
     "data": {
      "application/vnd.jupyter.widget-view+json": {
       "model_id": "3368cf3ec5f2444b8dd57a4e260b0c28",
       "version_major": 2,
       "version_minor": 0
      },
      "text/plain": [
       "exporting log, completed traces ::   0%|          | 0/1 [00:00<?, ?it/s]"
      ]
     },
     "metadata": {},
     "output_type": "display_data"
    },
    {
     "name": "stderr",
     "output_type": "stream",
     "text": [
      "/var/folders/7c/r3slh6d1643d1hl26cgzfq5c0000gn/T/ipykernel_54153/4270458896.py:44: FutureWarning: The frame.append method is deprecated and will be removed from pandas in a future version. Use pandas.concat instead.\n",
      "  daySimulation = daySimulation.append(ddfinal)\n"
     ]
    },
    {
     "data": {
      "application/vnd.jupyter.widget-view+json": {
       "model_id": "30faf3f1504e421e84c3b5e47ccaec22",
       "version_major": 2,
       "version_minor": 0
      },
      "text/plain": [
       "exporting log, completed traces ::   0%|          | 0/1 [00:00<?, ?it/s]"
      ]
     },
     "metadata": {},
     "output_type": "display_data"
    },
    {
     "name": "stderr",
     "output_type": "stream",
     "text": [
      "/var/folders/7c/r3slh6d1643d1hl26cgzfq5c0000gn/T/ipykernel_54153/4270458896.py:44: FutureWarning: The frame.append method is deprecated and will be removed from pandas in a future version. Use pandas.concat instead.\n",
      "  daySimulation = daySimulation.append(ddfinal)\n"
     ]
    },
    {
     "data": {
      "application/vnd.jupyter.widget-view+json": {
       "model_id": "44b989707b8d45148cf5e1a62107bcf4",
       "version_major": 2,
       "version_minor": 0
      },
      "text/plain": [
       "exporting log, completed traces ::   0%|          | 0/56 [00:00<?, ?it/s]"
      ]
     },
     "metadata": {},
     "output_type": "display_data"
    },
    {
     "data": {
      "application/vnd.jupyter.widget-view+json": {
       "model_id": "f5995bb7b0fc40c5bfb966c62d9e31fa",
       "version_major": 2,
       "version_minor": 0
      },
      "text/plain": [
       "exporting log, completed traces ::   0%|          | 0/1 [00:00<?, ?it/s]"
      ]
     },
     "metadata": {},
     "output_type": "display_data"
    },
    {
     "name": "stderr",
     "output_type": "stream",
     "text": [
      "/var/folders/7c/r3slh6d1643d1hl26cgzfq5c0000gn/T/ipykernel_54153/4270458896.py:44: FutureWarning: The frame.append method is deprecated and will be removed from pandas in a future version. Use pandas.concat instead.\n",
      "  daySimulation = daySimulation.append(ddfinal)\n"
     ]
    },
    {
     "data": {
      "application/vnd.jupyter.widget-view+json": {
       "model_id": "710c4bdf35cf42d082b3ab5395c1b908",
       "version_major": 2,
       "version_minor": 0
      },
      "text/plain": [
       "exporting log, completed traces ::   0%|          | 0/1 [00:00<?, ?it/s]"
      ]
     },
     "metadata": {},
     "output_type": "display_data"
    },
    {
     "name": "stderr",
     "output_type": "stream",
     "text": [
      "/var/folders/7c/r3slh6d1643d1hl26cgzfq5c0000gn/T/ipykernel_54153/4270458896.py:44: FutureWarning: The frame.append method is deprecated and will be removed from pandas in a future version. Use pandas.concat instead.\n",
      "  daySimulation = daySimulation.append(ddfinal)\n"
     ]
    },
    {
     "data": {
      "application/vnd.jupyter.widget-view+json": {
       "model_id": "683ff76753f743afa6b80500c814db4d",
       "version_major": 2,
       "version_minor": 0
      },
      "text/plain": [
       "exporting log, completed traces ::   0%|          | 0/1 [00:00<?, ?it/s]"
      ]
     },
     "metadata": {},
     "output_type": "display_data"
    },
    {
     "name": "stderr",
     "output_type": "stream",
     "text": [
      "/var/folders/7c/r3slh6d1643d1hl26cgzfq5c0000gn/T/ipykernel_54153/4270458896.py:44: FutureWarning: The frame.append method is deprecated and will be removed from pandas in a future version. Use pandas.concat instead.\n",
      "  daySimulation = daySimulation.append(ddfinal)\n"
     ]
    },
    {
     "data": {
      "application/vnd.jupyter.widget-view+json": {
       "model_id": "4555efdbfacc4b0f95d76b1c7c6bc24d",
       "version_major": 2,
       "version_minor": 0
      },
      "text/plain": [
       "exporting log, completed traces ::   0%|          | 0/1 [00:00<?, ?it/s]"
      ]
     },
     "metadata": {},
     "output_type": "display_data"
    },
    {
     "name": "stderr",
     "output_type": "stream",
     "text": [
      "/var/folders/7c/r3slh6d1643d1hl26cgzfq5c0000gn/T/ipykernel_54153/4270458896.py:44: FutureWarning: The frame.append method is deprecated and will be removed from pandas in a future version. Use pandas.concat instead.\n",
      "  daySimulation = daySimulation.append(ddfinal)\n"
     ]
    },
    {
     "data": {
      "application/vnd.jupyter.widget-view+json": {
       "model_id": "71fe541229fd485b90016ebbd0193ffd",
       "version_major": 2,
       "version_minor": 0
      },
      "text/plain": [
       "exporting log, completed traces ::   0%|          | 0/1 [00:00<?, ?it/s]"
      ]
     },
     "metadata": {},
     "output_type": "display_data"
    },
    {
     "name": "stderr",
     "output_type": "stream",
     "text": [
      "/var/folders/7c/r3slh6d1643d1hl26cgzfq5c0000gn/T/ipykernel_54153/4270458896.py:44: FutureWarning: The frame.append method is deprecated and will be removed from pandas in a future version. Use pandas.concat instead.\n",
      "  daySimulation = daySimulation.append(ddfinal)\n"
     ]
    },
    {
     "data": {
      "application/vnd.jupyter.widget-view+json": {
       "model_id": "5fc7581536314efb8063f6d1f56609e2",
       "version_major": 2,
       "version_minor": 0
      },
      "text/plain": [
       "exporting log, completed traces ::   0%|          | 0/1 [00:00<?, ?it/s]"
      ]
     },
     "metadata": {},
     "output_type": "display_data"
    },
    {
     "name": "stderr",
     "output_type": "stream",
     "text": [
      "/var/folders/7c/r3slh6d1643d1hl26cgzfq5c0000gn/T/ipykernel_54153/4270458896.py:44: FutureWarning: The frame.append method is deprecated and will be removed from pandas in a future version. Use pandas.concat instead.\n",
      "  daySimulation = daySimulation.append(ddfinal)\n"
     ]
    },
    {
     "data": {
      "application/vnd.jupyter.widget-view+json": {
       "model_id": "af83d94f84934df0b7393cb859388f2d",
       "version_major": 2,
       "version_minor": 0
      },
      "text/plain": [
       "exporting log, completed traces ::   0%|          | 0/1 [00:00<?, ?it/s]"
      ]
     },
     "metadata": {},
     "output_type": "display_data"
    },
    {
     "name": "stderr",
     "output_type": "stream",
     "text": [
      "/var/folders/7c/r3slh6d1643d1hl26cgzfq5c0000gn/T/ipykernel_54153/4270458896.py:44: FutureWarning: The frame.append method is deprecated and will be removed from pandas in a future version. Use pandas.concat instead.\n",
      "  daySimulation = daySimulation.append(ddfinal)\n"
     ]
    },
    {
     "data": {
      "application/vnd.jupyter.widget-view+json": {
       "model_id": "da21929dd966497a8c905d8bf90d5bc9",
       "version_major": 2,
       "version_minor": 0
      },
      "text/plain": [
       "exporting log, completed traces ::   0%|          | 0/7 [00:00<?, ?it/s]"
      ]
     },
     "metadata": {},
     "output_type": "display_data"
    },
    {
     "data": {
      "application/vnd.jupyter.widget-view+json": {
       "model_id": "07b32af594a24c8692f6cd5ff2d6e2e5",
       "version_major": 2,
       "version_minor": 0
      },
      "text/plain": [
       "exporting log, completed traces ::   0%|          | 0/1 [00:00<?, ?it/s]"
      ]
     },
     "metadata": {},
     "output_type": "display_data"
    },
    {
     "name": "stderr",
     "output_type": "stream",
     "text": [
      "/var/folders/7c/r3slh6d1643d1hl26cgzfq5c0000gn/T/ipykernel_54153/4270458896.py:44: FutureWarning: The frame.append method is deprecated and will be removed from pandas in a future version. Use pandas.concat instead.\n",
      "  daySimulation = daySimulation.append(ddfinal)\n"
     ]
    },
    {
     "data": {
      "application/vnd.jupyter.widget-view+json": {
       "model_id": "2eab718d16564570889470b29187378d",
       "version_major": 2,
       "version_minor": 0
      },
      "text/plain": [
       "exporting log, completed traces ::   0%|          | 0/1 [00:00<?, ?it/s]"
      ]
     },
     "metadata": {},
     "output_type": "display_data"
    },
    {
     "name": "stderr",
     "output_type": "stream",
     "text": [
      "/var/folders/7c/r3slh6d1643d1hl26cgzfq5c0000gn/T/ipykernel_54153/4270458896.py:44: FutureWarning: The frame.append method is deprecated and will be removed from pandas in a future version. Use pandas.concat instead.\n",
      "  daySimulation = daySimulation.append(ddfinal)\n"
     ]
    },
    {
     "data": {
      "application/vnd.jupyter.widget-view+json": {
       "model_id": "3b80e2829b914baa8b338757daf48362",
       "version_major": 2,
       "version_minor": 0
      },
      "text/plain": [
       "exporting log, completed traces ::   0%|          | 0/1 [00:00<?, ?it/s]"
      ]
     },
     "metadata": {},
     "output_type": "display_data"
    },
    {
     "name": "stderr",
     "output_type": "stream",
     "text": [
      "/var/folders/7c/r3slh6d1643d1hl26cgzfq5c0000gn/T/ipykernel_54153/4270458896.py:44: FutureWarning: The frame.append method is deprecated and will be removed from pandas in a future version. Use pandas.concat instead.\n",
      "  daySimulation = daySimulation.append(ddfinal)\n"
     ]
    },
    {
     "data": {
      "application/vnd.jupyter.widget-view+json": {
       "model_id": "c771f93a601a48bf9bdc1bddbbad9ce2",
       "version_major": 2,
       "version_minor": 0
      },
      "text/plain": [
       "exporting log, completed traces ::   0%|          | 0/1 [00:00<?, ?it/s]"
      ]
     },
     "metadata": {},
     "output_type": "display_data"
    },
    {
     "name": "stderr",
     "output_type": "stream",
     "text": [
      "/var/folders/7c/r3slh6d1643d1hl26cgzfq5c0000gn/T/ipykernel_54153/4270458896.py:44: FutureWarning: The frame.append method is deprecated and will be removed from pandas in a future version. Use pandas.concat instead.\n",
      "  daySimulation = daySimulation.append(ddfinal)\n"
     ]
    },
    {
     "data": {
      "application/vnd.jupyter.widget-view+json": {
       "model_id": "22cf1d6fd72c4e1fb341f73bc42cfb96",
       "version_major": 2,
       "version_minor": 0
      },
      "text/plain": [
       "exporting log, completed traces ::   0%|          | 0/1 [00:00<?, ?it/s]"
      ]
     },
     "metadata": {},
     "output_type": "display_data"
    },
    {
     "name": "stderr",
     "output_type": "stream",
     "text": [
      "/var/folders/7c/r3slh6d1643d1hl26cgzfq5c0000gn/T/ipykernel_54153/4270458896.py:44: FutureWarning: The frame.append method is deprecated and will be removed from pandas in a future version. Use pandas.concat instead.\n",
      "  daySimulation = daySimulation.append(ddfinal)\n"
     ]
    },
    {
     "data": {
      "application/vnd.jupyter.widget-view+json": {
       "model_id": "778dbc56619b4af293eda0f321dcb68c",
       "version_major": 2,
       "version_minor": 0
      },
      "text/plain": [
       "exporting log, completed traces ::   0%|          | 0/1 [00:00<?, ?it/s]"
      ]
     },
     "metadata": {},
     "output_type": "display_data"
    },
    {
     "name": "stderr",
     "output_type": "stream",
     "text": [
      "/var/folders/7c/r3slh6d1643d1hl26cgzfq5c0000gn/T/ipykernel_54153/4270458896.py:44: FutureWarning: The frame.append method is deprecated and will be removed from pandas in a future version. Use pandas.concat instead.\n",
      "  daySimulation = daySimulation.append(ddfinal)\n"
     ]
    },
    {
     "data": {
      "application/vnd.jupyter.widget-view+json": {
       "model_id": "784c9ccc47834fecae3cc7a3e6c63e5b",
       "version_major": 2,
       "version_minor": 0
      },
      "text/plain": [
       "exporting log, completed traces ::   0%|          | 0/1 [00:00<?, ?it/s]"
      ]
     },
     "metadata": {},
     "output_type": "display_data"
    },
    {
     "name": "stderr",
     "output_type": "stream",
     "text": [
      "/var/folders/7c/r3slh6d1643d1hl26cgzfq5c0000gn/T/ipykernel_54153/4270458896.py:44: FutureWarning: The frame.append method is deprecated and will be removed from pandas in a future version. Use pandas.concat instead.\n",
      "  daySimulation = daySimulation.append(ddfinal)\n"
     ]
    },
    {
     "data": {
      "application/vnd.jupyter.widget-view+json": {
       "model_id": "05a047456f244007b01ab68cecf3bfe9",
       "version_major": 2,
       "version_minor": 0
      },
      "text/plain": [
       "exporting log, completed traces ::   0%|          | 0/7 [00:00<?, ?it/s]"
      ]
     },
     "metadata": {},
     "output_type": "display_data"
    },
    {
     "data": {
      "application/vnd.jupyter.widget-view+json": {
       "model_id": "a182851cdb69424ca6252696bd61024e",
       "version_major": 2,
       "version_minor": 0
      },
      "text/plain": [
       "exporting log, completed traces ::   0%|          | 0/1 [00:00<?, ?it/s]"
      ]
     },
     "metadata": {},
     "output_type": "display_data"
    },
    {
     "name": "stderr",
     "output_type": "stream",
     "text": [
      "/var/folders/7c/r3slh6d1643d1hl26cgzfq5c0000gn/T/ipykernel_54153/2328106257.py:41: FutureWarning: The frame.append method is deprecated and will be removed from pandas in a future version. Use pandas.concat instead.\n",
      "  daySimulation = daySimulation.append(ddfinal)\n"
     ]
    },
    {
     "data": {
      "application/vnd.jupyter.widget-view+json": {
       "model_id": "49aadcedc30e44ab83341d96efcdf374",
       "version_major": 2,
       "version_minor": 0
      },
      "text/plain": [
       "exporting log, completed traces ::   0%|          | 0/1 [00:00<?, ?it/s]"
      ]
     },
     "metadata": {},
     "output_type": "display_data"
    },
    {
     "name": "stderr",
     "output_type": "stream",
     "text": [
      "/var/folders/7c/r3slh6d1643d1hl26cgzfq5c0000gn/T/ipykernel_54153/2328106257.py:41: FutureWarning: The frame.append method is deprecated and will be removed from pandas in a future version. Use pandas.concat instead.\n",
      "  daySimulation = daySimulation.append(ddfinal)\n"
     ]
    },
    {
     "data": {
      "application/vnd.jupyter.widget-view+json": {
       "model_id": "b5f5f3b3fb894f3b8c88b6b7eab51574",
       "version_major": 2,
       "version_minor": 0
      },
      "text/plain": [
       "exporting log, completed traces ::   0%|          | 0/1 [00:00<?, ?it/s]"
      ]
     },
     "metadata": {},
     "output_type": "display_data"
    },
    {
     "name": "stderr",
     "output_type": "stream",
     "text": [
      "/var/folders/7c/r3slh6d1643d1hl26cgzfq5c0000gn/T/ipykernel_54153/2328106257.py:41: FutureWarning: The frame.append method is deprecated and will be removed from pandas in a future version. Use pandas.concat instead.\n",
      "  daySimulation = daySimulation.append(ddfinal)\n"
     ]
    },
    {
     "data": {
      "application/vnd.jupyter.widget-view+json": {
       "model_id": "34676219305f4d34950eb3d4c964b5f6",
       "version_major": 2,
       "version_minor": 0
      },
      "text/plain": [
       "exporting log, completed traces ::   0%|          | 0/1 [00:00<?, ?it/s]"
      ]
     },
     "metadata": {},
     "output_type": "display_data"
    },
    {
     "name": "stderr",
     "output_type": "stream",
     "text": [
      "/var/folders/7c/r3slh6d1643d1hl26cgzfq5c0000gn/T/ipykernel_54153/2328106257.py:41: FutureWarning: The frame.append method is deprecated and will be removed from pandas in a future version. Use pandas.concat instead.\n",
      "  daySimulation = daySimulation.append(ddfinal)\n"
     ]
    },
    {
     "data": {
      "application/vnd.jupyter.widget-view+json": {
       "model_id": "ec5ee018370c4e4f99c80451457d3f1b",
       "version_major": 2,
       "version_minor": 0
      },
      "text/plain": [
       "exporting log, completed traces ::   0%|          | 0/1 [00:00<?, ?it/s]"
      ]
     },
     "metadata": {},
     "output_type": "display_data"
    },
    {
     "name": "stderr",
     "output_type": "stream",
     "text": [
      "/var/folders/7c/r3slh6d1643d1hl26cgzfq5c0000gn/T/ipykernel_54153/2328106257.py:41: FutureWarning: The frame.append method is deprecated and will be removed from pandas in a future version. Use pandas.concat instead.\n",
      "  daySimulation = daySimulation.append(ddfinal)\n"
     ]
    },
    {
     "data": {
      "application/vnd.jupyter.widget-view+json": {
       "model_id": "9479d30cd7e141deb288cf0f1e62a977",
       "version_major": 2,
       "version_minor": 0
      },
      "text/plain": [
       "exporting log, completed traces ::   0%|          | 0/1 [00:00<?, ?it/s]"
      ]
     },
     "metadata": {},
     "output_type": "display_data"
    },
    {
     "name": "stderr",
     "output_type": "stream",
     "text": [
      "/var/folders/7c/r3slh6d1643d1hl26cgzfq5c0000gn/T/ipykernel_54153/2328106257.py:41: FutureWarning: The frame.append method is deprecated and will be removed from pandas in a future version. Use pandas.concat instead.\n",
      "  daySimulation = daySimulation.append(ddfinal)\n"
     ]
    },
    {
     "data": {
      "application/vnd.jupyter.widget-view+json": {
       "model_id": "9f22213055be43e2828816702a9411b7",
       "version_major": 2,
       "version_minor": 0
      },
      "text/plain": [
       "exporting log, completed traces ::   0%|          | 0/1 [00:00<?, ?it/s]"
      ]
     },
     "metadata": {},
     "output_type": "display_data"
    },
    {
     "name": "stderr",
     "output_type": "stream",
     "text": [
      "/var/folders/7c/r3slh6d1643d1hl26cgzfq5c0000gn/T/ipykernel_54153/2328106257.py:41: FutureWarning: The frame.append method is deprecated and will be removed from pandas in a future version. Use pandas.concat instead.\n",
      "  daySimulation = daySimulation.append(ddfinal)\n"
     ]
    },
    {
     "data": {
      "application/vnd.jupyter.widget-view+json": {
       "model_id": "621f9edaa5c14814b7ad252f200585ad",
       "version_major": 2,
       "version_minor": 0
      },
      "text/plain": [
       "exporting log, completed traces ::   0%|          | 0/7 [00:00<?, ?it/s]"
      ]
     },
     "metadata": {},
     "output_type": "display_data"
    },
    {
     "data": {
      "application/vnd.jupyter.widget-view+json": {
       "model_id": "db27f48e05c943afbc88e32eb39a12b3",
       "version_major": 2,
       "version_minor": 0
      },
      "text/plain": [
       "exporting log, completed traces ::   0%|          | 0/1 [00:00<?, ?it/s]"
      ]
     },
     "metadata": {},
     "output_type": "display_data"
    },
    {
     "name": "stderr",
     "output_type": "stream",
     "text": [
      "/var/folders/7c/r3slh6d1643d1hl26cgzfq5c0000gn/T/ipykernel_54153/2328106257.py:41: FutureWarning: The frame.append method is deprecated and will be removed from pandas in a future version. Use pandas.concat instead.\n",
      "  daySimulation = daySimulation.append(ddfinal)\n"
     ]
    },
    {
     "data": {
      "application/vnd.jupyter.widget-view+json": {
       "model_id": "be3c431522794cedb057d9459a4bb98c",
       "version_major": 2,
       "version_minor": 0
      },
      "text/plain": [
       "exporting log, completed traces ::   0%|          | 0/1 [00:00<?, ?it/s]"
      ]
     },
     "metadata": {},
     "output_type": "display_data"
    },
    {
     "name": "stderr",
     "output_type": "stream",
     "text": [
      "/var/folders/7c/r3slh6d1643d1hl26cgzfq5c0000gn/T/ipykernel_54153/2328106257.py:41: FutureWarning: The frame.append method is deprecated and will be removed from pandas in a future version. Use pandas.concat instead.\n",
      "  daySimulation = daySimulation.append(ddfinal)\n"
     ]
    },
    {
     "data": {
      "application/vnd.jupyter.widget-view+json": {
       "model_id": "0f9f323d0c264d9bb78fcb7d92129bf9",
       "version_major": 2,
       "version_minor": 0
      },
      "text/plain": [
       "exporting log, completed traces ::   0%|          | 0/1 [00:00<?, ?it/s]"
      ]
     },
     "metadata": {},
     "output_type": "display_data"
    },
    {
     "name": "stderr",
     "output_type": "stream",
     "text": [
      "/var/folders/7c/r3slh6d1643d1hl26cgzfq5c0000gn/T/ipykernel_54153/2328106257.py:41: FutureWarning: The frame.append method is deprecated and will be removed from pandas in a future version. Use pandas.concat instead.\n",
      "  daySimulation = daySimulation.append(ddfinal)\n"
     ]
    },
    {
     "data": {
      "application/vnd.jupyter.widget-view+json": {
       "model_id": "de66aa4ef0d3416f93ae3cb8e65d7d05",
       "version_major": 2,
       "version_minor": 0
      },
      "text/plain": [
       "exporting log, completed traces ::   0%|          | 0/1 [00:00<?, ?it/s]"
      ]
     },
     "metadata": {},
     "output_type": "display_data"
    },
    {
     "name": "stderr",
     "output_type": "stream",
     "text": [
      "/var/folders/7c/r3slh6d1643d1hl26cgzfq5c0000gn/T/ipykernel_54153/2328106257.py:41: FutureWarning: The frame.append method is deprecated and will be removed from pandas in a future version. Use pandas.concat instead.\n",
      "  daySimulation = daySimulation.append(ddfinal)\n"
     ]
    },
    {
     "data": {
      "application/vnd.jupyter.widget-view+json": {
       "model_id": "a8f3802d07f44bd1975349febcc6d5a7",
       "version_major": 2,
       "version_minor": 0
      },
      "text/plain": [
       "exporting log, completed traces ::   0%|          | 0/1 [00:00<?, ?it/s]"
      ]
     },
     "metadata": {},
     "output_type": "display_data"
    },
    {
     "name": "stderr",
     "output_type": "stream",
     "text": [
      "/var/folders/7c/r3slh6d1643d1hl26cgzfq5c0000gn/T/ipykernel_54153/2328106257.py:41: FutureWarning: The frame.append method is deprecated and will be removed from pandas in a future version. Use pandas.concat instead.\n",
      "  daySimulation = daySimulation.append(ddfinal)\n"
     ]
    },
    {
     "data": {
      "application/vnd.jupyter.widget-view+json": {
       "model_id": "c23981fa7d4149108c8ccbdcef70de95",
       "version_major": 2,
       "version_minor": 0
      },
      "text/plain": [
       "exporting log, completed traces ::   0%|          | 0/1 [00:00<?, ?it/s]"
      ]
     },
     "metadata": {},
     "output_type": "display_data"
    },
    {
     "name": "stderr",
     "output_type": "stream",
     "text": [
      "/var/folders/7c/r3slh6d1643d1hl26cgzfq5c0000gn/T/ipykernel_54153/2328106257.py:41: FutureWarning: The frame.append method is deprecated and will be removed from pandas in a future version. Use pandas.concat instead.\n",
      "  daySimulation = daySimulation.append(ddfinal)\n"
     ]
    },
    {
     "data": {
      "application/vnd.jupyter.widget-view+json": {
       "model_id": "35aa284cb4394d0fbfc037d3266e6e6d",
       "version_major": 2,
       "version_minor": 0
      },
      "text/plain": [
       "exporting log, completed traces ::   0%|          | 0/1 [00:00<?, ?it/s]"
      ]
     },
     "metadata": {},
     "output_type": "display_data"
    },
    {
     "name": "stderr",
     "output_type": "stream",
     "text": [
      "/var/folders/7c/r3slh6d1643d1hl26cgzfq5c0000gn/T/ipykernel_54153/2328106257.py:41: FutureWarning: The frame.append method is deprecated and will be removed from pandas in a future version. Use pandas.concat instead.\n",
      "  daySimulation = daySimulation.append(ddfinal)\n"
     ]
    },
    {
     "data": {
      "application/vnd.jupyter.widget-view+json": {
       "model_id": "82af50cf788945f5a1a245579db3de90",
       "version_major": 2,
       "version_minor": 0
      },
      "text/plain": [
       "exporting log, completed traces ::   0%|          | 0/7 [00:00<?, ?it/s]"
      ]
     },
     "metadata": {},
     "output_type": "display_data"
    }
   ],
   "source": [
    "createEventLog3A(56, 'Evening3A.xes')\n",
    "\n",
    "createEventLog3A(7, 'Evening3Ap.xes')\n",
    "createEventLog3A(7, 'Evening3Ap2.xes')\n",
    "\n",
    "createEventLog3B(7, 'Evening3B.xes')\n",
    "createEventLog3B(7, 'Evening3B2.xes')"
   ]
  },
  {
   "cell_type": "markdown",
   "id": "f5544193",
   "metadata": {},
   "source": [
    "#### Anton & Yinggang\n",
    "This repository is a part of our master's thesis project at DTU in the spring of 2022.\\\n",
    "The following items are available:\n",
    "\n",
    "* Script\n",
    "  * some\n",
    "* Notebooks\n",
    "* Applications\n",
    "* Use cases\n",
    "* Thesis\n",
    "\n",
    "For further information, please contact us:\\\n",
    "Anton Freyr A"
   ]
  },
  {
   "cell_type": "markdown",
   "id": "challenging-windsor",
   "metadata": {},
   "source": [
    "# ------------------------------"
   ]
  }
 ],
 "metadata": {
  "kernelspec": {
   "display_name": "Python 3 (ipykernel)",
   "language": "python",
   "name": "python3"
  },
  "language_info": {
   "codemirror_mode": {
    "name": "ipython",
    "version": 3
   },
   "file_extension": ".py",
   "mimetype": "text/x-python",
   "name": "python",
   "nbconvert_exporter": "python",
   "pygments_lexer": "ipython3",
   "version": "3.9.12"
  }
 },
 "nbformat": 4,
 "nbformat_minor": 5
}
