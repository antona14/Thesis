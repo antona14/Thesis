{
 "cells": [
  {
   "cell_type": "code",
   "execution_count": 70,
   "id": "southeast-variety",
   "metadata": {},
   "outputs": [],
   "source": [
    "import random\n",
    "from datetime import datetime, date, timedelta\n",
    "import pandas as pd\n",
    "import itertools\n",
    "import json\n",
    "import numpy\n",
    "import pm4py\n",
    "import os\n",
    "import functools"
   ]
  },
  {
   "cell_type": "code",
   "execution_count": 71,
   "id": "recognized-brown",
   "metadata": {},
   "outputs": [],
   "source": [
    "def getRandomTime(min_x, max_x, duration, start_time):\n",
    "    if type(start_time) == type('a'):\n",
    "        start_time = datetime.strptime(start_time, \"%Y-%m-%d %H:%M:%S:%f\")\n",
    "    random_duration = start_time + timedelta(minutes=duration)\n",
    "    return (random_duration.strftime('%Y-%m-%d %H:%M:%S:%f'), duration)"
   ]
  },
  {
   "cell_type": "code",
   "execution_count": 72,
   "id": "fleet-british",
   "metadata": {},
   "outputs": [],
   "source": [
    "def calculateDuration(df, start_time):\n",
    "    for index, row in df.iterrows():\n",
    "        if index != 0:\n",
    "            previous = df.loc[index -1, \"End_time\"]\n",
    "            a = getRandomTime(row[\"Min\"],row[\"Max\"], row[\"Duration\"], previous)\n",
    "            df.at[index, \"start_time\"] = previous\n",
    "            df.at[index, \"End_time\"] = datetime.strptime(a[0], \"%Y-%m-%d %H:%M:%S:%f\")\n",
    "            df.at[index, \"Duration\"] = a[1]\n",
    "        else:\n",
    "            a = getRandomTime(row[\"Min\"],row[\"Max\"], row[\"Duration\"], start_time)\n",
    "            df.at[index, \"start_time\"] = datetime.strptime(start_time.strftime('%Y-%m-%d %H:%M:%S:%f'), \"%Y-%m-%d %H:%M:%S:%f\")\n",
    "            df.at[index, \"End_time\"] = datetime.strptime(a[0], \"%Y-%m-%d %H:%M:%S:%f\")\n",
    "            df.at[index, \"Duration\"] = a[1]\n",
    "    return(df)"
   ]
  },
  {
   "cell_type": "code",
   "execution_count": 73,
   "id": "relevant-batch",
   "metadata": {},
   "outputs": [],
   "source": [
    "# Each Activity have 3 properties: Activity, minimum time, maximum time\n",
    "\n",
    "def EnterStore():\n",
    "    return ['Enter store', '00:15:00:00','00:40:00:00']\n",
    "\n",
    "def EnterStore3B():\n",
    "    return ['Enter store', '00:15:00:00','01:00:00:00']"
   ]
  },
  {
   "cell_type": "code",
   "execution_count": 74,
   "id": "supported-plant",
   "metadata": {},
   "outputs": [],
   "source": [
    "def Pick():\n",
    "    return ['Pick', '00:15:00:00', '00:30:00:00']\n",
    " \n",
    "def Pick3B():\n",
    "    return ['Pick', '00:00:00:00', '01:00:00:00']"
   ]
  },
  {
   "cell_type": "code",
   "execution_count": 75,
   "id": "human-minnesota",
   "metadata": {},
   "outputs": [],
   "source": [
    "def Pay():\n",
    "    return ['Pay', '00:05:00:00','00:15:00:00']\n",
    "\n",
    "def Pay3B():\n",
    "    return ['Pay', '00:01:00:00','00:15:00:00']"
   ]
  },
  {
   "cell_type": "code",
   "execution_count": 76,
   "id": "19a4f525",
   "metadata": {},
   "outputs": [],
   "source": [
    "def ExitStore():\n",
    "    return ['Exit store', '00:01:00:00','00:15:00:00']\n",
    "\n",
    "def ExitStore3B():\n",
    "    return ['Exit store', '00:01:00:00','00:15:00:00']"
   ]
  },
  {
   "cell_type": "code",
   "execution_count": 77,
   "id": "surgical-likelihood",
   "metadata": {},
   "outputs": [],
   "source": [
    "def waitingTime3A():\n",
    "    return ['waiting', '00:01:00:00', '00:03:00:00']\n",
    "\n",
    "def waitingTime3B():\n",
    "    return ['waiting', '00:01:00:00', '00:15:00:00']\n",
    "\n",
    "def doNothing():\n",
    "    return ['waiting', '00:01:00:00', '00:15:00:00']"
   ]
  },
  {
   "cell_type": "code",
   "execution_count": 78,
   "id": "7a219721",
   "metadata": {},
   "outputs": [],
   "source": [
    "def build3A():\n",
    "    activities = []\n",
    "    group = [Pick(), Pick(), Pick(), Pick(), Pick(), Pick(), Pick(), Pick(), Pick()]\n",
    "\n",
    "#     Start with entering the store\n",
    "    activity = EnterStore()\n",
    "    activity_duration = round(random.uniform(40,70),2)\n",
    "    activities.append([activity, activity_duration])\n",
    "    activities.append([waitingTime3A(), round(random.uniform(1, 3),2)])\n",
    "    \n",
    "    activity = random.choice(group)\n",
    "\n",
    "#     activity = random.choice(group)\n",
    "#     if activity == Pick():\n",
    "#         activity_duration = round(random.uniform(15,30),2)\n",
    "#         activities.append([activity, activity_duration])\n",
    "#     else:\n",
    "#         activity = ExitStore()\n",
    "#         activity_duration = round(random.uniform(15,30),2)\n",
    "#         activities.append([activity, activity_duration])\n",
    "#         return activities\n",
    "    \n",
    "    if activity == Pick():\n",
    "        activity_duration = round(random.uniform(15,30),2)\n",
    "        activities.append([activity, activity_duration])\n",
    "    \n",
    "        activity = Pay()\n",
    "        activity_duration = round(random.uniform(5,15),2)\n",
    "        activities.append([activity, activity_duration])\n",
    "\n",
    "        activity = ExitStore()\n",
    "        activity_duration = round(random.uniform(15,30),2)\n",
    "        activities.append([activity, activity_duration])\n",
    "    \n",
    "\n",
    "    return activities"
   ]
  },
  {
   "cell_type": "code",
   "execution_count": 79,
   "id": "fixed-thing",
   "metadata": {},
   "outputs": [],
   "source": [
    "def build3B():\n",
    "    activities = []\n",
    "    group = [Pick(), Pick(), Pick(), Pay(), ExitStore()]\n",
    "\n",
    "#     Start with entering the store\n",
    "    activity_duration = round(random.uniform(15,30),2)\n",
    "    activities.append([Pick(), activity_duration])\n",
    "\n",
    "    activity = EnterStore()\n",
    "    activity_duration = round(random.uniform(40,70),2)\n",
    "    activities.append([activity, activity_duration])\n",
    "    activities.append([waitingTime3A(), round(random.uniform(1, 3),2)])\n",
    "\n",
    "    activity = random.choice(group)\n",
    "    activity = Pick()\n",
    "    \n",
    "    if activity == Pick():\n",
    "        activity_duration = round(random.uniform(15,30),2)\n",
    "        activities.append([activity, activity_duration])\n",
    "        activity_duration = round(random.uniform(15,30),2)\n",
    "        activities.append([ExitStore(), activity_duration])\n",
    "        return activities\n",
    "    elif activity == Pay():\n",
    "        activity_duration = round(random.uniform(5,15),2)\n",
    "        activities.append([activity, activity_duration])\n",
    "        activity_duration = round(random.uniform(15,30),2)\n",
    "        activities.append([ExitStore, activity_duration])\n",
    "        return activities\n",
    "    elif activity == ExitStore():\n",
    "        activity_duration = round(random.uniform(15,30),2)\n",
    "        activities.append([activity, activity_duration])\n",
    "        return activities\n",
    "    \n",
    "#     group = [Pay(), ExitStore()]\n",
    "#     activity = random.choice(group)\n",
    "#     if activity == Pay():\n",
    "#         activity_duration = round(random.uniform(5,15),2)\n",
    "#         activities.append([activity, activity_duration])\n",
    "        \n",
    "#         activity = ExitStore()\n",
    "#         activity_duration = round(random.uniform(15,30),2)\n",
    "#         activities.append([activity, activity_duration])\n",
    "#     elif activity == ExitStore():\n",
    "#         activity_duration = round(random.uniform(15,30),2)\n",
    "#         activities.append([activity, activity_duration])\n",
    "        \n",
    "    \n",
    "\n",
    "    return activities"
   ]
  },
  {
   "cell_type": "code",
   "execution_count": 80,
   "id": "danish-newfoundland",
   "metadata": {},
   "outputs": [],
   "source": [
    "def mergeData(day):\n",
    "    droprow = []\n",
    "    result = day\n",
    "    label_index = 0\n",
    "    for i in range(1, day.shape[0]):\n",
    "        if day.iloc[i]['concept:name'] == result.iloc[label_index]['concept:name']:\n",
    "            result.iloc[label_index, 3] = day.iloc[i, 3]\n",
    "            result.iloc[label_index, 4] += day.iloc[i, 4]\n",
    "            droprow.append(i)\n",
    "        else:\n",
    "            label_index = i\n",
    "    result = result.drop(index=droprow)\n",
    "    result = result.reset_index()\n",
    "    return result"
   ]
  },
  {
   "cell_type": "code",
   "execution_count": 81,
   "id": "contemporary-friendly",
   "metadata": {},
   "outputs": [],
   "source": [
    "# dayActivities = build3A()\n",
    "# dayActivities.append([wakeUp(), round(random.uniform(1, 15),2)])\n",
    "# dd = pd.DataFrame(dayActivities)\n",
    "# dd = pd.concat([dd[0].apply(lambda x: pd.Series(x)), dd[1]], axis=1)"
   ]
  },
  {
   "cell_type": "code",
   "execution_count": 82,
   "id": "sexual-preference",
   "metadata": {},
   "outputs": [],
   "source": [
    "def createEventLog3A(dayRange, fileName):\n",
    "    path = './'+fileName.split('.')[0] \n",
    "    if os.path.exists(path):\n",
    "        pass\n",
    "    else:\n",
    "        os.mkdir(path)\n",
    "        \n",
    "    #xes_Index = [\"case:concept:name\",\"concept:name\" , \"start_time\", \"End_time\", \"Duration\"]\n",
    "    daySimulation = pd.DataFrame()\n",
    "#     print(daySimulation)\n",
    "\n",
    "#     Setting the start date (the first date in log)\n",
    "    start_time = datetime(2022, 1, 1, 16, 0, 0, 0)\n",
    "    \n",
    "    for i in range(dayRange):\n",
    "        # Create daily routine\n",
    "        dayActivities = build3A()\n",
    "#         dayActivities.append([wakeUp(), round(random.uniform(1, 15),2)])\n",
    "        dd = pd.DataFrame(dayActivities)\n",
    "        dd = pd.concat([dd[0].apply(lambda x: pd.Series(x)), dd[1]], axis=1)\n",
    "        dd.columns = ['Activity', 'Min', 'Max', 'Duration']\n",
    "        dd = dd.reindex(columns = [\"Activity\",\"Min\", \"Max\", \"start_time\", \"End_time\", \"Duration\"]) \n",
    "        dd = dd.fillna(\"\")\n",
    "\n",
    "        # Randomly get time and calculate routine\n",
    "#         start_time = datetime(2022, 1, i+1, 22, 0, 0, 0).strftime('%Y-%m-%d %H:%M:%S:%f')\n",
    "#         Adding one day to the starting date\n",
    "        start_time = start_time + timedelta(days=1)\n",
    "\n",
    "        ddfinal = calculateDuration(dd, start_time)\n",
    "        ddfinal = ddfinal.drop(columns =['Min', 'Max'])\n",
    "        ddfinal = ddfinal.rename(columns={'Activity':'concept:name'})\n",
    "        ddfinal = ddfinal.rename(columns={'End_time':'time:timestamp'})\n",
    "        #ddfinal = ddfinal.rename(columns={'index':'case_id'})\n",
    "        ddfinal['case_id'] = i+1\n",
    "        # print(ddfinal)\n",
    "        ddfinal.insert(loc=0, column='case:concept:name', value=i+1)\n",
    "        #resfinal = resfinal.reindex(columns = ['case:concept:name', 'concept:name', 'Start_time', 'End_time', 'Duration'])\n",
    "        ddfinal = mergeData(ddfinal)\n",
    "        \n",
    "#         print(ddfinal)\n",
    "        ddfinal = ddfinal.drop(ddfinal[ddfinal['concept:name']=='waiting'].index)\n",
    "    \n",
    "        pm4py.write_xes(ddfinal, './%s/'%path + 'day%d.xes'%(i+1))\n",
    "    #     Add daily routine to Final data\n",
    "        daySimulation = daySimulation.append(ddfinal)\n",
    "        \n",
    "        # Create Event Log 3A\n",
    "\n",
    "    #daySimulation = daySimulation.drop(daySimulation[daySimulation['concept:name']=='waiting'].index)\n",
    "    #print(daySimulation)\n",
    "    pm4py.write_xes(daySimulation, fileName)"
   ]
  },
  {
   "cell_type": "code",
   "execution_count": null,
   "id": "unsigned-cover",
   "metadata": {},
   "outputs": [],
   "source": []
  },
  {
   "cell_type": "code",
   "execution_count": 83,
   "id": "comparable-vault",
   "metadata": {},
   "outputs": [],
   "source": [
    "def createEventLog3B(dayRange, fileName):\n",
    "    path = './'+fileName.split('.')[0] \n",
    "    if os.path.exists(path):\n",
    "        pass\n",
    "    else:\n",
    "        os.mkdir(path)\n",
    "    \n",
    "    #xes_Index = [\"case:concept:name\",\"Activity\" , \"start_time\", \"End_time\", \"Duration\"]\n",
    "    daySimulation = pd.DataFrame()\n",
    "    \n",
    "#     Setting the start date (the first date in log)\n",
    "    start_time = datetime(2022, 1, 1, 16, 0, 0, 0)\n",
    "\n",
    "    for i in range(dayRange):\n",
    "        # Create daily routine\n",
    "        dayActivities = build3B()\n",
    "#         dayActivities.append([wakeUp(), round(random.uniform(1, 15),2)])\n",
    "        dd = pd.DataFrame(dayActivities)\n",
    "        dd = pd.concat([dd[0].apply(lambda x: pd.Series(x)), dd[1]], axis=1)\n",
    "        dd.columns = ['Activity', 'Min', 'Max', 'Duration']\n",
    "        dd = dd.reindex(columns = [\"Activity\",\"Min\", \"Max\", \"start_time\", \"End_time\", \"Duration\"]) \n",
    "        dd = dd.fillna(\"\")\n",
    "        #print(dd)\n",
    "        # Randomly get time and calculate routine\n",
    "#         start_time = datetime(2022, 1, i+1, 22, 0, 0, 0).strftime('%Y-%m-%d %H:%M:%S:%f')\n",
    "#         Adding one day to the starting date\n",
    "        start_time = start_time + timedelta(days=1)\n",
    "    \n",
    "        ddfinal = calculateDuration(dd, start_time)\n",
    "        ddfinal = ddfinal.drop(columns =['Min', 'Max'])\n",
    "        ddfinal = ddfinal.rename(columns={'Activity':'concept:name'})\n",
    "        ddfinal = ddfinal.rename(columns={'End_time':'time:timestamp'})\n",
    "        ddfinal.insert(loc=0, column='case:concept:name', value=i+1)\n",
    "        ddfinal = mergeData(ddfinal)\n",
    "        \n",
    "        ddfinal = ddfinal.drop(ddfinal[ddfinal['concept:name']=='waiting'].index)\n",
    "    \n",
    "        pm4py.write_xes(ddfinal, './%s/'%path + 'day%d.xes'%(i+1))\n",
    "\n",
    "    #     Add daily routine to Final data\n",
    "        daySimulation = daySimulation.append(ddfinal)\n",
    "        \n",
    "        # Create Event Log 3A\n",
    "    daySimulation = daySimulation.drop(daySimulation[daySimulation['concept:name']=='waiting'].index)\n",
    "    pm4py.write_xes(daySimulation, fileName)"
   ]
  },
  {
   "cell_type": "code",
   "execution_count": 84,
   "id": "exact-likelihood",
   "metadata": {
    "scrolled": true
   },
   "outputs": [
    {
     "data": {
      "application/vnd.jupyter.widget-view+json": {
       "model_id": "fbe28f0d28f74eb7abee590eacf4993b",
       "version_major": 2,
       "version_minor": 0
      },
      "text/plain": [
       "exporting log, completed traces ::   0%|          | 0/1 [00:00<?, ?it/s]"
      ]
     },
     "metadata": {},
     "output_type": "display_data"
    },
    {
     "name": "stderr",
     "output_type": "stream",
     "text": [
      "/var/folders/7c/r3slh6d1643d1hl26cgzfq5c0000gn/T/ipykernel_56660/1217802004.py:46: FutureWarning: The frame.append method is deprecated and will be removed from pandas in a future version. Use pandas.concat instead.\n",
      "  daySimulation = daySimulation.append(ddfinal)\n"
     ]
    },
    {
     "data": {
      "application/vnd.jupyter.widget-view+json": {
       "model_id": "2556340f44ee4819820ae84fa7260365",
       "version_major": 2,
       "version_minor": 0
      },
      "text/plain": [
       "exporting log, completed traces ::   0%|          | 0/1 [00:00<?, ?it/s]"
      ]
     },
     "metadata": {},
     "output_type": "display_data"
    },
    {
     "name": "stderr",
     "output_type": "stream",
     "text": [
      "/var/folders/7c/r3slh6d1643d1hl26cgzfq5c0000gn/T/ipykernel_56660/1217802004.py:46: FutureWarning: The frame.append method is deprecated and will be removed from pandas in a future version. Use pandas.concat instead.\n",
      "  daySimulation = daySimulation.append(ddfinal)\n"
     ]
    },
    {
     "data": {
      "application/vnd.jupyter.widget-view+json": {
       "model_id": "5830e357cbfc4d5396d43e237435b404",
       "version_major": 2,
       "version_minor": 0
      },
      "text/plain": [
       "exporting log, completed traces ::   0%|          | 0/1 [00:00<?, ?it/s]"
      ]
     },
     "metadata": {},
     "output_type": "display_data"
    },
    {
     "name": "stderr",
     "output_type": "stream",
     "text": [
      "/var/folders/7c/r3slh6d1643d1hl26cgzfq5c0000gn/T/ipykernel_56660/1217802004.py:46: FutureWarning: The frame.append method is deprecated and will be removed from pandas in a future version. Use pandas.concat instead.\n",
      "  daySimulation = daySimulation.append(ddfinal)\n"
     ]
    },
    {
     "data": {
      "application/vnd.jupyter.widget-view+json": {
       "model_id": "b15773d2179b44328f7b30fc9586899f",
       "version_major": 2,
       "version_minor": 0
      },
      "text/plain": [
       "exporting log, completed traces ::   0%|          | 0/1 [00:00<?, ?it/s]"
      ]
     },
     "metadata": {},
     "output_type": "display_data"
    },
    {
     "name": "stderr",
     "output_type": "stream",
     "text": [
      "/var/folders/7c/r3slh6d1643d1hl26cgzfq5c0000gn/T/ipykernel_56660/1217802004.py:46: FutureWarning: The frame.append method is deprecated and will be removed from pandas in a future version. Use pandas.concat instead.\n",
      "  daySimulation = daySimulation.append(ddfinal)\n"
     ]
    },
    {
     "data": {
      "application/vnd.jupyter.widget-view+json": {
       "model_id": "1c7e8c8600aa489bbd597da3073a72dd",
       "version_major": 2,
       "version_minor": 0
      },
      "text/plain": [
       "exporting log, completed traces ::   0%|          | 0/1 [00:00<?, ?it/s]"
      ]
     },
     "metadata": {},
     "output_type": "display_data"
    },
    {
     "name": "stderr",
     "output_type": "stream",
     "text": [
      "/var/folders/7c/r3slh6d1643d1hl26cgzfq5c0000gn/T/ipykernel_56660/1217802004.py:46: FutureWarning: The frame.append method is deprecated and will be removed from pandas in a future version. Use pandas.concat instead.\n",
      "  daySimulation = daySimulation.append(ddfinal)\n"
     ]
    },
    {
     "data": {
      "application/vnd.jupyter.widget-view+json": {
       "model_id": "6f4eaf46bb574fb590c3825befac08c8",
       "version_major": 2,
       "version_minor": 0
      },
      "text/plain": [
       "exporting log, completed traces ::   0%|          | 0/1 [00:00<?, ?it/s]"
      ]
     },
     "metadata": {},
     "output_type": "display_data"
    },
    {
     "name": "stderr",
     "output_type": "stream",
     "text": [
      "/var/folders/7c/r3slh6d1643d1hl26cgzfq5c0000gn/T/ipykernel_56660/1217802004.py:46: FutureWarning: The frame.append method is deprecated and will be removed from pandas in a future version. Use pandas.concat instead.\n",
      "  daySimulation = daySimulation.append(ddfinal)\n"
     ]
    },
    {
     "data": {
      "application/vnd.jupyter.widget-view+json": {
       "model_id": "2e8607fc5adc42b588fa1aa502ea3bef",
       "version_major": 2,
       "version_minor": 0
      },
      "text/plain": [
       "exporting log, completed traces ::   0%|          | 0/1 [00:00<?, ?it/s]"
      ]
     },
     "metadata": {},
     "output_type": "display_data"
    },
    {
     "name": "stderr",
     "output_type": "stream",
     "text": [
      "/var/folders/7c/r3slh6d1643d1hl26cgzfq5c0000gn/T/ipykernel_56660/1217802004.py:46: FutureWarning: The frame.append method is deprecated and will be removed from pandas in a future version. Use pandas.concat instead.\n",
      "  daySimulation = daySimulation.append(ddfinal)\n"
     ]
    },
    {
     "data": {
      "application/vnd.jupyter.widget-view+json": {
       "model_id": "71f083d57895403b8721c053db29aa32",
       "version_major": 2,
       "version_minor": 0
      },
      "text/plain": [
       "exporting log, completed traces ::   0%|          | 0/1 [00:00<?, ?it/s]"
      ]
     },
     "metadata": {},
     "output_type": "display_data"
    },
    {
     "name": "stderr",
     "output_type": "stream",
     "text": [
      "/var/folders/7c/r3slh6d1643d1hl26cgzfq5c0000gn/T/ipykernel_56660/1217802004.py:46: FutureWarning: The frame.append method is deprecated and will be removed from pandas in a future version. Use pandas.concat instead.\n",
      "  daySimulation = daySimulation.append(ddfinal)\n"
     ]
    },
    {
     "data": {
      "application/vnd.jupyter.widget-view+json": {
       "model_id": "9ecc917c20c44f2bbcc20540a3f3fed5",
       "version_major": 2,
       "version_minor": 0
      },
      "text/plain": [
       "exporting log, completed traces ::   0%|          | 0/1 [00:00<?, ?it/s]"
      ]
     },
     "metadata": {},
     "output_type": "display_data"
    },
    {
     "name": "stderr",
     "output_type": "stream",
     "text": [
      "/var/folders/7c/r3slh6d1643d1hl26cgzfq5c0000gn/T/ipykernel_56660/1217802004.py:46: FutureWarning: The frame.append method is deprecated and will be removed from pandas in a future version. Use pandas.concat instead.\n",
      "  daySimulation = daySimulation.append(ddfinal)\n"
     ]
    },
    {
     "data": {
      "application/vnd.jupyter.widget-view+json": {
       "model_id": "8cbface7af56427d8f8ba86337251431",
       "version_major": 2,
       "version_minor": 0
      },
      "text/plain": [
       "exporting log, completed traces ::   0%|          | 0/1 [00:00<?, ?it/s]"
      ]
     },
     "metadata": {},
     "output_type": "display_data"
    },
    {
     "name": "stderr",
     "output_type": "stream",
     "text": [
      "/var/folders/7c/r3slh6d1643d1hl26cgzfq5c0000gn/T/ipykernel_56660/1217802004.py:46: FutureWarning: The frame.append method is deprecated and will be removed from pandas in a future version. Use pandas.concat instead.\n",
      "  daySimulation = daySimulation.append(ddfinal)\n"
     ]
    },
    {
     "data": {
      "application/vnd.jupyter.widget-view+json": {
       "model_id": "63cfdf13dfea4e369b919c42171763f2",
       "version_major": 2,
       "version_minor": 0
      },
      "text/plain": [
       "exporting log, completed traces ::   0%|          | 0/1 [00:00<?, ?it/s]"
      ]
     },
     "metadata": {},
     "output_type": "display_data"
    },
    {
     "name": "stderr",
     "output_type": "stream",
     "text": [
      "/var/folders/7c/r3slh6d1643d1hl26cgzfq5c0000gn/T/ipykernel_56660/1217802004.py:46: FutureWarning: The frame.append method is deprecated and will be removed from pandas in a future version. Use pandas.concat instead.\n",
      "  daySimulation = daySimulation.append(ddfinal)\n"
     ]
    },
    {
     "data": {
      "application/vnd.jupyter.widget-view+json": {
       "model_id": "85757743450a452396223b8b28e23945",
       "version_major": 2,
       "version_minor": 0
      },
      "text/plain": [
       "exporting log, completed traces ::   0%|          | 0/1 [00:00<?, ?it/s]"
      ]
     },
     "metadata": {},
     "output_type": "display_data"
    },
    {
     "name": "stderr",
     "output_type": "stream",
     "text": [
      "/var/folders/7c/r3slh6d1643d1hl26cgzfq5c0000gn/T/ipykernel_56660/1217802004.py:46: FutureWarning: The frame.append method is deprecated and will be removed from pandas in a future version. Use pandas.concat instead.\n",
      "  daySimulation = daySimulation.append(ddfinal)\n"
     ]
    },
    {
     "data": {
      "application/vnd.jupyter.widget-view+json": {
       "model_id": "de3e3e286a224dbea6331d8af5d7f362",
       "version_major": 2,
       "version_minor": 0
      },
      "text/plain": [
       "exporting log, completed traces ::   0%|          | 0/1 [00:00<?, ?it/s]"
      ]
     },
     "metadata": {},
     "output_type": "display_data"
    },
    {
     "name": "stderr",
     "output_type": "stream",
     "text": [
      "/var/folders/7c/r3slh6d1643d1hl26cgzfq5c0000gn/T/ipykernel_56660/1217802004.py:46: FutureWarning: The frame.append method is deprecated and will be removed from pandas in a future version. Use pandas.concat instead.\n",
      "  daySimulation = daySimulation.append(ddfinal)\n"
     ]
    },
    {
     "data": {
      "application/vnd.jupyter.widget-view+json": {
       "model_id": "10360d69d45447288a53032f5d684a64",
       "version_major": 2,
       "version_minor": 0
      },
      "text/plain": [
       "exporting log, completed traces ::   0%|          | 0/1 [00:00<?, ?it/s]"
      ]
     },
     "metadata": {},
     "output_type": "display_data"
    },
    {
     "name": "stderr",
     "output_type": "stream",
     "text": [
      "/var/folders/7c/r3slh6d1643d1hl26cgzfq5c0000gn/T/ipykernel_56660/1217802004.py:46: FutureWarning: The frame.append method is deprecated and will be removed from pandas in a future version. Use pandas.concat instead.\n",
      "  daySimulation = daySimulation.append(ddfinal)\n"
     ]
    },
    {
     "data": {
      "application/vnd.jupyter.widget-view+json": {
       "model_id": "8b20c0aca2d24afa9470af8fccbf9b1d",
       "version_major": 2,
       "version_minor": 0
      },
      "text/plain": [
       "exporting log, completed traces ::   0%|          | 0/1 [00:00<?, ?it/s]"
      ]
     },
     "metadata": {},
     "output_type": "display_data"
    },
    {
     "name": "stderr",
     "output_type": "stream",
     "text": [
      "/var/folders/7c/r3slh6d1643d1hl26cgzfq5c0000gn/T/ipykernel_56660/1217802004.py:46: FutureWarning: The frame.append method is deprecated and will be removed from pandas in a future version. Use pandas.concat instead.\n",
      "  daySimulation = daySimulation.append(ddfinal)\n"
     ]
    },
    {
     "data": {
      "application/vnd.jupyter.widget-view+json": {
       "model_id": "fa335ee87f1d48d6928a8f4e73873537",
       "version_major": 2,
       "version_minor": 0
      },
      "text/plain": [
       "exporting log, completed traces ::   0%|          | 0/1 [00:00<?, ?it/s]"
      ]
     },
     "metadata": {},
     "output_type": "display_data"
    },
    {
     "name": "stderr",
     "output_type": "stream",
     "text": [
      "/var/folders/7c/r3slh6d1643d1hl26cgzfq5c0000gn/T/ipykernel_56660/1217802004.py:46: FutureWarning: The frame.append method is deprecated and will be removed from pandas in a future version. Use pandas.concat instead.\n",
      "  daySimulation = daySimulation.append(ddfinal)\n"
     ]
    },
    {
     "data": {
      "application/vnd.jupyter.widget-view+json": {
       "model_id": "3da71bd5a5324b43a0975f5aae72af70",
       "version_major": 2,
       "version_minor": 0
      },
      "text/plain": [
       "exporting log, completed traces ::   0%|          | 0/1 [00:00<?, ?it/s]"
      ]
     },
     "metadata": {},
     "output_type": "display_data"
    },
    {
     "name": "stderr",
     "output_type": "stream",
     "text": [
      "/var/folders/7c/r3slh6d1643d1hl26cgzfq5c0000gn/T/ipykernel_56660/1217802004.py:46: FutureWarning: The frame.append method is deprecated and will be removed from pandas in a future version. Use pandas.concat instead.\n",
      "  daySimulation = daySimulation.append(ddfinal)\n"
     ]
    },
    {
     "data": {
      "application/vnd.jupyter.widget-view+json": {
       "model_id": "c9ca5d5406ef40348e66bc2aaba00d2a",
       "version_major": 2,
       "version_minor": 0
      },
      "text/plain": [
       "exporting log, completed traces ::   0%|          | 0/1 [00:00<?, ?it/s]"
      ]
     },
     "metadata": {},
     "output_type": "display_data"
    },
    {
     "name": "stderr",
     "output_type": "stream",
     "text": [
      "/var/folders/7c/r3slh6d1643d1hl26cgzfq5c0000gn/T/ipykernel_56660/1217802004.py:46: FutureWarning: The frame.append method is deprecated and will be removed from pandas in a future version. Use pandas.concat instead.\n",
      "  daySimulation = daySimulation.append(ddfinal)\n"
     ]
    },
    {
     "data": {
      "application/vnd.jupyter.widget-view+json": {
       "model_id": "82cae70d46db4c59983a1bef873069a1",
       "version_major": 2,
       "version_minor": 0
      },
      "text/plain": [
       "exporting log, completed traces ::   0%|          | 0/1 [00:00<?, ?it/s]"
      ]
     },
     "metadata": {},
     "output_type": "display_data"
    },
    {
     "name": "stderr",
     "output_type": "stream",
     "text": [
      "/var/folders/7c/r3slh6d1643d1hl26cgzfq5c0000gn/T/ipykernel_56660/1217802004.py:46: FutureWarning: The frame.append method is deprecated and will be removed from pandas in a future version. Use pandas.concat instead.\n",
      "  daySimulation = daySimulation.append(ddfinal)\n"
     ]
    },
    {
     "data": {
      "application/vnd.jupyter.widget-view+json": {
       "model_id": "3156b9e12bd64339b718a32c96ea1223",
       "version_major": 2,
       "version_minor": 0
      },
      "text/plain": [
       "exporting log, completed traces ::   0%|          | 0/1 [00:00<?, ?it/s]"
      ]
     },
     "metadata": {},
     "output_type": "display_data"
    },
    {
     "name": "stderr",
     "output_type": "stream",
     "text": [
      "/var/folders/7c/r3slh6d1643d1hl26cgzfq5c0000gn/T/ipykernel_56660/1217802004.py:46: FutureWarning: The frame.append method is deprecated and will be removed from pandas in a future version. Use pandas.concat instead.\n",
      "  daySimulation = daySimulation.append(ddfinal)\n"
     ]
    },
    {
     "data": {
      "application/vnd.jupyter.widget-view+json": {
       "model_id": "6e1eb8a06c194a07ab2d79659c38afca",
       "version_major": 2,
       "version_minor": 0
      },
      "text/plain": [
       "exporting log, completed traces ::   0%|          | 0/1 [00:00<?, ?it/s]"
      ]
     },
     "metadata": {},
     "output_type": "display_data"
    },
    {
     "name": "stderr",
     "output_type": "stream",
     "text": [
      "/var/folders/7c/r3slh6d1643d1hl26cgzfq5c0000gn/T/ipykernel_56660/1217802004.py:46: FutureWarning: The frame.append method is deprecated and will be removed from pandas in a future version. Use pandas.concat instead.\n",
      "  daySimulation = daySimulation.append(ddfinal)\n"
     ]
    },
    {
     "data": {
      "application/vnd.jupyter.widget-view+json": {
       "model_id": "ba0c54eff5a14b8e9bca6d4c3cb57e8c",
       "version_major": 2,
       "version_minor": 0
      },
      "text/plain": [
       "exporting log, completed traces ::   0%|          | 0/1 [00:00<?, ?it/s]"
      ]
     },
     "metadata": {},
     "output_type": "display_data"
    },
    {
     "name": "stderr",
     "output_type": "stream",
     "text": [
      "/var/folders/7c/r3slh6d1643d1hl26cgzfq5c0000gn/T/ipykernel_56660/1217802004.py:46: FutureWarning: The frame.append method is deprecated and will be removed from pandas in a future version. Use pandas.concat instead.\n",
      "  daySimulation = daySimulation.append(ddfinal)\n"
     ]
    },
    {
     "data": {
      "application/vnd.jupyter.widget-view+json": {
       "model_id": "89f711fbf25e485eb0c5c0d89032fdba",
       "version_major": 2,
       "version_minor": 0
      },
      "text/plain": [
       "exporting log, completed traces ::   0%|          | 0/1 [00:00<?, ?it/s]"
      ]
     },
     "metadata": {},
     "output_type": "display_data"
    },
    {
     "name": "stderr",
     "output_type": "stream",
     "text": [
      "/var/folders/7c/r3slh6d1643d1hl26cgzfq5c0000gn/T/ipykernel_56660/1217802004.py:46: FutureWarning: The frame.append method is deprecated and will be removed from pandas in a future version. Use pandas.concat instead.\n",
      "  daySimulation = daySimulation.append(ddfinal)\n"
     ]
    },
    {
     "data": {
      "application/vnd.jupyter.widget-view+json": {
       "model_id": "62a866bf9fe74de4a54f42e294088db0",
       "version_major": 2,
       "version_minor": 0
      },
      "text/plain": [
       "exporting log, completed traces ::   0%|          | 0/1 [00:00<?, ?it/s]"
      ]
     },
     "metadata": {},
     "output_type": "display_data"
    },
    {
     "name": "stderr",
     "output_type": "stream",
     "text": [
      "/var/folders/7c/r3slh6d1643d1hl26cgzfq5c0000gn/T/ipykernel_56660/1217802004.py:46: FutureWarning: The frame.append method is deprecated and will be removed from pandas in a future version. Use pandas.concat instead.\n",
      "  daySimulation = daySimulation.append(ddfinal)\n"
     ]
    },
    {
     "data": {
      "application/vnd.jupyter.widget-view+json": {
       "model_id": "202df42eae594f36bb4b64b309f75305",
       "version_major": 2,
       "version_minor": 0
      },
      "text/plain": [
       "exporting log, completed traces ::   0%|          | 0/1 [00:00<?, ?it/s]"
      ]
     },
     "metadata": {},
     "output_type": "display_data"
    },
    {
     "name": "stderr",
     "output_type": "stream",
     "text": [
      "/var/folders/7c/r3slh6d1643d1hl26cgzfq5c0000gn/T/ipykernel_56660/1217802004.py:46: FutureWarning: The frame.append method is deprecated and will be removed from pandas in a future version. Use pandas.concat instead.\n",
      "  daySimulation = daySimulation.append(ddfinal)\n"
     ]
    },
    {
     "data": {
      "application/vnd.jupyter.widget-view+json": {
       "model_id": "b8acbd4e5c0d4380ac18a1f74ad951f9",
       "version_major": 2,
       "version_minor": 0
      },
      "text/plain": [
       "exporting log, completed traces ::   0%|          | 0/1 [00:00<?, ?it/s]"
      ]
     },
     "metadata": {},
     "output_type": "display_data"
    },
    {
     "name": "stderr",
     "output_type": "stream",
     "text": [
      "/var/folders/7c/r3slh6d1643d1hl26cgzfq5c0000gn/T/ipykernel_56660/1217802004.py:46: FutureWarning: The frame.append method is deprecated and will be removed from pandas in a future version. Use pandas.concat instead.\n",
      "  daySimulation = daySimulation.append(ddfinal)\n"
     ]
    },
    {
     "data": {
      "application/vnd.jupyter.widget-view+json": {
       "model_id": "97bb5ef8e3d743c1a265e528f13d9b25",
       "version_major": 2,
       "version_minor": 0
      },
      "text/plain": [
       "exporting log, completed traces ::   0%|          | 0/1 [00:00<?, ?it/s]"
      ]
     },
     "metadata": {},
     "output_type": "display_data"
    },
    {
     "name": "stderr",
     "output_type": "stream",
     "text": [
      "/var/folders/7c/r3slh6d1643d1hl26cgzfq5c0000gn/T/ipykernel_56660/1217802004.py:46: FutureWarning: The frame.append method is deprecated and will be removed from pandas in a future version. Use pandas.concat instead.\n",
      "  daySimulation = daySimulation.append(ddfinal)\n"
     ]
    },
    {
     "data": {
      "application/vnd.jupyter.widget-view+json": {
       "model_id": "c34bc1b1f53b4ce3b74c922413c93e97",
       "version_major": 2,
       "version_minor": 0
      },
      "text/plain": [
       "exporting log, completed traces ::   0%|          | 0/1 [00:00<?, ?it/s]"
      ]
     },
     "metadata": {},
     "output_type": "display_data"
    },
    {
     "name": "stderr",
     "output_type": "stream",
     "text": [
      "/var/folders/7c/r3slh6d1643d1hl26cgzfq5c0000gn/T/ipykernel_56660/1217802004.py:46: FutureWarning: The frame.append method is deprecated and will be removed from pandas in a future version. Use pandas.concat instead.\n",
      "  daySimulation = daySimulation.append(ddfinal)\n"
     ]
    },
    {
     "data": {
      "application/vnd.jupyter.widget-view+json": {
       "model_id": "52b31d146b3341389062c49fdcf7a3fa",
       "version_major": 2,
       "version_minor": 0
      },
      "text/plain": [
       "exporting log, completed traces ::   0%|          | 0/1 [00:00<?, ?it/s]"
      ]
     },
     "metadata": {},
     "output_type": "display_data"
    },
    {
     "name": "stderr",
     "output_type": "stream",
     "text": [
      "/var/folders/7c/r3slh6d1643d1hl26cgzfq5c0000gn/T/ipykernel_56660/1217802004.py:46: FutureWarning: The frame.append method is deprecated and will be removed from pandas in a future version. Use pandas.concat instead.\n",
      "  daySimulation = daySimulation.append(ddfinal)\n"
     ]
    },
    {
     "data": {
      "application/vnd.jupyter.widget-view+json": {
       "model_id": "e9299d3b7c88455ab80b2262511896b0",
       "version_major": 2,
       "version_minor": 0
      },
      "text/plain": [
       "exporting log, completed traces ::   0%|          | 0/1 [00:01<?, ?it/s]"
      ]
     },
     "metadata": {},
     "output_type": "display_data"
    },
    {
     "name": "stderr",
     "output_type": "stream",
     "text": [
      "/var/folders/7c/r3slh6d1643d1hl26cgzfq5c0000gn/T/ipykernel_56660/1217802004.py:46: FutureWarning: The frame.append method is deprecated and will be removed from pandas in a future version. Use pandas.concat instead.\n",
      "  daySimulation = daySimulation.append(ddfinal)\n"
     ]
    },
    {
     "data": {
      "application/vnd.jupyter.widget-view+json": {
       "model_id": "d8d540be06c549e282c764e0fa1e3e43",
       "version_major": 2,
       "version_minor": 0
      },
      "text/plain": [
       "exporting log, completed traces ::   0%|          | 0/1 [00:00<?, ?it/s]"
      ]
     },
     "metadata": {},
     "output_type": "display_data"
    },
    {
     "name": "stderr",
     "output_type": "stream",
     "text": [
      "/var/folders/7c/r3slh6d1643d1hl26cgzfq5c0000gn/T/ipykernel_56660/1217802004.py:46: FutureWarning: The frame.append method is deprecated and will be removed from pandas in a future version. Use pandas.concat instead.\n",
      "  daySimulation = daySimulation.append(ddfinal)\n"
     ]
    },
    {
     "data": {
      "application/vnd.jupyter.widget-view+json": {
       "model_id": "e63c868b33a64d8abb7089134688ba49",
       "version_major": 2,
       "version_minor": 0
      },
      "text/plain": [
       "exporting log, completed traces ::   0%|          | 0/1 [00:00<?, ?it/s]"
      ]
     },
     "metadata": {},
     "output_type": "display_data"
    },
    {
     "name": "stderr",
     "output_type": "stream",
     "text": [
      "/var/folders/7c/r3slh6d1643d1hl26cgzfq5c0000gn/T/ipykernel_56660/1217802004.py:46: FutureWarning: The frame.append method is deprecated and will be removed from pandas in a future version. Use pandas.concat instead.\n",
      "  daySimulation = daySimulation.append(ddfinal)\n"
     ]
    },
    {
     "data": {
      "application/vnd.jupyter.widget-view+json": {
       "model_id": "d16f1c66d21d4a648a9a1acd56a889ee",
       "version_major": 2,
       "version_minor": 0
      },
      "text/plain": [
       "exporting log, completed traces ::   0%|          | 0/1 [00:00<?, ?it/s]"
      ]
     },
     "metadata": {},
     "output_type": "display_data"
    },
    {
     "name": "stderr",
     "output_type": "stream",
     "text": [
      "/var/folders/7c/r3slh6d1643d1hl26cgzfq5c0000gn/T/ipykernel_56660/1217802004.py:46: FutureWarning: The frame.append method is deprecated and will be removed from pandas in a future version. Use pandas.concat instead.\n",
      "  daySimulation = daySimulation.append(ddfinal)\n"
     ]
    },
    {
     "data": {
      "application/vnd.jupyter.widget-view+json": {
       "model_id": "307667424ea147208d102339dca952e8",
       "version_major": 2,
       "version_minor": 0
      },
      "text/plain": [
       "exporting log, completed traces ::   0%|          | 0/1 [00:00<?, ?it/s]"
      ]
     },
     "metadata": {},
     "output_type": "display_data"
    },
    {
     "name": "stderr",
     "output_type": "stream",
     "text": [
      "/var/folders/7c/r3slh6d1643d1hl26cgzfq5c0000gn/T/ipykernel_56660/1217802004.py:46: FutureWarning: The frame.append method is deprecated and will be removed from pandas in a future version. Use pandas.concat instead.\n",
      "  daySimulation = daySimulation.append(ddfinal)\n"
     ]
    },
    {
     "data": {
      "application/vnd.jupyter.widget-view+json": {
       "model_id": "454349c35ea54bada9f83d2309699304",
       "version_major": 2,
       "version_minor": 0
      },
      "text/plain": [
       "exporting log, completed traces ::   0%|          | 0/1 [00:00<?, ?it/s]"
      ]
     },
     "metadata": {},
     "output_type": "display_data"
    },
    {
     "name": "stderr",
     "output_type": "stream",
     "text": [
      "/var/folders/7c/r3slh6d1643d1hl26cgzfq5c0000gn/T/ipykernel_56660/1217802004.py:46: FutureWarning: The frame.append method is deprecated and will be removed from pandas in a future version. Use pandas.concat instead.\n",
      "  daySimulation = daySimulation.append(ddfinal)\n"
     ]
    },
    {
     "data": {
      "application/vnd.jupyter.widget-view+json": {
       "model_id": "ecccdd24f5184ecbbc3b47a378b0511e",
       "version_major": 2,
       "version_minor": 0
      },
      "text/plain": [
       "exporting log, completed traces ::   0%|          | 0/1 [00:00<?, ?it/s]"
      ]
     },
     "metadata": {},
     "output_type": "display_data"
    },
    {
     "name": "stderr",
     "output_type": "stream",
     "text": [
      "/var/folders/7c/r3slh6d1643d1hl26cgzfq5c0000gn/T/ipykernel_56660/1217802004.py:46: FutureWarning: The frame.append method is deprecated and will be removed from pandas in a future version. Use pandas.concat instead.\n",
      "  daySimulation = daySimulation.append(ddfinal)\n"
     ]
    },
    {
     "data": {
      "application/vnd.jupyter.widget-view+json": {
       "model_id": "1b938e0fa4c646b4a92f262329e912db",
       "version_major": 2,
       "version_minor": 0
      },
      "text/plain": [
       "exporting log, completed traces ::   0%|          | 0/1 [00:00<?, ?it/s]"
      ]
     },
     "metadata": {},
     "output_type": "display_data"
    },
    {
     "name": "stderr",
     "output_type": "stream",
     "text": [
      "/var/folders/7c/r3slh6d1643d1hl26cgzfq5c0000gn/T/ipykernel_56660/1217802004.py:46: FutureWarning: The frame.append method is deprecated and will be removed from pandas in a future version. Use pandas.concat instead.\n",
      "  daySimulation = daySimulation.append(ddfinal)\n"
     ]
    },
    {
     "data": {
      "application/vnd.jupyter.widget-view+json": {
       "model_id": "96a011fb38f04c07a5ef08d2c3c75e3c",
       "version_major": 2,
       "version_minor": 0
      },
      "text/plain": [
       "exporting log, completed traces ::   0%|          | 0/1 [00:00<?, ?it/s]"
      ]
     },
     "metadata": {},
     "output_type": "display_data"
    },
    {
     "name": "stderr",
     "output_type": "stream",
     "text": [
      "/var/folders/7c/r3slh6d1643d1hl26cgzfq5c0000gn/T/ipykernel_56660/1217802004.py:46: FutureWarning: The frame.append method is deprecated and will be removed from pandas in a future version. Use pandas.concat instead.\n",
      "  daySimulation = daySimulation.append(ddfinal)\n"
     ]
    },
    {
     "data": {
      "application/vnd.jupyter.widget-view+json": {
       "model_id": "7257c64e54054183b7526eae0d223b12",
       "version_major": 2,
       "version_minor": 0
      },
      "text/plain": [
       "exporting log, completed traces ::   0%|          | 0/1 [00:00<?, ?it/s]"
      ]
     },
     "metadata": {},
     "output_type": "display_data"
    },
    {
     "name": "stderr",
     "output_type": "stream",
     "text": [
      "/var/folders/7c/r3slh6d1643d1hl26cgzfq5c0000gn/T/ipykernel_56660/1217802004.py:46: FutureWarning: The frame.append method is deprecated and will be removed from pandas in a future version. Use pandas.concat instead.\n",
      "  daySimulation = daySimulation.append(ddfinal)\n"
     ]
    },
    {
     "data": {
      "application/vnd.jupyter.widget-view+json": {
       "model_id": "deb2446c8f7f47f4b9c7cfa439542678",
       "version_major": 2,
       "version_minor": 0
      },
      "text/plain": [
       "exporting log, completed traces ::   0%|          | 0/1 [00:00<?, ?it/s]"
      ]
     },
     "metadata": {},
     "output_type": "display_data"
    },
    {
     "name": "stderr",
     "output_type": "stream",
     "text": [
      "/var/folders/7c/r3slh6d1643d1hl26cgzfq5c0000gn/T/ipykernel_56660/1217802004.py:46: FutureWarning: The frame.append method is deprecated and will be removed from pandas in a future version. Use pandas.concat instead.\n",
      "  daySimulation = daySimulation.append(ddfinal)\n"
     ]
    },
    {
     "data": {
      "application/vnd.jupyter.widget-view+json": {
       "model_id": "07f969b88f984d25883c6c99c91eba3e",
       "version_major": 2,
       "version_minor": 0
      },
      "text/plain": [
       "exporting log, completed traces ::   0%|          | 0/1 [00:00<?, ?it/s]"
      ]
     },
     "metadata": {},
     "output_type": "display_data"
    },
    {
     "name": "stderr",
     "output_type": "stream",
     "text": [
      "/var/folders/7c/r3slh6d1643d1hl26cgzfq5c0000gn/T/ipykernel_56660/1217802004.py:46: FutureWarning: The frame.append method is deprecated and will be removed from pandas in a future version. Use pandas.concat instead.\n",
      "  daySimulation = daySimulation.append(ddfinal)\n"
     ]
    },
    {
     "data": {
      "application/vnd.jupyter.widget-view+json": {
       "model_id": "ea4d29f4e23c44d897064e6cd59adbf5",
       "version_major": 2,
       "version_minor": 0
      },
      "text/plain": [
       "exporting log, completed traces ::   0%|          | 0/1 [00:00<?, ?it/s]"
      ]
     },
     "metadata": {},
     "output_type": "display_data"
    },
    {
     "name": "stderr",
     "output_type": "stream",
     "text": [
      "/var/folders/7c/r3slh6d1643d1hl26cgzfq5c0000gn/T/ipykernel_56660/1217802004.py:46: FutureWarning: The frame.append method is deprecated and will be removed from pandas in a future version. Use pandas.concat instead.\n",
      "  daySimulation = daySimulation.append(ddfinal)\n"
     ]
    },
    {
     "data": {
      "application/vnd.jupyter.widget-view+json": {
       "model_id": "bd2e1139a0ee43aaa09b711a59b9ad30",
       "version_major": 2,
       "version_minor": 0
      },
      "text/plain": [
       "exporting log, completed traces ::   0%|          | 0/1 [00:00<?, ?it/s]"
      ]
     },
     "metadata": {},
     "output_type": "display_data"
    },
    {
     "name": "stderr",
     "output_type": "stream",
     "text": [
      "/var/folders/7c/r3slh6d1643d1hl26cgzfq5c0000gn/T/ipykernel_56660/1217802004.py:46: FutureWarning: The frame.append method is deprecated and will be removed from pandas in a future version. Use pandas.concat instead.\n",
      "  daySimulation = daySimulation.append(ddfinal)\n"
     ]
    },
    {
     "data": {
      "application/vnd.jupyter.widget-view+json": {
       "model_id": "480c8c3e9cc24a058463e784c0268503",
       "version_major": 2,
       "version_minor": 0
      },
      "text/plain": [
       "exporting log, completed traces ::   0%|          | 0/1 [00:00<?, ?it/s]"
      ]
     },
     "metadata": {},
     "output_type": "display_data"
    },
    {
     "name": "stderr",
     "output_type": "stream",
     "text": [
      "/var/folders/7c/r3slh6d1643d1hl26cgzfq5c0000gn/T/ipykernel_56660/1217802004.py:46: FutureWarning: The frame.append method is deprecated and will be removed from pandas in a future version. Use pandas.concat instead.\n",
      "  daySimulation = daySimulation.append(ddfinal)\n"
     ]
    },
    {
     "data": {
      "application/vnd.jupyter.widget-view+json": {
       "model_id": "65468d8cce1443b1be666b1530d1ba4d",
       "version_major": 2,
       "version_minor": 0
      },
      "text/plain": [
       "exporting log, completed traces ::   0%|          | 0/1 [00:00<?, ?it/s]"
      ]
     },
     "metadata": {},
     "output_type": "display_data"
    },
    {
     "name": "stderr",
     "output_type": "stream",
     "text": [
      "/var/folders/7c/r3slh6d1643d1hl26cgzfq5c0000gn/T/ipykernel_56660/1217802004.py:46: FutureWarning: The frame.append method is deprecated and will be removed from pandas in a future version. Use pandas.concat instead.\n",
      "  daySimulation = daySimulation.append(ddfinal)\n"
     ]
    },
    {
     "data": {
      "application/vnd.jupyter.widget-view+json": {
       "model_id": "4279bccda4464d6d8d6e5e8697661082",
       "version_major": 2,
       "version_minor": 0
      },
      "text/plain": [
       "exporting log, completed traces ::   0%|          | 0/1 [00:00<?, ?it/s]"
      ]
     },
     "metadata": {},
     "output_type": "display_data"
    },
    {
     "name": "stderr",
     "output_type": "stream",
     "text": [
      "/var/folders/7c/r3slh6d1643d1hl26cgzfq5c0000gn/T/ipykernel_56660/1217802004.py:46: FutureWarning: The frame.append method is deprecated and will be removed from pandas in a future version. Use pandas.concat instead.\n",
      "  daySimulation = daySimulation.append(ddfinal)\n"
     ]
    },
    {
     "data": {
      "application/vnd.jupyter.widget-view+json": {
       "model_id": "0f89ece39d364506a1ffa8628c7411fe",
       "version_major": 2,
       "version_minor": 0
      },
      "text/plain": [
       "exporting log, completed traces ::   0%|          | 0/1 [00:00<?, ?it/s]"
      ]
     },
     "metadata": {},
     "output_type": "display_data"
    },
    {
     "name": "stderr",
     "output_type": "stream",
     "text": [
      "/var/folders/7c/r3slh6d1643d1hl26cgzfq5c0000gn/T/ipykernel_56660/1217802004.py:46: FutureWarning: The frame.append method is deprecated and will be removed from pandas in a future version. Use pandas.concat instead.\n",
      "  daySimulation = daySimulation.append(ddfinal)\n"
     ]
    },
    {
     "data": {
      "application/vnd.jupyter.widget-view+json": {
       "model_id": "7347e6ed304b4ba88ed94b600958e733",
       "version_major": 2,
       "version_minor": 0
      },
      "text/plain": [
       "exporting log, completed traces ::   0%|          | 0/1 [00:00<?, ?it/s]"
      ]
     },
     "metadata": {},
     "output_type": "display_data"
    },
    {
     "name": "stderr",
     "output_type": "stream",
     "text": [
      "/var/folders/7c/r3slh6d1643d1hl26cgzfq5c0000gn/T/ipykernel_56660/1217802004.py:46: FutureWarning: The frame.append method is deprecated and will be removed from pandas in a future version. Use pandas.concat instead.\n",
      "  daySimulation = daySimulation.append(ddfinal)\n"
     ]
    },
    {
     "data": {
      "application/vnd.jupyter.widget-view+json": {
       "model_id": "f5364e425c4f4a84a808faa4d5a49f0f",
       "version_major": 2,
       "version_minor": 0
      },
      "text/plain": [
       "exporting log, completed traces ::   0%|          | 0/1 [00:00<?, ?it/s]"
      ]
     },
     "metadata": {},
     "output_type": "display_data"
    },
    {
     "name": "stderr",
     "output_type": "stream",
     "text": [
      "/var/folders/7c/r3slh6d1643d1hl26cgzfq5c0000gn/T/ipykernel_56660/1217802004.py:46: FutureWarning: The frame.append method is deprecated and will be removed from pandas in a future version. Use pandas.concat instead.\n",
      "  daySimulation = daySimulation.append(ddfinal)\n"
     ]
    },
    {
     "data": {
      "application/vnd.jupyter.widget-view+json": {
       "model_id": "2c16365bdcd6483ca2173347c711fbfa",
       "version_major": 2,
       "version_minor": 0
      },
      "text/plain": [
       "exporting log, completed traces ::   0%|          | 0/1 [00:00<?, ?it/s]"
      ]
     },
     "metadata": {},
     "output_type": "display_data"
    },
    {
     "name": "stderr",
     "output_type": "stream",
     "text": [
      "/var/folders/7c/r3slh6d1643d1hl26cgzfq5c0000gn/T/ipykernel_56660/1217802004.py:46: FutureWarning: The frame.append method is deprecated and will be removed from pandas in a future version. Use pandas.concat instead.\n",
      "  daySimulation = daySimulation.append(ddfinal)\n"
     ]
    },
    {
     "data": {
      "application/vnd.jupyter.widget-view+json": {
       "model_id": "81a506f952f148bb898b9a1b80921ca4",
       "version_major": 2,
       "version_minor": 0
      },
      "text/plain": [
       "exporting log, completed traces ::   0%|          | 0/1 [00:00<?, ?it/s]"
      ]
     },
     "metadata": {},
     "output_type": "display_data"
    },
    {
     "name": "stderr",
     "output_type": "stream",
     "text": [
      "/var/folders/7c/r3slh6d1643d1hl26cgzfq5c0000gn/T/ipykernel_56660/1217802004.py:46: FutureWarning: The frame.append method is deprecated and will be removed from pandas in a future version. Use pandas.concat instead.\n",
      "  daySimulation = daySimulation.append(ddfinal)\n"
     ]
    },
    {
     "data": {
      "application/vnd.jupyter.widget-view+json": {
       "model_id": "e2a2bcf2e5de4b5d960864c9986891dd",
       "version_major": 2,
       "version_minor": 0
      },
      "text/plain": [
       "exporting log, completed traces ::   0%|          | 0/1 [00:00<?, ?it/s]"
      ]
     },
     "metadata": {},
     "output_type": "display_data"
    },
    {
     "name": "stderr",
     "output_type": "stream",
     "text": [
      "/var/folders/7c/r3slh6d1643d1hl26cgzfq5c0000gn/T/ipykernel_56660/1217802004.py:46: FutureWarning: The frame.append method is deprecated and will be removed from pandas in a future version. Use pandas.concat instead.\n",
      "  daySimulation = daySimulation.append(ddfinal)\n"
     ]
    },
    {
     "data": {
      "application/vnd.jupyter.widget-view+json": {
       "model_id": "6c308e50d72b480fb92a3ea36acb94d4",
       "version_major": 2,
       "version_minor": 0
      },
      "text/plain": [
       "exporting log, completed traces ::   0%|          | 0/1 [00:00<?, ?it/s]"
      ]
     },
     "metadata": {},
     "output_type": "display_data"
    },
    {
     "name": "stderr",
     "output_type": "stream",
     "text": [
      "/var/folders/7c/r3slh6d1643d1hl26cgzfq5c0000gn/T/ipykernel_56660/1217802004.py:46: FutureWarning: The frame.append method is deprecated and will be removed from pandas in a future version. Use pandas.concat instead.\n",
      "  daySimulation = daySimulation.append(ddfinal)\n"
     ]
    },
    {
     "data": {
      "application/vnd.jupyter.widget-view+json": {
       "model_id": "92732ba055914583893b4b4af0136bec",
       "version_major": 2,
       "version_minor": 0
      },
      "text/plain": [
       "exporting log, completed traces ::   0%|          | 0/1 [00:00<?, ?it/s]"
      ]
     },
     "metadata": {},
     "output_type": "display_data"
    },
    {
     "name": "stderr",
     "output_type": "stream",
     "text": [
      "/var/folders/7c/r3slh6d1643d1hl26cgzfq5c0000gn/T/ipykernel_56660/1217802004.py:46: FutureWarning: The frame.append method is deprecated and will be removed from pandas in a future version. Use pandas.concat instead.\n",
      "  daySimulation = daySimulation.append(ddfinal)\n"
     ]
    },
    {
     "data": {
      "application/vnd.jupyter.widget-view+json": {
       "model_id": "27605599ff1e40558985c5d29b224b9d",
       "version_major": 2,
       "version_minor": 0
      },
      "text/plain": [
       "exporting log, completed traces ::   0%|          | 0/1 [00:00<?, ?it/s]"
      ]
     },
     "metadata": {},
     "output_type": "display_data"
    },
    {
     "name": "stderr",
     "output_type": "stream",
     "text": [
      "/var/folders/7c/r3slh6d1643d1hl26cgzfq5c0000gn/T/ipykernel_56660/1217802004.py:46: FutureWarning: The frame.append method is deprecated and will be removed from pandas in a future version. Use pandas.concat instead.\n",
      "  daySimulation = daySimulation.append(ddfinal)\n"
     ]
    },
    {
     "data": {
      "application/vnd.jupyter.widget-view+json": {
       "model_id": "2185fc5248de41aa8560cce42e7a596a",
       "version_major": 2,
       "version_minor": 0
      },
      "text/plain": [
       "exporting log, completed traces ::   0%|          | 0/1 [00:00<?, ?it/s]"
      ]
     },
     "metadata": {},
     "output_type": "display_data"
    },
    {
     "name": "stderr",
     "output_type": "stream",
     "text": [
      "/var/folders/7c/r3slh6d1643d1hl26cgzfq5c0000gn/T/ipykernel_56660/1217802004.py:46: FutureWarning: The frame.append method is deprecated and will be removed from pandas in a future version. Use pandas.concat instead.\n",
      "  daySimulation = daySimulation.append(ddfinal)\n"
     ]
    },
    {
     "data": {
      "application/vnd.jupyter.widget-view+json": {
       "model_id": "2676997e942841cd9ab28e350833723d",
       "version_major": 2,
       "version_minor": 0
      },
      "text/plain": [
       "exporting log, completed traces ::   0%|          | 0/56 [00:00<?, ?it/s]"
      ]
     },
     "metadata": {},
     "output_type": "display_data"
    },
    {
     "data": {
      "application/vnd.jupyter.widget-view+json": {
       "model_id": "5b01a2eac1a24e7b838d8b1e9744dd5a",
       "version_major": 2,
       "version_minor": 0
      },
      "text/plain": [
       "exporting log, completed traces ::   0%|          | 0/1 [00:00<?, ?it/s]"
      ]
     },
     "metadata": {},
     "output_type": "display_data"
    },
    {
     "name": "stderr",
     "output_type": "stream",
     "text": [
      "/var/folders/7c/r3slh6d1643d1hl26cgzfq5c0000gn/T/ipykernel_56660/1217802004.py:46: FutureWarning: The frame.append method is deprecated and will be removed from pandas in a future version. Use pandas.concat instead.\n",
      "  daySimulation = daySimulation.append(ddfinal)\n"
     ]
    },
    {
     "data": {
      "application/vnd.jupyter.widget-view+json": {
       "model_id": "32f24f0db88f48e79e91e831055fdd9e",
       "version_major": 2,
       "version_minor": 0
      },
      "text/plain": [
       "exporting log, completed traces ::   0%|          | 0/1 [00:00<?, ?it/s]"
      ]
     },
     "metadata": {},
     "output_type": "display_data"
    },
    {
     "name": "stderr",
     "output_type": "stream",
     "text": [
      "/var/folders/7c/r3slh6d1643d1hl26cgzfq5c0000gn/T/ipykernel_56660/1217802004.py:46: FutureWarning: The frame.append method is deprecated and will be removed from pandas in a future version. Use pandas.concat instead.\n",
      "  daySimulation = daySimulation.append(ddfinal)\n"
     ]
    },
    {
     "data": {
      "application/vnd.jupyter.widget-view+json": {
       "model_id": "5edf4910c4f04c50a03f1a0bc9e7cb35",
       "version_major": 2,
       "version_minor": 0
      },
      "text/plain": [
       "exporting log, completed traces ::   0%|          | 0/1 [00:00<?, ?it/s]"
      ]
     },
     "metadata": {},
     "output_type": "display_data"
    },
    {
     "name": "stderr",
     "output_type": "stream",
     "text": [
      "/var/folders/7c/r3slh6d1643d1hl26cgzfq5c0000gn/T/ipykernel_56660/1217802004.py:46: FutureWarning: The frame.append method is deprecated and will be removed from pandas in a future version. Use pandas.concat instead.\n",
      "  daySimulation = daySimulation.append(ddfinal)\n"
     ]
    },
    {
     "data": {
      "application/vnd.jupyter.widget-view+json": {
       "model_id": "cd32f53ff7da4a01a63390cce636a6ab",
       "version_major": 2,
       "version_minor": 0
      },
      "text/plain": [
       "exporting log, completed traces ::   0%|          | 0/1 [00:00<?, ?it/s]"
      ]
     },
     "metadata": {},
     "output_type": "display_data"
    },
    {
     "name": "stderr",
     "output_type": "stream",
     "text": [
      "/var/folders/7c/r3slh6d1643d1hl26cgzfq5c0000gn/T/ipykernel_56660/1217802004.py:46: FutureWarning: The frame.append method is deprecated and will be removed from pandas in a future version. Use pandas.concat instead.\n",
      "  daySimulation = daySimulation.append(ddfinal)\n"
     ]
    },
    {
     "data": {
      "application/vnd.jupyter.widget-view+json": {
       "model_id": "d6154506caac46a6b853589bfb8134ae",
       "version_major": 2,
       "version_minor": 0
      },
      "text/plain": [
       "exporting log, completed traces ::   0%|          | 0/1 [00:00<?, ?it/s]"
      ]
     },
     "metadata": {},
     "output_type": "display_data"
    },
    {
     "name": "stderr",
     "output_type": "stream",
     "text": [
      "/var/folders/7c/r3slh6d1643d1hl26cgzfq5c0000gn/T/ipykernel_56660/1217802004.py:46: FutureWarning: The frame.append method is deprecated and will be removed from pandas in a future version. Use pandas.concat instead.\n",
      "  daySimulation = daySimulation.append(ddfinal)\n"
     ]
    },
    {
     "data": {
      "application/vnd.jupyter.widget-view+json": {
       "model_id": "e23a7b9b525446f384a8c606dd1e0418",
       "version_major": 2,
       "version_minor": 0
      },
      "text/plain": [
       "exporting log, completed traces ::   0%|          | 0/1 [00:00<?, ?it/s]"
      ]
     },
     "metadata": {},
     "output_type": "display_data"
    },
    {
     "name": "stderr",
     "output_type": "stream",
     "text": [
      "/var/folders/7c/r3slh6d1643d1hl26cgzfq5c0000gn/T/ipykernel_56660/1217802004.py:46: FutureWarning: The frame.append method is deprecated and will be removed from pandas in a future version. Use pandas.concat instead.\n",
      "  daySimulation = daySimulation.append(ddfinal)\n"
     ]
    },
    {
     "data": {
      "application/vnd.jupyter.widget-view+json": {
       "model_id": "d2779c7cc9a94155ae1a0dab6f4b761c",
       "version_major": 2,
       "version_minor": 0
      },
      "text/plain": [
       "exporting log, completed traces ::   0%|          | 0/1 [00:00<?, ?it/s]"
      ]
     },
     "metadata": {},
     "output_type": "display_data"
    },
    {
     "name": "stderr",
     "output_type": "stream",
     "text": [
      "/var/folders/7c/r3slh6d1643d1hl26cgzfq5c0000gn/T/ipykernel_56660/1217802004.py:46: FutureWarning: The frame.append method is deprecated and will be removed from pandas in a future version. Use pandas.concat instead.\n",
      "  daySimulation = daySimulation.append(ddfinal)\n"
     ]
    },
    {
     "data": {
      "application/vnd.jupyter.widget-view+json": {
       "model_id": "58c4ae73e2784d6695369736b0765944",
       "version_major": 2,
       "version_minor": 0
      },
      "text/plain": [
       "exporting log, completed traces ::   0%|          | 0/7 [00:00<?, ?it/s]"
      ]
     },
     "metadata": {},
     "output_type": "display_data"
    },
    {
     "data": {
      "application/vnd.jupyter.widget-view+json": {
       "model_id": "70d396d6507a4ee3b4d0cf873bd59167",
       "version_major": 2,
       "version_minor": 0
      },
      "text/plain": [
       "exporting log, completed traces ::   0%|          | 0/1 [00:00<?, ?it/s]"
      ]
     },
     "metadata": {},
     "output_type": "display_data"
    },
    {
     "name": "stderr",
     "output_type": "stream",
     "text": [
      "/var/folders/7c/r3slh6d1643d1hl26cgzfq5c0000gn/T/ipykernel_56660/2540266584.py:41: FutureWarning: The frame.append method is deprecated and will be removed from pandas in a future version. Use pandas.concat instead.\n",
      "  daySimulation = daySimulation.append(ddfinal)\n"
     ]
    },
    {
     "data": {
      "application/vnd.jupyter.widget-view+json": {
       "model_id": "e54cc4c3400f4874a1b9929cb65010c8",
       "version_major": 2,
       "version_minor": 0
      },
      "text/plain": [
       "exporting log, completed traces ::   0%|          | 0/1 [00:00<?, ?it/s]"
      ]
     },
     "metadata": {},
     "output_type": "display_data"
    },
    {
     "name": "stderr",
     "output_type": "stream",
     "text": [
      "/var/folders/7c/r3slh6d1643d1hl26cgzfq5c0000gn/T/ipykernel_56660/2540266584.py:41: FutureWarning: The frame.append method is deprecated and will be removed from pandas in a future version. Use pandas.concat instead.\n",
      "  daySimulation = daySimulation.append(ddfinal)\n"
     ]
    },
    {
     "data": {
      "application/vnd.jupyter.widget-view+json": {
       "model_id": "e258cd49e6b344eea54bcc8188466a1f",
       "version_major": 2,
       "version_minor": 0
      },
      "text/plain": [
       "exporting log, completed traces ::   0%|          | 0/1 [00:00<?, ?it/s]"
      ]
     },
     "metadata": {},
     "output_type": "display_data"
    },
    {
     "name": "stderr",
     "output_type": "stream",
     "text": [
      "/var/folders/7c/r3slh6d1643d1hl26cgzfq5c0000gn/T/ipykernel_56660/2540266584.py:41: FutureWarning: The frame.append method is deprecated and will be removed from pandas in a future version. Use pandas.concat instead.\n",
      "  daySimulation = daySimulation.append(ddfinal)\n"
     ]
    },
    {
     "data": {
      "application/vnd.jupyter.widget-view+json": {
       "model_id": "9be33967cde245c9a56423695278d834",
       "version_major": 2,
       "version_minor": 0
      },
      "text/plain": [
       "exporting log, completed traces ::   0%|          | 0/1 [00:00<?, ?it/s]"
      ]
     },
     "metadata": {},
     "output_type": "display_data"
    },
    {
     "name": "stderr",
     "output_type": "stream",
     "text": [
      "/var/folders/7c/r3slh6d1643d1hl26cgzfq5c0000gn/T/ipykernel_56660/2540266584.py:41: FutureWarning: The frame.append method is deprecated and will be removed from pandas in a future version. Use pandas.concat instead.\n",
      "  daySimulation = daySimulation.append(ddfinal)\n"
     ]
    },
    {
     "data": {
      "application/vnd.jupyter.widget-view+json": {
       "model_id": "04f4d265644240e9a017f26441d90dcb",
       "version_major": 2,
       "version_minor": 0
      },
      "text/plain": [
       "exporting log, completed traces ::   0%|          | 0/1 [00:00<?, ?it/s]"
      ]
     },
     "metadata": {},
     "output_type": "display_data"
    },
    {
     "name": "stderr",
     "output_type": "stream",
     "text": [
      "/var/folders/7c/r3slh6d1643d1hl26cgzfq5c0000gn/T/ipykernel_56660/2540266584.py:41: FutureWarning: The frame.append method is deprecated and will be removed from pandas in a future version. Use pandas.concat instead.\n",
      "  daySimulation = daySimulation.append(ddfinal)\n"
     ]
    },
    {
     "data": {
      "application/vnd.jupyter.widget-view+json": {
       "model_id": "d0499e0c4b61442b8951aa01ad111ef7",
       "version_major": 2,
       "version_minor": 0
      },
      "text/plain": [
       "exporting log, completed traces ::   0%|          | 0/1 [00:00<?, ?it/s]"
      ]
     },
     "metadata": {},
     "output_type": "display_data"
    },
    {
     "name": "stderr",
     "output_type": "stream",
     "text": [
      "/var/folders/7c/r3slh6d1643d1hl26cgzfq5c0000gn/T/ipykernel_56660/2540266584.py:41: FutureWarning: The frame.append method is deprecated and will be removed from pandas in a future version. Use pandas.concat instead.\n",
      "  daySimulation = daySimulation.append(ddfinal)\n"
     ]
    },
    {
     "data": {
      "application/vnd.jupyter.widget-view+json": {
       "model_id": "29302024b1204ddcb07586f2a64e0202",
       "version_major": 2,
       "version_minor": 0
      },
      "text/plain": [
       "exporting log, completed traces ::   0%|          | 0/1 [00:00<?, ?it/s]"
      ]
     },
     "metadata": {},
     "output_type": "display_data"
    },
    {
     "name": "stderr",
     "output_type": "stream",
     "text": [
      "/var/folders/7c/r3slh6d1643d1hl26cgzfq5c0000gn/T/ipykernel_56660/2540266584.py:41: FutureWarning: The frame.append method is deprecated and will be removed from pandas in a future version. Use pandas.concat instead.\n",
      "  daySimulation = daySimulation.append(ddfinal)\n"
     ]
    },
    {
     "data": {
      "application/vnd.jupyter.widget-view+json": {
       "model_id": "ff0ada5726ca40a887b1663f08cfc3df",
       "version_major": 2,
       "version_minor": 0
      },
      "text/plain": [
       "exporting log, completed traces ::   0%|          | 0/7 [00:00<?, ?it/s]"
      ]
     },
     "metadata": {},
     "output_type": "display_data"
    }
   ],
   "source": [
    "createEventLog3A(56, 'Store3A.xes')\n",
    "createEventLog3A(7, 'Store3Ap.xes')\n",
    "createEventLog3B(7, 'Store3B.xes')"
   ]
  },
  {
   "cell_type": "markdown",
   "id": "challenging-windsor",
   "metadata": {},
   "source": [
    "# ------------------------------"
   ]
  }
 ],
 "metadata": {
  "kernelspec": {
   "display_name": "Python 3 (ipykernel)",
   "language": "python",
   "name": "python3"
  },
  "language_info": {
   "codemirror_mode": {
    "name": "ipython",
    "version": 3
   },
   "file_extension": ".py",
   "mimetype": "text/x-python",
   "name": "python",
   "nbconvert_exporter": "python",
   "pygments_lexer": "ipython3",
   "version": "3.9.12"
  }
 },
 "nbformat": 4,
 "nbformat_minor": 5
}
