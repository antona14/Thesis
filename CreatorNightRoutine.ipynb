{
 "cells": [
  {
   "cell_type": "code",
   "execution_count": 22,
   "id": "southeast-variety",
   "metadata": {},
   "outputs": [],
   "source": [
    "import random\n",
    "from datetime import datetime, date, timedelta\n",
    "import pandas as pd\n",
    "import itertools\n",
    "import json\n",
    "import numpy\n",
    "import pm4py\n",
    "import os\n",
    "import functools"
   ]
  },
  {
   "cell_type": "code",
   "execution_count": 23,
   "id": "recognized-brown",
   "metadata": {},
   "outputs": [],
   "source": [
    "def getRandomTime(min_x, max_x, duration, start_time):\n",
    "    if type(start_time) == type('a'):\n",
    "        start_time = datetime.strptime(start_time, \"%Y-%m-%d %H:%M:%S:%f\")\n",
    "    random_duration = start_time + timedelta(minutes=duration)\n",
    "    return (random_duration.strftime('%Y-%m-%d %H:%M:%S:%f'), duration)"
   ]
  },
  {
   "cell_type": "code",
   "execution_count": 24,
   "id": "fleet-british",
   "metadata": {},
   "outputs": [],
   "source": [
    "def calculateDuration(df, start_time):\n",
    "    for index, row in df.iterrows():\n",
    "        if index != 0:\n",
    "            previous = df.loc[index -1, \"End_time\"]\n",
    "            a = getRandomTime(row[\"Min\"],row[\"Max\"], row[\"Duration\"], previous)\n",
    "            df.at[index, \"start_time\"] = previous\n",
    "            df.at[index, \"End_time\"] = datetime.strptime(a[0], \"%Y-%m-%d %H:%M:%S:%f\")\n",
    "            df.at[index, \"Duration\"] = a[1]\n",
    "        else:\n",
    "            a = getRandomTime(row[\"Min\"],row[\"Max\"], row[\"Duration\"], start_time)\n",
    "            df.at[index, \"start_time\"] = datetime.strptime(start_time.strftime('%Y-%m-%d %H:%M:%S:%f'), \"%Y-%m-%d %H:%M:%S:%f\")\n",
    "            df.at[index, \"End_time\"] = datetime.strptime(a[0], \"%Y-%m-%d %H:%M:%S:%f\")\n",
    "            df.at[index, \"Duration\"] = a[1]\n",
    "    return(df)"
   ]
  },
  {
   "cell_type": "code",
   "execution_count": 25,
   "id": "relevant-batch",
   "metadata": {},
   "outputs": [],
   "source": [
    "# Each Activity have 3 properties: Activity, minimum time, maximum time\n",
    "\n",
    "def nightSleep():\n",
    "    return ['sleep', '00:15:00:00','04:00:00:00']\n",
    "\n",
    "def nightSleep3B():\n",
    "    return ['sleep', '00:00:00:00','01:00:00:00']"
   ]
  },
  {
   "cell_type": "code",
   "execution_count": 26,
   "id": "supported-plant",
   "metadata": {},
   "outputs": [],
   "source": [
    "def goBathroomNight():\n",
    "    return ['bathroom', '00:05:00:00', '00:15:00:00']\n",
    " \n",
    "def goBathroomNight3B():\n",
    "    return ['bathroom', '00:03:00:00', '00:10:00:00']"
   ]
  },
  {
   "cell_type": "code",
   "execution_count": 27,
   "id": "human-minnesota",
   "metadata": {},
   "outputs": [],
   "source": [
    "def wakeUp():\n",
    "    return ['wake up', '00:01:00:00','00:15:00:00']"
   ]
  },
  {
   "cell_type": "code",
   "execution_count": 28,
   "id": "surgical-likelihood",
   "metadata": {},
   "outputs": [],
   "source": [
    "def waitingTime3A():\n",
    "    return ['waiting', '00:01:00:00', '00:03:00:00']\n",
    "\n",
    "def waitingTime3B():\n",
    "    return ['waiting', '00:01:00:00', '00:15:00:00']"
   ]
  },
  {
   "cell_type": "code",
   "execution_count": 29,
   "id": "helpful-latest",
   "metadata": {},
   "outputs": [],
   "source": [
    "def build3A():\n",
    "    night_duration = 480\n",
    "    activities = []\n",
    "    group = [nightSleep(), nightSleep(), nightSleep(), nightSleep(), nightSleep(), goBathroomNight()]\n",
    "    activity = random.choice(group)\n",
    "    current_state = activity\n",
    "    while night_duration <= 480:\n",
    "        if activity == nightSleep():\n",
    "            if night_duration <= 60:\n",
    "                break\n",
    "            activity_duration = round(random.uniform(60,240),2)\n",
    "        else:\n",
    "            activity_duration = round(random.uniform(5, 15),2)\n",
    "        activities.append([activity, activity_duration])\n",
    "        night_duration -= activity_duration\n",
    "        \n",
    "        \n",
    "        if activity == current_state:\n",
    "\n",
    "            activity = random.choice(group)\n",
    "        else:\n",
    "            #print(activity, current_state)\n",
    "            activities.insert(-1, [waitingTime3A(), round(random.uniform(1, 3),2)])\n",
    "            current_state = activity\n",
    "            activity = random.choice(group)\n",
    "            \n",
    "    activities.append([waitingTime3A(), round(random.uniform(1, 3),2)])\n",
    "    return activities"
   ]
  },
  {
   "cell_type": "code",
   "execution_count": 30,
   "id": "fixed-thing",
   "metadata": {},
   "outputs": [],
   "source": [
    "def build3B():\n",
    "    night_duration = 640\n",
    "    activities = []\n",
    "#     group = [nightSleep3B(), goBathroomNight3B(), nightSleep3B(), goBathroomNight3B(), nightSleep3B(), goBathroomNight3B(), wakeUp()]\n",
    "    group = [nightSleep3B(), goBathroomNight3B(), nightSleep3B(), goBathroomNight3B(), nightSleep3B(), goBathroomNight3B()]#, wakeUp()]\n",
    "    activity = random.choice(group)\n",
    "    current_state = activity\n",
    "    while night_duration <= 640:\n",
    "        activity = random.choice(group)\n",
    "        if activity == wakeUp():\n",
    "            activities.append([activity, round(random.uniform(0,15),2)])\n",
    "        if activity == nightSleep3B():\n",
    "            if night_duration <= 60:\n",
    "                break\n",
    "            activity_duration = round(random.uniform(0,120),2)\n",
    "        else:\n",
    "            activity_duration = round(random.uniform(0,45),2)\n",
    "        activities.append([activity, activity_duration])\n",
    "        night_duration -= activity_duration\n",
    "        \n",
    "        \n",
    "        if activity == current_state:\n",
    "            activity = random.choice(group)\n",
    "        else:\n",
    "            #print(activity, current_state)\n",
    "            activities.insert(-1, [waitingTime3A(), round(random.uniform(1, 10),2)])\n",
    "            current_state = activity\n",
    "            activity = random.choice(group)\n",
    "            \n",
    "    activities.append([waitingTime3A(), round(random.uniform(1, 10),2)])\n",
    "    return activities"
   ]
  },
  {
   "cell_type": "code",
   "execution_count": 31,
   "id": "danish-newfoundland",
   "metadata": {},
   "outputs": [],
   "source": [
    "def mergeData(day):\n",
    "    droprow = []\n",
    "    result = day\n",
    "    label_index = 0\n",
    "    for i in range(1, day.shape[0]):\n",
    "        if day.iloc[i]['concept:name'] == result.iloc[label_index]['concept:name']:\n",
    "            result.iloc[label_index, 3] = day.iloc[i, 3]\n",
    "            result.iloc[label_index, 4] += day.iloc[i, 4]\n",
    "            droprow.append(i)\n",
    "        else:\n",
    "            label_index = i\n",
    "    result = result.drop(index=droprow)\n",
    "    result = result.reset_index()\n",
    "    return result"
   ]
  },
  {
   "cell_type": "code",
   "execution_count": 32,
   "id": "contemporary-friendly",
   "metadata": {},
   "outputs": [],
   "source": [
    "dayActivities = build3A()\n",
    "dayActivities.append([wakeUp(), round(random.uniform(1, 15),2)])\n",
    "dd = pd.DataFrame(dayActivities)\n",
    "dd = pd.concat([dd[0].apply(lambda x: pd.Series(x)), dd[1]], axis=1)"
   ]
  },
  {
   "cell_type": "code",
   "execution_count": 33,
   "id": "sexual-preference",
   "metadata": {},
   "outputs": [],
   "source": [
    "def createEventLog3A(dayRange, fileName):\n",
    "    path = './'+fileName.split('.')[0] \n",
    "    if os.path.exists(path):\n",
    "        pass\n",
    "    else:\n",
    "        os.mkdir(path)\n",
    "        \n",
    "    #xes_Index = [\"case:concept:name\",\"concept:name\" , \"start_time\", \"End_time\", \"Duration\"]\n",
    "    daySimulation = pd.DataFrame()\n",
    "#     print(daySimulation)\n",
    "\n",
    "#     Setting the start date (the first date in log)\n",
    "    start_time = datetime(2022, 1, 1, 22, 0, 0, 0)\n",
    "    \n",
    "    for i in range(dayRange):\n",
    "        # Create daily routine\n",
    "        dayActivities = build3A()\n",
    "        dayActivities.append([wakeUp(), round(random.uniform(1, 15),2)])\n",
    "        dd = pd.DataFrame(dayActivities)\n",
    "        dd = pd.concat([dd[0].apply(lambda x: pd.Series(x)), dd[1]], axis=1)\n",
    "        dd.columns = ['Activity', 'Min', 'Max', 'Duration']\n",
    "        dd = dd.reindex(columns = [\"Activity\",\"Min\", \"Max\", \"start_time\", \"End_time\", \"Duration\"]) \n",
    "        dd = dd.fillna(\"\")\n",
    "\n",
    "        # Randomly get time and calculate routine\n",
    "#         start_time = datetime(2022, 1, i+1, 22, 0, 0, 0).strftime('%Y-%m-%d %H:%M:%S:%f'\n",
    "#         Adding one day to the starting date\n",
    "        start_time = start_time + timedelta(days=1)\n",
    "\n",
    "        ddfinal = calculateDuration(dd, start_time)\n",
    "        ddfinal = ddfinal.drop(columns =['Min', 'Max'])\n",
    "        ddfinal = ddfinal.rename(columns={'Activity':'concept:name'})\n",
    "        ddfinal = ddfinal.rename(columns={'End_time':'time:timestamp'})\n",
    "        #ddfinal = ddfinal.rename(columns={'index':'case_id'})\n",
    "        ddfinal['case_id'] = i+1\n",
    "        # print(ddfinal)\n",
    "        ddfinal.insert(loc=0, column='case:concept:name', value=i+1)\n",
    "        #resfinal = resfinal.reindex(columns = ['case:concept:name', 'concept:name', 'Start_time', 'End_time', 'Duration'])\n",
    "        ddfinal = mergeData(ddfinal)\n",
    "        \n",
    "#         print(ddfinal)\n",
    "        ddfinal = ddfinal.drop(ddfinal[ddfinal['concept:name']=='waiting'].index)\n",
    "    \n",
    "        pm4py.write_xes(ddfinal, './%s/'%path + 'day%d.xes'%(i+1))\n",
    "    #     Add daily routine to Final data\n",
    "        daySimulation = daySimulation.append(ddfinal)\n",
    "        \n",
    "        # Create Event Log 3A\n",
    "\n",
    "    #daySimulation = daySimulation.drop(daySimulation[daySimulation['concept:name']=='waiting'].index)\n",
    "    #print(daySimulation)\n",
    "    pm4py.write_xes(daySimulation, fileName)"
   ]
  },
  {
   "cell_type": "code",
   "execution_count": 34,
   "id": "comparable-vault",
   "metadata": {},
   "outputs": [],
   "source": [
    "def createEventLog3B(dayRange, fileName):\n",
    "    path = './'+fileName.split('.')[0] \n",
    "    if os.path.exists(path):\n",
    "        pass\n",
    "    else:\n",
    "        os.mkdir(path)\n",
    "    \n",
    "    #xes_Index = [\"case:concept:name\",\"Activity\" , \"start_time\", \"End_time\", \"Duration\"]\n",
    "    daySimulation = pd.DataFrame()\n",
    "    \n",
    "#     Setting the start date (the first date in log)\n",
    "    start_time = datetime(2022, 1, 1, 22, 0, 0, 0)\n",
    "\n",
    "    for i in range(dayRange):\n",
    "        # Create daily routine\n",
    "        dayActivities = build3B()\n",
    "        dayActivities.append([wakeUp(), round(random.uniform(1, 15),2)])\n",
    "        dd = pd.DataFrame(dayActivities)\n",
    "        dd = pd.concat([dd[0].apply(lambda x: pd.Series(x)), dd[1]], axis=1)\n",
    "        dd.columns = ['Activity', 'Min', 'Max', 'Duration']\n",
    "        dd = dd.reindex(columns = [\"Activity\",\"Min\", \"Max\", \"start_time\", \"End_time\", \"Duration\"]) \n",
    "        dd = dd.fillna(\"\")\n",
    "        #print(dd)\n",
    "        # Randomly get time and calculate routine\n",
    "#         start_time = datetime(2022, 1, i+1, 22, 0, 0, 0).strftime('%Y-%m-%d %H:%M:%S:%f')\n",
    "#         Adding one day to the starting date\n",
    "        start_time = start_time + timedelta(days=1)\n",
    "    \n",
    "        ddfinal = calculateDuration(dd, start_time)\n",
    "        ddfinal = ddfinal.drop(columns =['Min', 'Max'])\n",
    "        ddfinal = ddfinal.rename(columns={'Activity':'concept:name'})\n",
    "        ddfinal = ddfinal.rename(columns={'End_time':'time:timestamp'})\n",
    "        ddfinal.insert(loc=0, column='case:concept:name', value=i+1)\n",
    "        ddfinal = mergeData(ddfinal)\n",
    "        \n",
    "        ddfinal = ddfinal.drop(ddfinal[ddfinal['concept:name']=='waiting'].index)\n",
    "    \n",
    "        pm4py.write_xes(ddfinal, './%s/'%path + 'day%d.xes'%(i+1))\n",
    "\n",
    "    #     Add daily routine to Final data\n",
    "        daySimulation = daySimulation.append(ddfinal)\n",
    "        \n",
    "        # Create Event Log 3A\n",
    "    daySimulation = daySimulation.drop(daySimulation[daySimulation['concept:name']=='waiting'].index)\n",
    "    pm4py.write_xes(daySimulation, fileName)"
   ]
  },
  {
   "cell_type": "code",
   "execution_count": 35,
   "id": "exact-likelihood",
   "metadata": {
    "scrolled": true
   },
   "outputs": [
    {
     "data": {
      "application/vnd.jupyter.widget-view+json": {
       "model_id": "bce5d4ffad664ac28ceff964680f8e3f",
       "version_major": 2,
       "version_minor": 0
      },
      "text/plain": [
       "exporting log, completed traces ::   0%|          | 0/1 [00:00<?, ?it/s]"
      ]
     },
     "metadata": {},
     "output_type": "display_data"
    },
    {
     "name": "stderr",
     "output_type": "stream",
     "text": [
      "/var/folders/7c/r3slh6d1643d1hl26cgzfq5c0000gn/T/ipykernel_52329/692468135.py:46: FutureWarning: The frame.append method is deprecated and will be removed from pandas in a future version. Use pandas.concat instead.\n",
      "  daySimulation = daySimulation.append(ddfinal)\n"
     ]
    },
    {
     "data": {
      "application/vnd.jupyter.widget-view+json": {
       "model_id": "9383c1b80aec41a5ac2000fce5208abf",
       "version_major": 2,
       "version_minor": 0
      },
      "text/plain": [
       "exporting log, completed traces ::   0%|          | 0/1 [00:00<?, ?it/s]"
      ]
     },
     "metadata": {},
     "output_type": "display_data"
    },
    {
     "name": "stderr",
     "output_type": "stream",
     "text": [
      "/var/folders/7c/r3slh6d1643d1hl26cgzfq5c0000gn/T/ipykernel_52329/692468135.py:46: FutureWarning: The frame.append method is deprecated and will be removed from pandas in a future version. Use pandas.concat instead.\n",
      "  daySimulation = daySimulation.append(ddfinal)\n"
     ]
    },
    {
     "data": {
      "application/vnd.jupyter.widget-view+json": {
       "model_id": "7107940a502a4ebe8b18f1e812d72283",
       "version_major": 2,
       "version_minor": 0
      },
      "text/plain": [
       "exporting log, completed traces ::   0%|          | 0/1 [00:00<?, ?it/s]"
      ]
     },
     "metadata": {},
     "output_type": "display_data"
    },
    {
     "name": "stderr",
     "output_type": "stream",
     "text": [
      "/var/folders/7c/r3slh6d1643d1hl26cgzfq5c0000gn/T/ipykernel_52329/692468135.py:46: FutureWarning: The frame.append method is deprecated and will be removed from pandas in a future version. Use pandas.concat instead.\n",
      "  daySimulation = daySimulation.append(ddfinal)\n"
     ]
    },
    {
     "data": {
      "application/vnd.jupyter.widget-view+json": {
       "model_id": "42b164a14cf748278e157eebd4b4fe2a",
       "version_major": 2,
       "version_minor": 0
      },
      "text/plain": [
       "exporting log, completed traces ::   0%|          | 0/1 [00:00<?, ?it/s]"
      ]
     },
     "metadata": {},
     "output_type": "display_data"
    },
    {
     "name": "stderr",
     "output_type": "stream",
     "text": [
      "/var/folders/7c/r3slh6d1643d1hl26cgzfq5c0000gn/T/ipykernel_52329/692468135.py:46: FutureWarning: The frame.append method is deprecated and will be removed from pandas in a future version. Use pandas.concat instead.\n",
      "  daySimulation = daySimulation.append(ddfinal)\n"
     ]
    },
    {
     "data": {
      "application/vnd.jupyter.widget-view+json": {
       "model_id": "8755328e9b774c74a1c6ff956e488945",
       "version_major": 2,
       "version_minor": 0
      },
      "text/plain": [
       "exporting log, completed traces ::   0%|          | 0/1 [00:00<?, ?it/s]"
      ]
     },
     "metadata": {},
     "output_type": "display_data"
    },
    {
     "name": "stderr",
     "output_type": "stream",
     "text": [
      "/var/folders/7c/r3slh6d1643d1hl26cgzfq5c0000gn/T/ipykernel_52329/692468135.py:46: FutureWarning: The frame.append method is deprecated and will be removed from pandas in a future version. Use pandas.concat instead.\n",
      "  daySimulation = daySimulation.append(ddfinal)\n"
     ]
    },
    {
     "data": {
      "application/vnd.jupyter.widget-view+json": {
       "model_id": "5fed25c8e24744e293b6e61dc2e09929",
       "version_major": 2,
       "version_minor": 0
      },
      "text/plain": [
       "exporting log, completed traces ::   0%|          | 0/1 [00:00<?, ?it/s]"
      ]
     },
     "metadata": {},
     "output_type": "display_data"
    },
    {
     "name": "stderr",
     "output_type": "stream",
     "text": [
      "/var/folders/7c/r3slh6d1643d1hl26cgzfq5c0000gn/T/ipykernel_52329/692468135.py:46: FutureWarning: The frame.append method is deprecated and will be removed from pandas in a future version. Use pandas.concat instead.\n",
      "  daySimulation = daySimulation.append(ddfinal)\n"
     ]
    },
    {
     "data": {
      "application/vnd.jupyter.widget-view+json": {
       "model_id": "57fdbf1b219b47fe8b223c2c440eeb20",
       "version_major": 2,
       "version_minor": 0
      },
      "text/plain": [
       "exporting log, completed traces ::   0%|          | 0/1 [00:00<?, ?it/s]"
      ]
     },
     "metadata": {},
     "output_type": "display_data"
    },
    {
     "name": "stderr",
     "output_type": "stream",
     "text": [
      "/var/folders/7c/r3slh6d1643d1hl26cgzfq5c0000gn/T/ipykernel_52329/692468135.py:46: FutureWarning: The frame.append method is deprecated and will be removed from pandas in a future version. Use pandas.concat instead.\n",
      "  daySimulation = daySimulation.append(ddfinal)\n"
     ]
    },
    {
     "data": {
      "application/vnd.jupyter.widget-view+json": {
       "model_id": "91d976b141e34b3c8655baaf98ef1d44",
       "version_major": 2,
       "version_minor": 0
      },
      "text/plain": [
       "exporting log, completed traces ::   0%|          | 0/1 [00:00<?, ?it/s]"
      ]
     },
     "metadata": {},
     "output_type": "display_data"
    },
    {
     "name": "stderr",
     "output_type": "stream",
     "text": [
      "/var/folders/7c/r3slh6d1643d1hl26cgzfq5c0000gn/T/ipykernel_52329/692468135.py:46: FutureWarning: The frame.append method is deprecated and will be removed from pandas in a future version. Use pandas.concat instead.\n",
      "  daySimulation = daySimulation.append(ddfinal)\n"
     ]
    },
    {
     "data": {
      "application/vnd.jupyter.widget-view+json": {
       "model_id": "8fee5998dc6e41939060cf390404a86d",
       "version_major": 2,
       "version_minor": 0
      },
      "text/plain": [
       "exporting log, completed traces ::   0%|          | 0/1 [00:00<?, ?it/s]"
      ]
     },
     "metadata": {},
     "output_type": "display_data"
    },
    {
     "name": "stderr",
     "output_type": "stream",
     "text": [
      "/var/folders/7c/r3slh6d1643d1hl26cgzfq5c0000gn/T/ipykernel_52329/692468135.py:46: FutureWarning: The frame.append method is deprecated and will be removed from pandas in a future version. Use pandas.concat instead.\n",
      "  daySimulation = daySimulation.append(ddfinal)\n"
     ]
    },
    {
     "data": {
      "application/vnd.jupyter.widget-view+json": {
       "model_id": "a99668ccde064df19398544f2b7c2659",
       "version_major": 2,
       "version_minor": 0
      },
      "text/plain": [
       "exporting log, completed traces ::   0%|          | 0/1 [00:00<?, ?it/s]"
      ]
     },
     "metadata": {},
     "output_type": "display_data"
    },
    {
     "name": "stderr",
     "output_type": "stream",
     "text": [
      "/var/folders/7c/r3slh6d1643d1hl26cgzfq5c0000gn/T/ipykernel_52329/692468135.py:46: FutureWarning: The frame.append method is deprecated and will be removed from pandas in a future version. Use pandas.concat instead.\n",
      "  daySimulation = daySimulation.append(ddfinal)\n"
     ]
    },
    {
     "data": {
      "application/vnd.jupyter.widget-view+json": {
       "model_id": "b0135e1e35d64adaa49ac1a5148414ca",
       "version_major": 2,
       "version_minor": 0
      },
      "text/plain": [
       "exporting log, completed traces ::   0%|          | 0/1 [00:00<?, ?it/s]"
      ]
     },
     "metadata": {},
     "output_type": "display_data"
    },
    {
     "name": "stderr",
     "output_type": "stream",
     "text": [
      "/var/folders/7c/r3slh6d1643d1hl26cgzfq5c0000gn/T/ipykernel_52329/692468135.py:46: FutureWarning: The frame.append method is deprecated and will be removed from pandas in a future version. Use pandas.concat instead.\n",
      "  daySimulation = daySimulation.append(ddfinal)\n"
     ]
    },
    {
     "data": {
      "application/vnd.jupyter.widget-view+json": {
       "model_id": "acd9ad80809b4b20ad95b0cb8b75090c",
       "version_major": 2,
       "version_minor": 0
      },
      "text/plain": [
       "exporting log, completed traces ::   0%|          | 0/1 [00:00<?, ?it/s]"
      ]
     },
     "metadata": {},
     "output_type": "display_data"
    },
    {
     "name": "stderr",
     "output_type": "stream",
     "text": [
      "/var/folders/7c/r3slh6d1643d1hl26cgzfq5c0000gn/T/ipykernel_52329/692468135.py:46: FutureWarning: The frame.append method is deprecated and will be removed from pandas in a future version. Use pandas.concat instead.\n",
      "  daySimulation = daySimulation.append(ddfinal)\n"
     ]
    },
    {
     "data": {
      "application/vnd.jupyter.widget-view+json": {
       "model_id": "8f419963c0754c25ae7fb85c15cb2682",
       "version_major": 2,
       "version_minor": 0
      },
      "text/plain": [
       "exporting log, completed traces ::   0%|          | 0/1 [00:00<?, ?it/s]"
      ]
     },
     "metadata": {},
     "output_type": "display_data"
    },
    {
     "name": "stderr",
     "output_type": "stream",
     "text": [
      "/var/folders/7c/r3slh6d1643d1hl26cgzfq5c0000gn/T/ipykernel_52329/692468135.py:46: FutureWarning: The frame.append method is deprecated and will be removed from pandas in a future version. Use pandas.concat instead.\n",
      "  daySimulation = daySimulation.append(ddfinal)\n"
     ]
    },
    {
     "data": {
      "application/vnd.jupyter.widget-view+json": {
       "model_id": "df03929c37454d2eb8e6c76f31ca044f",
       "version_major": 2,
       "version_minor": 0
      },
      "text/plain": [
       "exporting log, completed traces ::   0%|          | 0/1 [00:00<?, ?it/s]"
      ]
     },
     "metadata": {},
     "output_type": "display_data"
    },
    {
     "name": "stderr",
     "output_type": "stream",
     "text": [
      "/var/folders/7c/r3slh6d1643d1hl26cgzfq5c0000gn/T/ipykernel_52329/692468135.py:46: FutureWarning: The frame.append method is deprecated and will be removed from pandas in a future version. Use pandas.concat instead.\n",
      "  daySimulation = daySimulation.append(ddfinal)\n"
     ]
    },
    {
     "data": {
      "application/vnd.jupyter.widget-view+json": {
       "model_id": "96cdfc8171a84ed998d4474d1eb6a1b6",
       "version_major": 2,
       "version_minor": 0
      },
      "text/plain": [
       "exporting log, completed traces ::   0%|          | 0/1 [00:00<?, ?it/s]"
      ]
     },
     "metadata": {},
     "output_type": "display_data"
    },
    {
     "name": "stderr",
     "output_type": "stream",
     "text": [
      "/var/folders/7c/r3slh6d1643d1hl26cgzfq5c0000gn/T/ipykernel_52329/692468135.py:46: FutureWarning: The frame.append method is deprecated and will be removed from pandas in a future version. Use pandas.concat instead.\n",
      "  daySimulation = daySimulation.append(ddfinal)\n"
     ]
    },
    {
     "data": {
      "application/vnd.jupyter.widget-view+json": {
       "model_id": "8d26724e5cc64596a460dfb4a7627e72",
       "version_major": 2,
       "version_minor": 0
      },
      "text/plain": [
       "exporting log, completed traces ::   0%|          | 0/1 [00:00<?, ?it/s]"
      ]
     },
     "metadata": {},
     "output_type": "display_data"
    },
    {
     "name": "stderr",
     "output_type": "stream",
     "text": [
      "/var/folders/7c/r3slh6d1643d1hl26cgzfq5c0000gn/T/ipykernel_52329/692468135.py:46: FutureWarning: The frame.append method is deprecated and will be removed from pandas in a future version. Use pandas.concat instead.\n",
      "  daySimulation = daySimulation.append(ddfinal)\n"
     ]
    },
    {
     "data": {
      "application/vnd.jupyter.widget-view+json": {
       "model_id": "d78331257e5241dfa05ca48ec36ad76c",
       "version_major": 2,
       "version_minor": 0
      },
      "text/plain": [
       "exporting log, completed traces ::   0%|          | 0/1 [00:00<?, ?it/s]"
      ]
     },
     "metadata": {},
     "output_type": "display_data"
    },
    {
     "name": "stderr",
     "output_type": "stream",
     "text": [
      "/var/folders/7c/r3slh6d1643d1hl26cgzfq5c0000gn/T/ipykernel_52329/692468135.py:46: FutureWarning: The frame.append method is deprecated and will be removed from pandas in a future version. Use pandas.concat instead.\n",
      "  daySimulation = daySimulation.append(ddfinal)\n"
     ]
    },
    {
     "data": {
      "application/vnd.jupyter.widget-view+json": {
       "model_id": "8090628f1fb548019bdeff4b2942c49f",
       "version_major": 2,
       "version_minor": 0
      },
      "text/plain": [
       "exporting log, completed traces ::   0%|          | 0/1 [00:00<?, ?it/s]"
      ]
     },
     "metadata": {},
     "output_type": "display_data"
    },
    {
     "name": "stderr",
     "output_type": "stream",
     "text": [
      "/var/folders/7c/r3slh6d1643d1hl26cgzfq5c0000gn/T/ipykernel_52329/692468135.py:46: FutureWarning: The frame.append method is deprecated and will be removed from pandas in a future version. Use pandas.concat instead.\n",
      "  daySimulation = daySimulation.append(ddfinal)\n"
     ]
    },
    {
     "data": {
      "application/vnd.jupyter.widget-view+json": {
       "model_id": "7d1c7a79293347a3b5da1539484da9a7",
       "version_major": 2,
       "version_minor": 0
      },
      "text/plain": [
       "exporting log, completed traces ::   0%|          | 0/1 [00:00<?, ?it/s]"
      ]
     },
     "metadata": {},
     "output_type": "display_data"
    },
    {
     "name": "stderr",
     "output_type": "stream",
     "text": [
      "/var/folders/7c/r3slh6d1643d1hl26cgzfq5c0000gn/T/ipykernel_52329/692468135.py:46: FutureWarning: The frame.append method is deprecated and will be removed from pandas in a future version. Use pandas.concat instead.\n",
      "  daySimulation = daySimulation.append(ddfinal)\n"
     ]
    },
    {
     "data": {
      "application/vnd.jupyter.widget-view+json": {
       "model_id": "eedfdf6dda224508aefbe2b63ac9c78d",
       "version_major": 2,
       "version_minor": 0
      },
      "text/plain": [
       "exporting log, completed traces ::   0%|          | 0/1 [00:00<?, ?it/s]"
      ]
     },
     "metadata": {},
     "output_type": "display_data"
    },
    {
     "name": "stderr",
     "output_type": "stream",
     "text": [
      "/var/folders/7c/r3slh6d1643d1hl26cgzfq5c0000gn/T/ipykernel_52329/692468135.py:46: FutureWarning: The frame.append method is deprecated and will be removed from pandas in a future version. Use pandas.concat instead.\n",
      "  daySimulation = daySimulation.append(ddfinal)\n"
     ]
    },
    {
     "data": {
      "application/vnd.jupyter.widget-view+json": {
       "model_id": "fcf464fe209e442fa82b6fa80401079d",
       "version_major": 2,
       "version_minor": 0
      },
      "text/plain": [
       "exporting log, completed traces ::   0%|          | 0/1 [00:00<?, ?it/s]"
      ]
     },
     "metadata": {},
     "output_type": "display_data"
    },
    {
     "name": "stderr",
     "output_type": "stream",
     "text": [
      "/var/folders/7c/r3slh6d1643d1hl26cgzfq5c0000gn/T/ipykernel_52329/692468135.py:46: FutureWarning: The frame.append method is deprecated and will be removed from pandas in a future version. Use pandas.concat instead.\n",
      "  daySimulation = daySimulation.append(ddfinal)\n"
     ]
    },
    {
     "data": {
      "application/vnd.jupyter.widget-view+json": {
       "model_id": "52760c930a56444daa74d7e79b4b3d18",
       "version_major": 2,
       "version_minor": 0
      },
      "text/plain": [
       "exporting log, completed traces ::   0%|          | 0/1 [00:00<?, ?it/s]"
      ]
     },
     "metadata": {},
     "output_type": "display_data"
    },
    {
     "name": "stderr",
     "output_type": "stream",
     "text": [
      "/var/folders/7c/r3slh6d1643d1hl26cgzfq5c0000gn/T/ipykernel_52329/692468135.py:46: FutureWarning: The frame.append method is deprecated and will be removed from pandas in a future version. Use pandas.concat instead.\n",
      "  daySimulation = daySimulation.append(ddfinal)\n"
     ]
    },
    {
     "data": {
      "application/vnd.jupyter.widget-view+json": {
       "model_id": "9ba95870a637464bab97f6f915ad5642",
       "version_major": 2,
       "version_minor": 0
      },
      "text/plain": [
       "exporting log, completed traces ::   0%|          | 0/1 [00:00<?, ?it/s]"
      ]
     },
     "metadata": {},
     "output_type": "display_data"
    },
    {
     "name": "stderr",
     "output_type": "stream",
     "text": [
      "/var/folders/7c/r3slh6d1643d1hl26cgzfq5c0000gn/T/ipykernel_52329/692468135.py:46: FutureWarning: The frame.append method is deprecated and will be removed from pandas in a future version. Use pandas.concat instead.\n",
      "  daySimulation = daySimulation.append(ddfinal)\n"
     ]
    },
    {
     "data": {
      "application/vnd.jupyter.widget-view+json": {
       "model_id": "087f11070941457780b1c4decae13af4",
       "version_major": 2,
       "version_minor": 0
      },
      "text/plain": [
       "exporting log, completed traces ::   0%|          | 0/1 [00:00<?, ?it/s]"
      ]
     },
     "metadata": {},
     "output_type": "display_data"
    },
    {
     "name": "stderr",
     "output_type": "stream",
     "text": [
      "/var/folders/7c/r3slh6d1643d1hl26cgzfq5c0000gn/T/ipykernel_52329/692468135.py:46: FutureWarning: The frame.append method is deprecated and will be removed from pandas in a future version. Use pandas.concat instead.\n",
      "  daySimulation = daySimulation.append(ddfinal)\n"
     ]
    },
    {
     "data": {
      "application/vnd.jupyter.widget-view+json": {
       "model_id": "b57aa49ebf9749b993e40c50d063e6d4",
       "version_major": 2,
       "version_minor": 0
      },
      "text/plain": [
       "exporting log, completed traces ::   0%|          | 0/1 [00:00<?, ?it/s]"
      ]
     },
     "metadata": {},
     "output_type": "display_data"
    },
    {
     "name": "stderr",
     "output_type": "stream",
     "text": [
      "/var/folders/7c/r3slh6d1643d1hl26cgzfq5c0000gn/T/ipykernel_52329/692468135.py:46: FutureWarning: The frame.append method is deprecated and will be removed from pandas in a future version. Use pandas.concat instead.\n",
      "  daySimulation = daySimulation.append(ddfinal)\n"
     ]
    },
    {
     "data": {
      "application/vnd.jupyter.widget-view+json": {
       "model_id": "e65cb2bf380f485d9f808ecc654514ae",
       "version_major": 2,
       "version_minor": 0
      },
      "text/plain": [
       "exporting log, completed traces ::   0%|          | 0/1 [00:00<?, ?it/s]"
      ]
     },
     "metadata": {},
     "output_type": "display_data"
    },
    {
     "name": "stderr",
     "output_type": "stream",
     "text": [
      "/var/folders/7c/r3slh6d1643d1hl26cgzfq5c0000gn/T/ipykernel_52329/692468135.py:46: FutureWarning: The frame.append method is deprecated and will be removed from pandas in a future version. Use pandas.concat instead.\n",
      "  daySimulation = daySimulation.append(ddfinal)\n"
     ]
    },
    {
     "data": {
      "application/vnd.jupyter.widget-view+json": {
       "model_id": "743ec813441d4d7a871e92875d6aa3ee",
       "version_major": 2,
       "version_minor": 0
      },
      "text/plain": [
       "exporting log, completed traces ::   0%|          | 0/1 [00:00<?, ?it/s]"
      ]
     },
     "metadata": {},
     "output_type": "display_data"
    },
    {
     "name": "stderr",
     "output_type": "stream",
     "text": [
      "/var/folders/7c/r3slh6d1643d1hl26cgzfq5c0000gn/T/ipykernel_52329/692468135.py:46: FutureWarning: The frame.append method is deprecated and will be removed from pandas in a future version. Use pandas.concat instead.\n",
      "  daySimulation = daySimulation.append(ddfinal)\n"
     ]
    },
    {
     "data": {
      "application/vnd.jupyter.widget-view+json": {
       "model_id": "9c73545241f14e2795823cec8de634f8",
       "version_major": 2,
       "version_minor": 0
      },
      "text/plain": [
       "exporting log, completed traces ::   0%|          | 0/1 [00:00<?, ?it/s]"
      ]
     },
     "metadata": {},
     "output_type": "display_data"
    },
    {
     "name": "stderr",
     "output_type": "stream",
     "text": [
      "/var/folders/7c/r3slh6d1643d1hl26cgzfq5c0000gn/T/ipykernel_52329/692468135.py:46: FutureWarning: The frame.append method is deprecated and will be removed from pandas in a future version. Use pandas.concat instead.\n",
      "  daySimulation = daySimulation.append(ddfinal)\n"
     ]
    },
    {
     "data": {
      "application/vnd.jupyter.widget-view+json": {
       "model_id": "2b95073fab96445387687e5f29e09f98",
       "version_major": 2,
       "version_minor": 0
      },
      "text/plain": [
       "exporting log, completed traces ::   0%|          | 0/1 [00:00<?, ?it/s]"
      ]
     },
     "metadata": {},
     "output_type": "display_data"
    },
    {
     "name": "stderr",
     "output_type": "stream",
     "text": [
      "/var/folders/7c/r3slh6d1643d1hl26cgzfq5c0000gn/T/ipykernel_52329/692468135.py:46: FutureWarning: The frame.append method is deprecated and will be removed from pandas in a future version. Use pandas.concat instead.\n",
      "  daySimulation = daySimulation.append(ddfinal)\n"
     ]
    },
    {
     "data": {
      "application/vnd.jupyter.widget-view+json": {
       "model_id": "2eb590f86e0a4f50b5b0da86e4c54a34",
       "version_major": 2,
       "version_minor": 0
      },
      "text/plain": [
       "exporting log, completed traces ::   0%|          | 0/1 [00:00<?, ?it/s]"
      ]
     },
     "metadata": {},
     "output_type": "display_data"
    },
    {
     "name": "stderr",
     "output_type": "stream",
     "text": [
      "/var/folders/7c/r3slh6d1643d1hl26cgzfq5c0000gn/T/ipykernel_52329/692468135.py:46: FutureWarning: The frame.append method is deprecated and will be removed from pandas in a future version. Use pandas.concat instead.\n",
      "  daySimulation = daySimulation.append(ddfinal)\n"
     ]
    },
    {
     "data": {
      "application/vnd.jupyter.widget-view+json": {
       "model_id": "27bbc4637e0745b7b67d83d521344e19",
       "version_major": 2,
       "version_minor": 0
      },
      "text/plain": [
       "exporting log, completed traces ::   0%|          | 0/1 [00:00<?, ?it/s]"
      ]
     },
     "metadata": {},
     "output_type": "display_data"
    },
    {
     "name": "stderr",
     "output_type": "stream",
     "text": [
      "/var/folders/7c/r3slh6d1643d1hl26cgzfq5c0000gn/T/ipykernel_52329/692468135.py:46: FutureWarning: The frame.append method is deprecated and will be removed from pandas in a future version. Use pandas.concat instead.\n",
      "  daySimulation = daySimulation.append(ddfinal)\n"
     ]
    },
    {
     "data": {
      "application/vnd.jupyter.widget-view+json": {
       "model_id": "78dedbe4543f48f1a54de04b78795710",
       "version_major": 2,
       "version_minor": 0
      },
      "text/plain": [
       "exporting log, completed traces ::   0%|          | 0/1 [00:00<?, ?it/s]"
      ]
     },
     "metadata": {},
     "output_type": "display_data"
    },
    {
     "name": "stderr",
     "output_type": "stream",
     "text": [
      "/var/folders/7c/r3slh6d1643d1hl26cgzfq5c0000gn/T/ipykernel_52329/692468135.py:46: FutureWarning: The frame.append method is deprecated and will be removed from pandas in a future version. Use pandas.concat instead.\n",
      "  daySimulation = daySimulation.append(ddfinal)\n"
     ]
    },
    {
     "data": {
      "application/vnd.jupyter.widget-view+json": {
       "model_id": "ec6473d017b241edb105f731085e710c",
       "version_major": 2,
       "version_minor": 0
      },
      "text/plain": [
       "exporting log, completed traces ::   0%|          | 0/1 [00:00<?, ?it/s]"
      ]
     },
     "metadata": {},
     "output_type": "display_data"
    },
    {
     "name": "stderr",
     "output_type": "stream",
     "text": [
      "/var/folders/7c/r3slh6d1643d1hl26cgzfq5c0000gn/T/ipykernel_52329/692468135.py:46: FutureWarning: The frame.append method is deprecated and will be removed from pandas in a future version. Use pandas.concat instead.\n",
      "  daySimulation = daySimulation.append(ddfinal)\n"
     ]
    },
    {
     "data": {
      "application/vnd.jupyter.widget-view+json": {
       "model_id": "daa93efa705a4d619282c01e36fc199b",
       "version_major": 2,
       "version_minor": 0
      },
      "text/plain": [
       "exporting log, completed traces ::   0%|          | 0/1 [00:00<?, ?it/s]"
      ]
     },
     "metadata": {},
     "output_type": "display_data"
    },
    {
     "name": "stderr",
     "output_type": "stream",
     "text": [
      "/var/folders/7c/r3slh6d1643d1hl26cgzfq5c0000gn/T/ipykernel_52329/692468135.py:46: FutureWarning: The frame.append method is deprecated and will be removed from pandas in a future version. Use pandas.concat instead.\n",
      "  daySimulation = daySimulation.append(ddfinal)\n"
     ]
    },
    {
     "data": {
      "application/vnd.jupyter.widget-view+json": {
       "model_id": "0fe5bf61932e4bc2b4e9037fa6cc3d95",
       "version_major": 2,
       "version_minor": 0
      },
      "text/plain": [
       "exporting log, completed traces ::   0%|          | 0/1 [00:00<?, ?it/s]"
      ]
     },
     "metadata": {},
     "output_type": "display_data"
    },
    {
     "name": "stderr",
     "output_type": "stream",
     "text": [
      "/var/folders/7c/r3slh6d1643d1hl26cgzfq5c0000gn/T/ipykernel_52329/692468135.py:46: FutureWarning: The frame.append method is deprecated and will be removed from pandas in a future version. Use pandas.concat instead.\n",
      "  daySimulation = daySimulation.append(ddfinal)\n"
     ]
    },
    {
     "data": {
      "application/vnd.jupyter.widget-view+json": {
       "model_id": "1ccce475915b47a4865cf4c8b1324b7f",
       "version_major": 2,
       "version_minor": 0
      },
      "text/plain": [
       "exporting log, completed traces ::   0%|          | 0/1 [00:00<?, ?it/s]"
      ]
     },
     "metadata": {},
     "output_type": "display_data"
    },
    {
     "name": "stderr",
     "output_type": "stream",
     "text": [
      "/var/folders/7c/r3slh6d1643d1hl26cgzfq5c0000gn/T/ipykernel_52329/692468135.py:46: FutureWarning: The frame.append method is deprecated and will be removed from pandas in a future version. Use pandas.concat instead.\n",
      "  daySimulation = daySimulation.append(ddfinal)\n"
     ]
    },
    {
     "data": {
      "application/vnd.jupyter.widget-view+json": {
       "model_id": "c856abdee396490590c982388051d79c",
       "version_major": 2,
       "version_minor": 0
      },
      "text/plain": [
       "exporting log, completed traces ::   0%|          | 0/1 [00:00<?, ?it/s]"
      ]
     },
     "metadata": {},
     "output_type": "display_data"
    },
    {
     "name": "stderr",
     "output_type": "stream",
     "text": [
      "/var/folders/7c/r3slh6d1643d1hl26cgzfq5c0000gn/T/ipykernel_52329/692468135.py:46: FutureWarning: The frame.append method is deprecated and will be removed from pandas in a future version. Use pandas.concat instead.\n",
      "  daySimulation = daySimulation.append(ddfinal)\n"
     ]
    },
    {
     "data": {
      "application/vnd.jupyter.widget-view+json": {
       "model_id": "08e87c4a10d54996bafd6e98789dd604",
       "version_major": 2,
       "version_minor": 0
      },
      "text/plain": [
       "exporting log, completed traces ::   0%|          | 0/1 [00:00<?, ?it/s]"
      ]
     },
     "metadata": {},
     "output_type": "display_data"
    },
    {
     "name": "stderr",
     "output_type": "stream",
     "text": [
      "/var/folders/7c/r3slh6d1643d1hl26cgzfq5c0000gn/T/ipykernel_52329/692468135.py:46: FutureWarning: The frame.append method is deprecated and will be removed from pandas in a future version. Use pandas.concat instead.\n",
      "  daySimulation = daySimulation.append(ddfinal)\n"
     ]
    },
    {
     "data": {
      "application/vnd.jupyter.widget-view+json": {
       "model_id": "ff15e728d27a49e1b681f9f4fac56917",
       "version_major": 2,
       "version_minor": 0
      },
      "text/plain": [
       "exporting log, completed traces ::   0%|          | 0/1 [00:00<?, ?it/s]"
      ]
     },
     "metadata": {},
     "output_type": "display_data"
    },
    {
     "name": "stderr",
     "output_type": "stream",
     "text": [
      "/var/folders/7c/r3slh6d1643d1hl26cgzfq5c0000gn/T/ipykernel_52329/692468135.py:46: FutureWarning: The frame.append method is deprecated and will be removed from pandas in a future version. Use pandas.concat instead.\n",
      "  daySimulation = daySimulation.append(ddfinal)\n"
     ]
    },
    {
     "data": {
      "application/vnd.jupyter.widget-view+json": {
       "model_id": "69ade0d90f164754b9dee068944af247",
       "version_major": 2,
       "version_minor": 0
      },
      "text/plain": [
       "exporting log, completed traces ::   0%|          | 0/1 [00:00<?, ?it/s]"
      ]
     },
     "metadata": {},
     "output_type": "display_data"
    },
    {
     "name": "stderr",
     "output_type": "stream",
     "text": [
      "/var/folders/7c/r3slh6d1643d1hl26cgzfq5c0000gn/T/ipykernel_52329/692468135.py:46: FutureWarning: The frame.append method is deprecated and will be removed from pandas in a future version. Use pandas.concat instead.\n",
      "  daySimulation = daySimulation.append(ddfinal)\n"
     ]
    },
    {
     "data": {
      "application/vnd.jupyter.widget-view+json": {
       "model_id": "5da6d8bed5a545fcb1d582e34102c3aa",
       "version_major": 2,
       "version_minor": 0
      },
      "text/plain": [
       "exporting log, completed traces ::   0%|          | 0/1 [00:00<?, ?it/s]"
      ]
     },
     "metadata": {},
     "output_type": "display_data"
    },
    {
     "name": "stderr",
     "output_type": "stream",
     "text": [
      "/var/folders/7c/r3slh6d1643d1hl26cgzfq5c0000gn/T/ipykernel_52329/692468135.py:46: FutureWarning: The frame.append method is deprecated and will be removed from pandas in a future version. Use pandas.concat instead.\n",
      "  daySimulation = daySimulation.append(ddfinal)\n"
     ]
    },
    {
     "data": {
      "application/vnd.jupyter.widget-view+json": {
       "model_id": "fdf65379fe3b47f2a1b5854acdab1edf",
       "version_major": 2,
       "version_minor": 0
      },
      "text/plain": [
       "exporting log, completed traces ::   0%|          | 0/1 [00:00<?, ?it/s]"
      ]
     },
     "metadata": {},
     "output_type": "display_data"
    },
    {
     "name": "stderr",
     "output_type": "stream",
     "text": [
      "/var/folders/7c/r3slh6d1643d1hl26cgzfq5c0000gn/T/ipykernel_52329/692468135.py:46: FutureWarning: The frame.append method is deprecated and will be removed from pandas in a future version. Use pandas.concat instead.\n",
      "  daySimulation = daySimulation.append(ddfinal)\n"
     ]
    },
    {
     "data": {
      "application/vnd.jupyter.widget-view+json": {
       "model_id": "9f262d4f3b4c4d579feef487d068e37a",
       "version_major": 2,
       "version_minor": 0
      },
      "text/plain": [
       "exporting log, completed traces ::   0%|          | 0/1 [00:00<?, ?it/s]"
      ]
     },
     "metadata": {},
     "output_type": "display_data"
    },
    {
     "name": "stderr",
     "output_type": "stream",
     "text": [
      "/var/folders/7c/r3slh6d1643d1hl26cgzfq5c0000gn/T/ipykernel_52329/692468135.py:46: FutureWarning: The frame.append method is deprecated and will be removed from pandas in a future version. Use pandas.concat instead.\n",
      "  daySimulation = daySimulation.append(ddfinal)\n"
     ]
    },
    {
     "data": {
      "application/vnd.jupyter.widget-view+json": {
       "model_id": "718cc749a8bc4bb4ae2aead4b8413767",
       "version_major": 2,
       "version_minor": 0
      },
      "text/plain": [
       "exporting log, completed traces ::   0%|          | 0/1 [00:00<?, ?it/s]"
      ]
     },
     "metadata": {},
     "output_type": "display_data"
    },
    {
     "name": "stderr",
     "output_type": "stream",
     "text": [
      "/var/folders/7c/r3slh6d1643d1hl26cgzfq5c0000gn/T/ipykernel_52329/692468135.py:46: FutureWarning: The frame.append method is deprecated and will be removed from pandas in a future version. Use pandas.concat instead.\n",
      "  daySimulation = daySimulation.append(ddfinal)\n"
     ]
    },
    {
     "data": {
      "application/vnd.jupyter.widget-view+json": {
       "model_id": "8ec246a3876342968243f37bad12ae3d",
       "version_major": 2,
       "version_minor": 0
      },
      "text/plain": [
       "exporting log, completed traces ::   0%|          | 0/1 [00:00<?, ?it/s]"
      ]
     },
     "metadata": {},
     "output_type": "display_data"
    },
    {
     "name": "stderr",
     "output_type": "stream",
     "text": [
      "/var/folders/7c/r3slh6d1643d1hl26cgzfq5c0000gn/T/ipykernel_52329/692468135.py:46: FutureWarning: The frame.append method is deprecated and will be removed from pandas in a future version. Use pandas.concat instead.\n",
      "  daySimulation = daySimulation.append(ddfinal)\n"
     ]
    },
    {
     "data": {
      "application/vnd.jupyter.widget-view+json": {
       "model_id": "86b99da025bc4a2f87d47e34a374b156",
       "version_major": 2,
       "version_minor": 0
      },
      "text/plain": [
       "exporting log, completed traces ::   0%|          | 0/1 [00:00<?, ?it/s]"
      ]
     },
     "metadata": {},
     "output_type": "display_data"
    },
    {
     "name": "stderr",
     "output_type": "stream",
     "text": [
      "/var/folders/7c/r3slh6d1643d1hl26cgzfq5c0000gn/T/ipykernel_52329/692468135.py:46: FutureWarning: The frame.append method is deprecated and will be removed from pandas in a future version. Use pandas.concat instead.\n",
      "  daySimulation = daySimulation.append(ddfinal)\n"
     ]
    },
    {
     "data": {
      "application/vnd.jupyter.widget-view+json": {
       "model_id": "d258e5413c79432da08fc35a97f027c2",
       "version_major": 2,
       "version_minor": 0
      },
      "text/plain": [
       "exporting log, completed traces ::   0%|          | 0/1 [00:00<?, ?it/s]"
      ]
     },
     "metadata": {},
     "output_type": "display_data"
    },
    {
     "name": "stderr",
     "output_type": "stream",
     "text": [
      "/var/folders/7c/r3slh6d1643d1hl26cgzfq5c0000gn/T/ipykernel_52329/692468135.py:46: FutureWarning: The frame.append method is deprecated and will be removed from pandas in a future version. Use pandas.concat instead.\n",
      "  daySimulation = daySimulation.append(ddfinal)\n"
     ]
    },
    {
     "data": {
      "application/vnd.jupyter.widget-view+json": {
       "model_id": "eca930102be44181a1f4cdf709e6155b",
       "version_major": 2,
       "version_minor": 0
      },
      "text/plain": [
       "exporting log, completed traces ::   0%|          | 0/1 [00:00<?, ?it/s]"
      ]
     },
     "metadata": {},
     "output_type": "display_data"
    },
    {
     "name": "stderr",
     "output_type": "stream",
     "text": [
      "/var/folders/7c/r3slh6d1643d1hl26cgzfq5c0000gn/T/ipykernel_52329/692468135.py:46: FutureWarning: The frame.append method is deprecated and will be removed from pandas in a future version. Use pandas.concat instead.\n",
      "  daySimulation = daySimulation.append(ddfinal)\n"
     ]
    },
    {
     "data": {
      "application/vnd.jupyter.widget-view+json": {
       "model_id": "0925691628444bb98d5c2eb595e0bb58",
       "version_major": 2,
       "version_minor": 0
      },
      "text/plain": [
       "exporting log, completed traces ::   0%|          | 0/1 [00:00<?, ?it/s]"
      ]
     },
     "metadata": {},
     "output_type": "display_data"
    },
    {
     "name": "stderr",
     "output_type": "stream",
     "text": [
      "/var/folders/7c/r3slh6d1643d1hl26cgzfq5c0000gn/T/ipykernel_52329/692468135.py:46: FutureWarning: The frame.append method is deprecated and will be removed from pandas in a future version. Use pandas.concat instead.\n",
      "  daySimulation = daySimulation.append(ddfinal)\n"
     ]
    },
    {
     "data": {
      "application/vnd.jupyter.widget-view+json": {
       "model_id": "2a4309b2dae343a2863919b4061f1735",
       "version_major": 2,
       "version_minor": 0
      },
      "text/plain": [
       "exporting log, completed traces ::   0%|          | 0/1 [00:00<?, ?it/s]"
      ]
     },
     "metadata": {},
     "output_type": "display_data"
    },
    {
     "name": "stderr",
     "output_type": "stream",
     "text": [
      "/var/folders/7c/r3slh6d1643d1hl26cgzfq5c0000gn/T/ipykernel_52329/692468135.py:46: FutureWarning: The frame.append method is deprecated and will be removed from pandas in a future version. Use pandas.concat instead.\n",
      "  daySimulation = daySimulation.append(ddfinal)\n"
     ]
    },
    {
     "data": {
      "application/vnd.jupyter.widget-view+json": {
       "model_id": "6f78e6f228294855ad4c0abcdfe8e7e5",
       "version_major": 2,
       "version_minor": 0
      },
      "text/plain": [
       "exporting log, completed traces ::   0%|          | 0/1 [00:00<?, ?it/s]"
      ]
     },
     "metadata": {},
     "output_type": "display_data"
    },
    {
     "name": "stderr",
     "output_type": "stream",
     "text": [
      "/var/folders/7c/r3slh6d1643d1hl26cgzfq5c0000gn/T/ipykernel_52329/692468135.py:46: FutureWarning: The frame.append method is deprecated and will be removed from pandas in a future version. Use pandas.concat instead.\n",
      "  daySimulation = daySimulation.append(ddfinal)\n"
     ]
    },
    {
     "data": {
      "application/vnd.jupyter.widget-view+json": {
       "model_id": "20959e1c3bf7417aaeb3ace9237dc91a",
       "version_major": 2,
       "version_minor": 0
      },
      "text/plain": [
       "exporting log, completed traces ::   0%|          | 0/1 [00:00<?, ?it/s]"
      ]
     },
     "metadata": {},
     "output_type": "display_data"
    },
    {
     "name": "stderr",
     "output_type": "stream",
     "text": [
      "/var/folders/7c/r3slh6d1643d1hl26cgzfq5c0000gn/T/ipykernel_52329/692468135.py:46: FutureWarning: The frame.append method is deprecated and will be removed from pandas in a future version. Use pandas.concat instead.\n",
      "  daySimulation = daySimulation.append(ddfinal)\n"
     ]
    },
    {
     "data": {
      "application/vnd.jupyter.widget-view+json": {
       "model_id": "6eb2b1e208d143e49a39e1f6fb08eb99",
       "version_major": 2,
       "version_minor": 0
      },
      "text/plain": [
       "exporting log, completed traces ::   0%|          | 0/1 [00:00<?, ?it/s]"
      ]
     },
     "metadata": {},
     "output_type": "display_data"
    },
    {
     "name": "stderr",
     "output_type": "stream",
     "text": [
      "/var/folders/7c/r3slh6d1643d1hl26cgzfq5c0000gn/T/ipykernel_52329/692468135.py:46: FutureWarning: The frame.append method is deprecated and will be removed from pandas in a future version. Use pandas.concat instead.\n",
      "  daySimulation = daySimulation.append(ddfinal)\n"
     ]
    },
    {
     "data": {
      "application/vnd.jupyter.widget-view+json": {
       "model_id": "e6d3624f7b574551857f28233f3bf58f",
       "version_major": 2,
       "version_minor": 0
      },
      "text/plain": [
       "exporting log, completed traces ::   0%|          | 0/1 [00:00<?, ?it/s]"
      ]
     },
     "metadata": {},
     "output_type": "display_data"
    },
    {
     "name": "stderr",
     "output_type": "stream",
     "text": [
      "/var/folders/7c/r3slh6d1643d1hl26cgzfq5c0000gn/T/ipykernel_52329/692468135.py:46: FutureWarning: The frame.append method is deprecated and will be removed from pandas in a future version. Use pandas.concat instead.\n",
      "  daySimulation = daySimulation.append(ddfinal)\n"
     ]
    },
    {
     "data": {
      "application/vnd.jupyter.widget-view+json": {
       "model_id": "27c8b486c4fd4b47947ad80940df7792",
       "version_major": 2,
       "version_minor": 0
      },
      "text/plain": [
       "exporting log, completed traces ::   0%|          | 0/1 [00:00<?, ?it/s]"
      ]
     },
     "metadata": {},
     "output_type": "display_data"
    },
    {
     "name": "stderr",
     "output_type": "stream",
     "text": [
      "/var/folders/7c/r3slh6d1643d1hl26cgzfq5c0000gn/T/ipykernel_52329/692468135.py:46: FutureWarning: The frame.append method is deprecated and will be removed from pandas in a future version. Use pandas.concat instead.\n",
      "  daySimulation = daySimulation.append(ddfinal)\n"
     ]
    },
    {
     "data": {
      "application/vnd.jupyter.widget-view+json": {
       "model_id": "96b39355bf3443fc94c3ddcdd0d610cd",
       "version_major": 2,
       "version_minor": 0
      },
      "text/plain": [
       "exporting log, completed traces ::   0%|          | 0/1 [00:00<?, ?it/s]"
      ]
     },
     "metadata": {},
     "output_type": "display_data"
    },
    {
     "name": "stderr",
     "output_type": "stream",
     "text": [
      "/var/folders/7c/r3slh6d1643d1hl26cgzfq5c0000gn/T/ipykernel_52329/692468135.py:46: FutureWarning: The frame.append method is deprecated and will be removed from pandas in a future version. Use pandas.concat instead.\n",
      "  daySimulation = daySimulation.append(ddfinal)\n"
     ]
    },
    {
     "data": {
      "application/vnd.jupyter.widget-view+json": {
       "model_id": "36a05f3ad47b41ed8e7925cc90455be3",
       "version_major": 2,
       "version_minor": 0
      },
      "text/plain": [
       "exporting log, completed traces ::   0%|          | 0/56 [00:00<?, ?it/s]"
      ]
     },
     "metadata": {},
     "output_type": "display_data"
    },
    {
     "data": {
      "application/vnd.jupyter.widget-view+json": {
       "model_id": "3b1753b5e98c49829474d552583ab3cd",
       "version_major": 2,
       "version_minor": 0
      },
      "text/plain": [
       "exporting log, completed traces ::   0%|          | 0/1 [00:00<?, ?it/s]"
      ]
     },
     "metadata": {},
     "output_type": "display_data"
    },
    {
     "name": "stderr",
     "output_type": "stream",
     "text": [
      "/var/folders/7c/r3slh6d1643d1hl26cgzfq5c0000gn/T/ipykernel_52329/692468135.py:46: FutureWarning: The frame.append method is deprecated and will be removed from pandas in a future version. Use pandas.concat instead.\n",
      "  daySimulation = daySimulation.append(ddfinal)\n"
     ]
    },
    {
     "data": {
      "application/vnd.jupyter.widget-view+json": {
       "model_id": "988d0ed873714858b7db33421c4e89f5",
       "version_major": 2,
       "version_minor": 0
      },
      "text/plain": [
       "exporting log, completed traces ::   0%|          | 0/1 [00:00<?, ?it/s]"
      ]
     },
     "metadata": {},
     "output_type": "display_data"
    },
    {
     "name": "stderr",
     "output_type": "stream",
     "text": [
      "/var/folders/7c/r3slh6d1643d1hl26cgzfq5c0000gn/T/ipykernel_52329/692468135.py:46: FutureWarning: The frame.append method is deprecated and will be removed from pandas in a future version. Use pandas.concat instead.\n",
      "  daySimulation = daySimulation.append(ddfinal)\n"
     ]
    },
    {
     "data": {
      "application/vnd.jupyter.widget-view+json": {
       "model_id": "736630135ea14e5da85499e1b7b62c32",
       "version_major": 2,
       "version_minor": 0
      },
      "text/plain": [
       "exporting log, completed traces ::   0%|          | 0/1 [00:00<?, ?it/s]"
      ]
     },
     "metadata": {},
     "output_type": "display_data"
    },
    {
     "name": "stderr",
     "output_type": "stream",
     "text": [
      "/var/folders/7c/r3slh6d1643d1hl26cgzfq5c0000gn/T/ipykernel_52329/692468135.py:46: FutureWarning: The frame.append method is deprecated and will be removed from pandas in a future version. Use pandas.concat instead.\n",
      "  daySimulation = daySimulation.append(ddfinal)\n"
     ]
    },
    {
     "data": {
      "application/vnd.jupyter.widget-view+json": {
       "model_id": "0c8d0e40ef79413da29505cd56e2517a",
       "version_major": 2,
       "version_minor": 0
      },
      "text/plain": [
       "exporting log, completed traces ::   0%|          | 0/1 [00:00<?, ?it/s]"
      ]
     },
     "metadata": {},
     "output_type": "display_data"
    },
    {
     "name": "stderr",
     "output_type": "stream",
     "text": [
      "/var/folders/7c/r3slh6d1643d1hl26cgzfq5c0000gn/T/ipykernel_52329/692468135.py:46: FutureWarning: The frame.append method is deprecated and will be removed from pandas in a future version. Use pandas.concat instead.\n",
      "  daySimulation = daySimulation.append(ddfinal)\n"
     ]
    },
    {
     "data": {
      "application/vnd.jupyter.widget-view+json": {
       "model_id": "efd9ecf934b6415baa8d0229788197c5",
       "version_major": 2,
       "version_minor": 0
      },
      "text/plain": [
       "exporting log, completed traces ::   0%|          | 0/1 [00:00<?, ?it/s]"
      ]
     },
     "metadata": {},
     "output_type": "display_data"
    },
    {
     "name": "stderr",
     "output_type": "stream",
     "text": [
      "/var/folders/7c/r3slh6d1643d1hl26cgzfq5c0000gn/T/ipykernel_52329/692468135.py:46: FutureWarning: The frame.append method is deprecated and will be removed from pandas in a future version. Use pandas.concat instead.\n",
      "  daySimulation = daySimulation.append(ddfinal)\n"
     ]
    },
    {
     "data": {
      "application/vnd.jupyter.widget-view+json": {
       "model_id": "8f780adf56cb42b7b073a742fb79068f",
       "version_major": 2,
       "version_minor": 0
      },
      "text/plain": [
       "exporting log, completed traces ::   0%|          | 0/1 [00:00<?, ?it/s]"
      ]
     },
     "metadata": {},
     "output_type": "display_data"
    },
    {
     "name": "stderr",
     "output_type": "stream",
     "text": [
      "/var/folders/7c/r3slh6d1643d1hl26cgzfq5c0000gn/T/ipykernel_52329/692468135.py:46: FutureWarning: The frame.append method is deprecated and will be removed from pandas in a future version. Use pandas.concat instead.\n",
      "  daySimulation = daySimulation.append(ddfinal)\n"
     ]
    },
    {
     "data": {
      "application/vnd.jupyter.widget-view+json": {
       "model_id": "2edf54d804b74692a7d37d24a177d73f",
       "version_major": 2,
       "version_minor": 0
      },
      "text/plain": [
       "exporting log, completed traces ::   0%|          | 0/1 [00:00<?, ?it/s]"
      ]
     },
     "metadata": {},
     "output_type": "display_data"
    },
    {
     "name": "stderr",
     "output_type": "stream",
     "text": [
      "/var/folders/7c/r3slh6d1643d1hl26cgzfq5c0000gn/T/ipykernel_52329/692468135.py:46: FutureWarning: The frame.append method is deprecated and will be removed from pandas in a future version. Use pandas.concat instead.\n",
      "  daySimulation = daySimulation.append(ddfinal)\n"
     ]
    },
    {
     "data": {
      "application/vnd.jupyter.widget-view+json": {
       "model_id": "f7061449a12f4c488eacd817f3a0f8f4",
       "version_major": 2,
       "version_minor": 0
      },
      "text/plain": [
       "exporting log, completed traces ::   0%|          | 0/7 [00:00<?, ?it/s]"
      ]
     },
     "metadata": {},
     "output_type": "display_data"
    },
    {
     "data": {
      "application/vnd.jupyter.widget-view+json": {
       "model_id": "359e6e66ba0147e4bb31ac07b344b99a",
       "version_major": 2,
       "version_minor": 0
      },
      "text/plain": [
       "exporting log, completed traces ::   0%|          | 0/1 [00:00<?, ?it/s]"
      ]
     },
     "metadata": {},
     "output_type": "display_data"
    },
    {
     "name": "stderr",
     "output_type": "stream",
     "text": [
      "/var/folders/7c/r3slh6d1643d1hl26cgzfq5c0000gn/T/ipykernel_52329/692468135.py:46: FutureWarning: The frame.append method is deprecated and will be removed from pandas in a future version. Use pandas.concat instead.\n",
      "  daySimulation = daySimulation.append(ddfinal)\n"
     ]
    },
    {
     "data": {
      "application/vnd.jupyter.widget-view+json": {
       "model_id": "abd87cea115144a2af1a8e0ee050b6b6",
       "version_major": 2,
       "version_minor": 0
      },
      "text/plain": [
       "exporting log, completed traces ::   0%|          | 0/1 [00:00<?, ?it/s]"
      ]
     },
     "metadata": {},
     "output_type": "display_data"
    },
    {
     "name": "stderr",
     "output_type": "stream",
     "text": [
      "/var/folders/7c/r3slh6d1643d1hl26cgzfq5c0000gn/T/ipykernel_52329/692468135.py:46: FutureWarning: The frame.append method is deprecated and will be removed from pandas in a future version. Use pandas.concat instead.\n",
      "  daySimulation = daySimulation.append(ddfinal)\n"
     ]
    },
    {
     "data": {
      "application/vnd.jupyter.widget-view+json": {
       "model_id": "1f11f6780f904119a42a458d31f5cb21",
       "version_major": 2,
       "version_minor": 0
      },
      "text/plain": [
       "exporting log, completed traces ::   0%|          | 0/1 [00:00<?, ?it/s]"
      ]
     },
     "metadata": {},
     "output_type": "display_data"
    },
    {
     "name": "stderr",
     "output_type": "stream",
     "text": [
      "/var/folders/7c/r3slh6d1643d1hl26cgzfq5c0000gn/T/ipykernel_52329/692468135.py:46: FutureWarning: The frame.append method is deprecated and will be removed from pandas in a future version. Use pandas.concat instead.\n",
      "  daySimulation = daySimulation.append(ddfinal)\n"
     ]
    },
    {
     "data": {
      "application/vnd.jupyter.widget-view+json": {
       "model_id": "c2cf089869d045dd963512917597a9b7",
       "version_major": 2,
       "version_minor": 0
      },
      "text/plain": [
       "exporting log, completed traces ::   0%|          | 0/1 [00:00<?, ?it/s]"
      ]
     },
     "metadata": {},
     "output_type": "display_data"
    },
    {
     "name": "stderr",
     "output_type": "stream",
     "text": [
      "/var/folders/7c/r3slh6d1643d1hl26cgzfq5c0000gn/T/ipykernel_52329/692468135.py:46: FutureWarning: The frame.append method is deprecated and will be removed from pandas in a future version. Use pandas.concat instead.\n",
      "  daySimulation = daySimulation.append(ddfinal)\n"
     ]
    },
    {
     "data": {
      "application/vnd.jupyter.widget-view+json": {
       "model_id": "ed469f1b5e7d4456a4895c18e0f2b627",
       "version_major": 2,
       "version_minor": 0
      },
      "text/plain": [
       "exporting log, completed traces ::   0%|          | 0/1 [00:00<?, ?it/s]"
      ]
     },
     "metadata": {},
     "output_type": "display_data"
    },
    {
     "name": "stderr",
     "output_type": "stream",
     "text": [
      "/var/folders/7c/r3slh6d1643d1hl26cgzfq5c0000gn/T/ipykernel_52329/692468135.py:46: FutureWarning: The frame.append method is deprecated and will be removed from pandas in a future version. Use pandas.concat instead.\n",
      "  daySimulation = daySimulation.append(ddfinal)\n"
     ]
    },
    {
     "data": {
      "application/vnd.jupyter.widget-view+json": {
       "model_id": "993c44ec545842c1a5ba017316885e8c",
       "version_major": 2,
       "version_minor": 0
      },
      "text/plain": [
       "exporting log, completed traces ::   0%|          | 0/1 [00:00<?, ?it/s]"
      ]
     },
     "metadata": {},
     "output_type": "display_data"
    },
    {
     "name": "stderr",
     "output_type": "stream",
     "text": [
      "/var/folders/7c/r3slh6d1643d1hl26cgzfq5c0000gn/T/ipykernel_52329/692468135.py:46: FutureWarning: The frame.append method is deprecated and will be removed from pandas in a future version. Use pandas.concat instead.\n",
      "  daySimulation = daySimulation.append(ddfinal)\n"
     ]
    },
    {
     "data": {
      "application/vnd.jupyter.widget-view+json": {
       "model_id": "943114b60cb042ffb9f8a1c14240968b",
       "version_major": 2,
       "version_minor": 0
      },
      "text/plain": [
       "exporting log, completed traces ::   0%|          | 0/1 [00:00<?, ?it/s]"
      ]
     },
     "metadata": {},
     "output_type": "display_data"
    },
    {
     "name": "stderr",
     "output_type": "stream",
     "text": [
      "/var/folders/7c/r3slh6d1643d1hl26cgzfq5c0000gn/T/ipykernel_52329/692468135.py:46: FutureWarning: The frame.append method is deprecated and will be removed from pandas in a future version. Use pandas.concat instead.\n",
      "  daySimulation = daySimulation.append(ddfinal)\n"
     ]
    },
    {
     "data": {
      "application/vnd.jupyter.widget-view+json": {
       "model_id": "d412ac440057423590f1bbc97398ec8c",
       "version_major": 2,
       "version_minor": 0
      },
      "text/plain": [
       "exporting log, completed traces ::   0%|          | 0/7 [00:00<?, ?it/s]"
      ]
     },
     "metadata": {},
     "output_type": "display_data"
    },
    {
     "data": {
      "application/vnd.jupyter.widget-view+json": {
       "model_id": "7debcbd4a7f04abd94da272cbed21b1d",
       "version_major": 2,
       "version_minor": 0
      },
      "text/plain": [
       "exporting log, completed traces ::   0%|          | 0/1 [00:00<?, ?it/s]"
      ]
     },
     "metadata": {},
     "output_type": "display_data"
    },
    {
     "name": "stderr",
     "output_type": "stream",
     "text": [
      "/var/folders/7c/r3slh6d1643d1hl26cgzfq5c0000gn/T/ipykernel_52329/1767762639.py:41: FutureWarning: The frame.append method is deprecated and will be removed from pandas in a future version. Use pandas.concat instead.\n",
      "  daySimulation = daySimulation.append(ddfinal)\n"
     ]
    },
    {
     "data": {
      "application/vnd.jupyter.widget-view+json": {
       "model_id": "145d2dd37ab94931bd4b3690bb1c0679",
       "version_major": 2,
       "version_minor": 0
      },
      "text/plain": [
       "exporting log, completed traces ::   0%|          | 0/1 [00:00<?, ?it/s]"
      ]
     },
     "metadata": {},
     "output_type": "display_data"
    },
    {
     "name": "stderr",
     "output_type": "stream",
     "text": [
      "/var/folders/7c/r3slh6d1643d1hl26cgzfq5c0000gn/T/ipykernel_52329/1767762639.py:41: FutureWarning: The frame.append method is deprecated and will be removed from pandas in a future version. Use pandas.concat instead.\n",
      "  daySimulation = daySimulation.append(ddfinal)\n"
     ]
    },
    {
     "data": {
      "application/vnd.jupyter.widget-view+json": {
       "model_id": "2dd920308b0540b28d5b534906939e7e",
       "version_major": 2,
       "version_minor": 0
      },
      "text/plain": [
       "exporting log, completed traces ::   0%|          | 0/1 [00:00<?, ?it/s]"
      ]
     },
     "metadata": {},
     "output_type": "display_data"
    },
    {
     "name": "stderr",
     "output_type": "stream",
     "text": [
      "/var/folders/7c/r3slh6d1643d1hl26cgzfq5c0000gn/T/ipykernel_52329/1767762639.py:41: FutureWarning: The frame.append method is deprecated and will be removed from pandas in a future version. Use pandas.concat instead.\n",
      "  daySimulation = daySimulation.append(ddfinal)\n"
     ]
    },
    {
     "data": {
      "application/vnd.jupyter.widget-view+json": {
       "model_id": "c0765e119a024bcc86aafbc8a95cb1be",
       "version_major": 2,
       "version_minor": 0
      },
      "text/plain": [
       "exporting log, completed traces ::   0%|          | 0/1 [00:00<?, ?it/s]"
      ]
     },
     "metadata": {},
     "output_type": "display_data"
    },
    {
     "name": "stderr",
     "output_type": "stream",
     "text": [
      "/var/folders/7c/r3slh6d1643d1hl26cgzfq5c0000gn/T/ipykernel_52329/1767762639.py:41: FutureWarning: The frame.append method is deprecated and will be removed from pandas in a future version. Use pandas.concat instead.\n",
      "  daySimulation = daySimulation.append(ddfinal)\n"
     ]
    },
    {
     "data": {
      "application/vnd.jupyter.widget-view+json": {
       "model_id": "7d6f1d98985c45d2b9dcd4491de13193",
       "version_major": 2,
       "version_minor": 0
      },
      "text/plain": [
       "exporting log, completed traces ::   0%|          | 0/1 [00:00<?, ?it/s]"
      ]
     },
     "metadata": {},
     "output_type": "display_data"
    },
    {
     "name": "stderr",
     "output_type": "stream",
     "text": [
      "/var/folders/7c/r3slh6d1643d1hl26cgzfq5c0000gn/T/ipykernel_52329/1767762639.py:41: FutureWarning: The frame.append method is deprecated and will be removed from pandas in a future version. Use pandas.concat instead.\n",
      "  daySimulation = daySimulation.append(ddfinal)\n"
     ]
    },
    {
     "data": {
      "application/vnd.jupyter.widget-view+json": {
       "model_id": "18d6626f475f46d48c344011c6ce7e04",
       "version_major": 2,
       "version_minor": 0
      },
      "text/plain": [
       "exporting log, completed traces ::   0%|          | 0/1 [00:00<?, ?it/s]"
      ]
     },
     "metadata": {},
     "output_type": "display_data"
    },
    {
     "name": "stderr",
     "output_type": "stream",
     "text": [
      "/var/folders/7c/r3slh6d1643d1hl26cgzfq5c0000gn/T/ipykernel_52329/1767762639.py:41: FutureWarning: The frame.append method is deprecated and will be removed from pandas in a future version. Use pandas.concat instead.\n",
      "  daySimulation = daySimulation.append(ddfinal)\n"
     ]
    },
    {
     "data": {
      "application/vnd.jupyter.widget-view+json": {
       "model_id": "10719c181e644c599ab95f444da9523b",
       "version_major": 2,
       "version_minor": 0
      },
      "text/plain": [
       "exporting log, completed traces ::   0%|          | 0/1 [00:00<?, ?it/s]"
      ]
     },
     "metadata": {},
     "output_type": "display_data"
    },
    {
     "name": "stderr",
     "output_type": "stream",
     "text": [
      "/var/folders/7c/r3slh6d1643d1hl26cgzfq5c0000gn/T/ipykernel_52329/1767762639.py:41: FutureWarning: The frame.append method is deprecated and will be removed from pandas in a future version. Use pandas.concat instead.\n",
      "  daySimulation = daySimulation.append(ddfinal)\n"
     ]
    },
    {
     "data": {
      "application/vnd.jupyter.widget-view+json": {
       "model_id": "e9228f506e254bafae70207b0bdce7a7",
       "version_major": 2,
       "version_minor": 0
      },
      "text/plain": [
       "exporting log, completed traces ::   0%|          | 0/7 [00:00<?, ?it/s]"
      ]
     },
     "metadata": {},
     "output_type": "display_data"
    },
    {
     "data": {
      "application/vnd.jupyter.widget-view+json": {
       "model_id": "422e62f3ff9342a9b79a4ae85d6c0dd2",
       "version_major": 2,
       "version_minor": 0
      },
      "text/plain": [
       "exporting log, completed traces ::   0%|          | 0/1 [00:00<?, ?it/s]"
      ]
     },
     "metadata": {},
     "output_type": "display_data"
    },
    {
     "name": "stderr",
     "output_type": "stream",
     "text": [
      "/var/folders/7c/r3slh6d1643d1hl26cgzfq5c0000gn/T/ipykernel_52329/1767762639.py:41: FutureWarning: The frame.append method is deprecated and will be removed from pandas in a future version. Use pandas.concat instead.\n",
      "  daySimulation = daySimulation.append(ddfinal)\n"
     ]
    },
    {
     "data": {
      "application/vnd.jupyter.widget-view+json": {
       "model_id": "4297f32cf3684f2db2959935a6560610",
       "version_major": 2,
       "version_minor": 0
      },
      "text/plain": [
       "exporting log, completed traces ::   0%|          | 0/1 [00:00<?, ?it/s]"
      ]
     },
     "metadata": {},
     "output_type": "display_data"
    },
    {
     "name": "stderr",
     "output_type": "stream",
     "text": [
      "/var/folders/7c/r3slh6d1643d1hl26cgzfq5c0000gn/T/ipykernel_52329/1767762639.py:41: FutureWarning: The frame.append method is deprecated and will be removed from pandas in a future version. Use pandas.concat instead.\n",
      "  daySimulation = daySimulation.append(ddfinal)\n"
     ]
    },
    {
     "data": {
      "application/vnd.jupyter.widget-view+json": {
       "model_id": "e43be6fc4d3e419a9db884fa6f6d19ab",
       "version_major": 2,
       "version_minor": 0
      },
      "text/plain": [
       "exporting log, completed traces ::   0%|          | 0/1 [00:00<?, ?it/s]"
      ]
     },
     "metadata": {},
     "output_type": "display_data"
    },
    {
     "name": "stderr",
     "output_type": "stream",
     "text": [
      "/var/folders/7c/r3slh6d1643d1hl26cgzfq5c0000gn/T/ipykernel_52329/1767762639.py:41: FutureWarning: The frame.append method is deprecated and will be removed from pandas in a future version. Use pandas.concat instead.\n",
      "  daySimulation = daySimulation.append(ddfinal)\n"
     ]
    },
    {
     "data": {
      "application/vnd.jupyter.widget-view+json": {
       "model_id": "b0315134b4444209a8bb08d61bcfff6d",
       "version_major": 2,
       "version_minor": 0
      },
      "text/plain": [
       "exporting log, completed traces ::   0%|          | 0/1 [00:00<?, ?it/s]"
      ]
     },
     "metadata": {},
     "output_type": "display_data"
    },
    {
     "name": "stderr",
     "output_type": "stream",
     "text": [
      "/var/folders/7c/r3slh6d1643d1hl26cgzfq5c0000gn/T/ipykernel_52329/1767762639.py:41: FutureWarning: The frame.append method is deprecated and will be removed from pandas in a future version. Use pandas.concat instead.\n",
      "  daySimulation = daySimulation.append(ddfinal)\n"
     ]
    },
    {
     "data": {
      "application/vnd.jupyter.widget-view+json": {
       "model_id": "d4f7f421d39540c989666319b46b4b4a",
       "version_major": 2,
       "version_minor": 0
      },
      "text/plain": [
       "exporting log, completed traces ::   0%|          | 0/1 [00:00<?, ?it/s]"
      ]
     },
     "metadata": {},
     "output_type": "display_data"
    },
    {
     "name": "stderr",
     "output_type": "stream",
     "text": [
      "/var/folders/7c/r3slh6d1643d1hl26cgzfq5c0000gn/T/ipykernel_52329/1767762639.py:41: FutureWarning: The frame.append method is deprecated and will be removed from pandas in a future version. Use pandas.concat instead.\n",
      "  daySimulation = daySimulation.append(ddfinal)\n"
     ]
    },
    {
     "data": {
      "application/vnd.jupyter.widget-view+json": {
       "model_id": "f3193209d5ad4e8a9436563a79ef7a10",
       "version_major": 2,
       "version_minor": 0
      },
      "text/plain": [
       "exporting log, completed traces ::   0%|          | 0/1 [00:00<?, ?it/s]"
      ]
     },
     "metadata": {},
     "output_type": "display_data"
    },
    {
     "name": "stderr",
     "output_type": "stream",
     "text": [
      "/var/folders/7c/r3slh6d1643d1hl26cgzfq5c0000gn/T/ipykernel_52329/1767762639.py:41: FutureWarning: The frame.append method is deprecated and will be removed from pandas in a future version. Use pandas.concat instead.\n",
      "  daySimulation = daySimulation.append(ddfinal)\n"
     ]
    },
    {
     "data": {
      "application/vnd.jupyter.widget-view+json": {
       "model_id": "b87d29cc9f154792a93f77e5a29374e4",
       "version_major": 2,
       "version_minor": 0
      },
      "text/plain": [
       "exporting log, completed traces ::   0%|          | 0/1 [00:00<?, ?it/s]"
      ]
     },
     "metadata": {},
     "output_type": "display_data"
    },
    {
     "name": "stderr",
     "output_type": "stream",
     "text": [
      "/var/folders/7c/r3slh6d1643d1hl26cgzfq5c0000gn/T/ipykernel_52329/1767762639.py:41: FutureWarning: The frame.append method is deprecated and will be removed from pandas in a future version. Use pandas.concat instead.\n",
      "  daySimulation = daySimulation.append(ddfinal)\n"
     ]
    },
    {
     "data": {
      "application/vnd.jupyter.widget-view+json": {
       "model_id": "4fb4b3d63ca0430788c2a20aa59893bf",
       "version_major": 2,
       "version_minor": 0
      },
      "text/plain": [
       "exporting log, completed traces ::   0%|          | 0/7 [00:00<?, ?it/s]"
      ]
     },
     "metadata": {},
     "output_type": "display_data"
    }
   ],
   "source": [
    "createEventLog3A(56, 'Night3A.xes')\n",
    "\n",
    "createEventLog3A(7, 'Night3Ap.xes')\n",
    "createEventLog3A(7, 'Night3Ap2.xes')\n",
    "\n",
    "createEventLog3B(7, 'Night3B.xes')\n",
    "createEventLog3B(7, 'Night3B2.xes')"
   ]
  },
  {
   "cell_type": "markdown",
   "id": "challenging-windsor",
   "metadata": {},
   "source": [
    "# ------------------------------"
   ]
  }
 ],
 "metadata": {
  "kernelspec": {
   "display_name": "Python 3 (ipykernel)",
   "language": "python",
   "name": "python3"
  },
  "language_info": {
   "codemirror_mode": {
    "name": "ipython",
    "version": 3
   },
   "file_extension": ".py",
   "mimetype": "text/x-python",
   "name": "python",
   "nbconvert_exporter": "python",
   "pygments_lexer": "ipython3",
   "version": "3.9.12"
  }
 },
 "nbformat": 4,
 "nbformat_minor": 5
}
