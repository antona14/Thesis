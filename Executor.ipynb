{
 "cells": [
  {
   "cell_type": "code",
   "execution_count": 1,
   "id": "proud-sunset",
   "metadata": {},
   "outputs": [],
   "source": [
    "from StatisticCollection import get_freq_fitness, get_duration_fitness_final_mean\n",
    "import pm4py\n",
    "from DCR import mainCC\n",
    "from pm4py.objects.log.importer.xes import importer as xes_importer\n",
    "from FinalPetriCC import conformance\n",
    "import numpy as np"
   ]
  },
  {
   "cell_type": "code",
   "execution_count": 2,
   "id": "streaming-platinum",
   "metadata": {},
   "outputs": [],
   "source": [
    "def getFinalFitness(path_log3a, path_log3b):\n",
    "    log = xes_importer.apply(path_log3a)\n",
    "    testlog = xes_importer.apply(path_log3b)\n",
    "    \n",
    "    resDcr = mainCC(path_log3a, path_log3b)\n",
    "    print(\"DCR:\", resDcr)\n",
    "    \n",
    "    resFreq = get_freq_fitness(log, testlog)\n",
    "    print(\"Frequency:\", resFreq)\n",
    "    resDuration = get_duration_fitness_final_mean(log, testlog)\n",
    "    print(\"Duration:\", resDuration)\n",
    "    \n",
    "    resPetriInduct = conformance(log, testlog, \"Inductive\", \"Alignment\")\n",
    "    print(\"Inductive:\", resPetriInduct)\n",
    "    \n",
    "    finalResult = []\n",
    "    for i in range(len(resDcr)):\n",
    "        print(\"DCR:\", resDcr[i], \"+ Frequency:\", resFreq[i], \"+ Duration:\", resDuration[i], \"+ Inductive:\", resPetriInduct[i])"
   ]
  },
  {
   "cell_type": "code",
   "execution_count": 4,
   "id": "e27e7af1",
   "metadata": {},
   "outputs": [],
   "source": [
    "# This is for creating use case 1\n",
    "\n",
    "# night = getFinalFitness('Night3A.xes', 'Night3Ap.xes')\n",
    "# night = getFinalFitness('Night3A.xes', 'Night3B.xes')\n",
    "# night = getFinalFitness('Night3A.xes', 'Night3B2.xes')\n",
    "# night = getFinalFitness('Night3A.xes', 'Night3Ap.xes')"
   ]
  },
  {
   "cell_type": "code",
   "execution_count": 131,
   "id": "56a83e9e",
   "metadata": {},
   "outputs": [],
   "source": [
    "# This is for creating use case 2\n",
    "\n",
    "# evening = getFinalFitness('Evening3A.xes', 'Evening3Ap.xes')\n",
    "# evening = getFinalFitness('Evening3A.xes', 'Evening3B.xes')\n",
    "# evening = getFinalFitness('Evening3A.xes', 'Evening3B2.xes')\n",
    "# evening = getFinalFitness('Evening3A.xes', 'Evening3Ap.xes')"
   ]
  },
  {
   "cell_type": "code",
   "execution_count": 119,
   "id": "contained-passion",
   "metadata": {},
   "outputs": [],
   "source": [
    "# This is for creating use case 3\n",
    "\n",
    "# morning = getFinalFitness('Morning3A.xes', 'Morning3Ap.xes')\n",
    "# morning = getFinalFitness('Morning3A.xes', 'Morning3B.xes')\n",
    "# morning = getFinalFitness('Morning3A.xes', 'Morning3B2.xes')\n",
    "# morning = getFinalFitness('Morning3A.xes', 'Morning3Ap.xes')"
   ]
  },
  {
   "cell_type": "code",
   "execution_count": 144,
   "id": "8ca06f3d",
   "metadata": {},
   "outputs": [],
   "source": [
    "# This is for creating use case 4\n",
    "\n",
    "# store = getFinalFitness('Store3A.xes', 'Store3Ap.xes')\n",
    "# store = getFinalFitness('Store3A.xes', 'Store3B.xes')\n",
    "# store = getFinalFitness('Store3A.xes', 'Store3Bp.xes')\n",
    "# store = getFinalFitness('Store3A.xes', 'Store3Ap2.xes')"
   ]
  }
 ],
 "metadata": {
  "kernelspec": {
   "display_name": "Python 3 (ipykernel)",
   "language": "python",
   "name": "python3"
  },
  "language_info": {
   "codemirror_mode": {
    "name": "ipython",
    "version": 3
   },
   "file_extension": ".py",
   "mimetype": "text/x-python",
   "name": "python",
   "nbconvert_exporter": "python",
   "pygments_lexer": "ipython3",
   "version": "3.9.12"
  }
 },
 "nbformat": 4,
 "nbformat_minor": 5
}
