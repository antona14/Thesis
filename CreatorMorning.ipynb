{
 "cells": [
  {
   "cell_type": "code",
   "execution_count": 210,
   "id": "southeast-variety",
   "metadata": {},
   "outputs": [],
   "source": [
    "import random\n",
    "from datetime import datetime, date, timedelta\n",
    "import pandas as pd\n",
    "import itertools\n",
    "import json\n",
    "import numpy\n",
    "import pm4py\n",
    "import os\n",
    "import functools"
   ]
  },
  {
   "cell_type": "code",
   "execution_count": 211,
   "id": "recognized-brown",
   "metadata": {},
   "outputs": [],
   "source": [
    "def getRandomTime(min_x, max_x, duration, start_time):\n",
    "    if type(start_time) == type('a'):\n",
    "        start_time = datetime.strptime(start_time, \"%Y-%m-%d %H:%M:%S:%f\")\n",
    "    random_duration = start_time + timedelta(minutes=duration)\n",
    "    return (random_duration.strftime('%Y-%m-%d %H:%M:%S:%f'), duration)"
   ]
  },
  {
   "cell_type": "code",
   "execution_count": 212,
   "id": "fleet-british",
   "metadata": {},
   "outputs": [],
   "source": [
    "def calculateDuration(df, start_time):\n",
    "    for index, row in df.iterrows():\n",
    "        if index != 0:\n",
    "            previous = df.loc[index -1, \"End_time\"]\n",
    "            a = getRandomTime(row[\"Min\"],row[\"Max\"], row[\"Duration\"], previous)\n",
    "            df.at[index, \"start_time\"] = previous\n",
    "            df.at[index, \"End_time\"] = datetime.strptime(a[0], \"%Y-%m-%d %H:%M:%S:%f\")\n",
    "            df.at[index, \"Duration\"] = a[1]\n",
    "        else:\n",
    "            a = getRandomTime(row[\"Min\"],row[\"Max\"], row[\"Duration\"], start_time)\n",
    "            df.at[index, \"start_time\"] = datetime.strptime(start_time.strftime('%Y-%m-%d %H:%M:%S:%f'), \"%Y-%m-%d %H:%M:%S:%f\")\n",
    "            df.at[index, \"End_time\"] = datetime.strptime(a[0], \"%Y-%m-%d %H:%M:%S:%f\")\n",
    "            df.at[index, \"Duration\"] = a[1]\n",
    "    return(df)"
   ]
  },
  {
   "cell_type": "code",
   "execution_count": 213,
   "id": "relevant-batch",
   "metadata": {},
   "outputs": [],
   "source": [
    "# Each Activity have 3 properties: Activity, minimum time, maximum time\n",
    "\n",
    "def WakeUp():\n",
    "    return ['WakeUp', '00:05:00:00','00:15:00:00']\n",
    "\n",
    "def WakeUp2():\n",
    "    return ['WakeUp', '00:01:00:00','00:25:00:00']"
   ]
  },
  {
   "cell_type": "code",
   "execution_count": 214,
   "id": "supported-plant",
   "metadata": {},
   "outputs": [],
   "source": [
    "def Breakfast():\n",
    "    return ['Breakfast', '00:15:00:00', '00:25:00:00']\n",
    " \n",
    "def Breakfast2():\n",
    "    return ['Breakfast', '00:05:00:00', '00:50:00:00']"
   ]
  },
  {
   "cell_type": "code",
   "execution_count": 215,
   "id": "human-minnesota",
   "metadata": {},
   "outputs": [],
   "source": [
    "def GetReady():\n",
    "    return ['GetReady', '00:20:00:00','00:30:00:00']\n",
    "\n",
    "def GetReady2():\n",
    "    return ['GetReady', '00:05:00:00','00:50:00:00']"
   ]
  },
  {
   "cell_type": "code",
   "execution_count": 216,
   "id": "19a4f525",
   "metadata": {},
   "outputs": [],
   "source": [
    "def Leave():\n",
    "    return ['Leave', '00:05:00:00','00:10:00:00']\n",
    "\n",
    "def Leave2():\n",
    "    return ['Leave', '00:01:00:00','00:20:00:00']"
   ]
  },
  {
   "cell_type": "code",
   "execution_count": 217,
   "id": "surgical-likelihood",
   "metadata": {},
   "outputs": [],
   "source": [
    "def waitingTime3A():\n",
    "    return ['waiting', '00:01:00:00', '00:03:00:00']\n",
    "\n",
    "def waitingTime3B():\n",
    "    return ['waiting', '00:01:00:00', '00:15:00:00']\n",
    "\n",
    "def doNothing():\n",
    "    return ['waiting', '00:01:00:00', '00:15:00:00']"
   ]
  },
  {
   "cell_type": "code",
   "execution_count": 218,
   "id": "7a219721",
   "metadata": {},
   "outputs": [],
   "source": [
    "def build3A():\n",
    "    activities = []\n",
    "#     group = [WakeUp(), Breakfast(), GetReady(), Leave()]\n",
    "\n",
    "    activity = WakeUp()\n",
    "    activity_duration = round(random.uniform(5,15),2)\n",
    "    activities.append([activity, activity_duration])\n",
    "    \n",
    "    activity == Breakfast()\n",
    "    activity_duration = round(random.uniform(15,25),2)\n",
    "    activities.append([activity, activity_duration])\n",
    "    \n",
    "    activity = GetReady()\n",
    "    activity_duration = round(random.uniform(20,30),2)\n",
    "    activities.append([activity, activity_duration])\n",
    "\n",
    "    activity = Leave()\n",
    "    activity_duration = round(random.uniform(5,10),2)\n",
    "    activities.append([activity, activity_duration])\n",
    "    \n",
    "    return activities"
   ]
  },
  {
   "cell_type": "code",
   "execution_count": 219,
   "id": "fixed-thing",
   "metadata": {},
   "outputs": [],
   "source": [
    "def build3B():\n",
    "    activities = []\n",
    "#     group = [WakeUp(), Breakfast(), GetReady(), Leave()]\n",
    "\n",
    "    activity = WakeUp()\n",
    "    if bool(random.getrandbits(1)) == True:\n",
    "        activity_duration = round(random.uniform(1,5),2)\n",
    "    else:\n",
    "        activity_duration = round(random.uniform(15,19),2)\n",
    "    activities.append([activity, activity_duration])\n",
    "    \n",
    "    activity == Breakfast2()\n",
    "    if bool(random.getrandbits(1)) == True:\n",
    "        activity_duration = round(random.uniform(11,15),2)\n",
    "    else:\n",
    "        activity_duration = round(random.uniform(25,29),2)\n",
    "    activities.append([activity, activity_duration])\n",
    "    \n",
    "    activity = GetReady2()\n",
    "    if bool(random.getrandbits(1)) == True:\n",
    "        activity_duration = round(random.uniform(16,20),2)\n",
    "    else:\n",
    "        activity_duration = round(random.uniform(30,34),2)\n",
    "    activities.append([activity, activity_duration])\n",
    "\n",
    "    activity = Leave2()\n",
    "    if bool(random.getrandbits(1)) == True:\n",
    "        activity_duration = round(random.uniform(1,5),2)\n",
    "    else:\n",
    "        activity_duration = round(random.uniform(10,14),2)\n",
    "    activities.append([activity, activity_duration])\n",
    "    \n",
    "    return activities"
   ]
  },
  {
   "cell_type": "code",
   "execution_count": 220,
   "id": "danish-newfoundland",
   "metadata": {},
   "outputs": [],
   "source": [
    "def mergeData(day):\n",
    "    droprow = []\n",
    "    result = day\n",
    "    label_index = 0\n",
    "    for i in range(1, day.shape[0]):\n",
    "        if day.iloc[i]['concept:name'] == result.iloc[label_index]['concept:name']:\n",
    "            result.iloc[label_index, 3] = day.iloc[i, 3]\n",
    "            result.iloc[label_index, 4] += day.iloc[i, 4]\n",
    "            droprow.append(i)\n",
    "        else:\n",
    "            label_index = i\n",
    "    result = result.drop(index=droprow)\n",
    "    result = result.reset_index()\n",
    "    return result"
   ]
  },
  {
   "cell_type": "code",
   "execution_count": 221,
   "id": "contemporary-friendly",
   "metadata": {},
   "outputs": [],
   "source": [
    "# dayActivities = build3A()\n",
    "# dayActivities.append([wakeUp(), round(random.uniform(1, 15),2)])\n",
    "# dd = pd.DataFrame(dayActivities)\n",
    "# dd = pd.concat([dd[0].apply(lambda x: pd.Series(x)), dd[1]], axis=1)"
   ]
  },
  {
   "cell_type": "code",
   "execution_count": 222,
   "id": "sexual-preference",
   "metadata": {},
   "outputs": [],
   "source": [
    "def createEventLog3A(dayRange, fileName):\n",
    "#     path = './'+fileName.split('.')[0] \n",
    "#     if os.path.exists(path):\n",
    "#         pass\n",
    "#     else:\n",
    "#         os.mkdir(path)\n",
    "        \n",
    "    #xes_Index = [\"case:concept:name\",\"concept:name\" , \"start_time\", \"End_time\", \"Duration\"]\n",
    "    daySimulation = pd.DataFrame()\n",
    "#     print(daySimulation)\n",
    "\n",
    "#     Setting the start date (the first date in log)\n",
    "    start_time = datetime(2022, 1, 1, 16, 0, 0, 0)\n",
    "    \n",
    "    for i in range(dayRange):\n",
    "        # Create daily routine\n",
    "        dayActivities = build3A()\n",
    "#         dayActivities.append([wakeUp(), round(random.uniform(1, 15),2)])\n",
    "        dd = pd.DataFrame(dayActivities)\n",
    "        dd = pd.concat([dd[0].apply(lambda x: pd.Series(x)), dd[1]], axis=1)\n",
    "        dd.columns = ['Activity', 'Min', 'Max', 'Duration']\n",
    "        dd = dd.reindex(columns = [\"Activity\",\"Min\", \"Max\", \"start_time\", \"End_time\", \"Duration\"]) \n",
    "        dd = dd.fillna(\"\")\n",
    "\n",
    "        # Randomly get time and calculate routine\n",
    "#         start_time = datetime(2022, 1, i+1, 22, 0, 0, 0).strftime('%Y-%m-%d %H:%M:%S:%f')\n",
    "#         Adding one day to the starting date\n",
    "        start_time = start_time + timedelta(days=1)\n",
    "\n",
    "        ddfinal = calculateDuration(dd, start_time)\n",
    "        ddfinal = ddfinal.drop(columns =['Min', 'Max'])\n",
    "        ddfinal = ddfinal.rename(columns={'Activity':'concept:name'})\n",
    "        ddfinal = ddfinal.rename(columns={'End_time':'time:timestamp'})\n",
    "        #ddfinal = ddfinal.rename(columns={'index':'case_id'})\n",
    "        ddfinal['case_id'] = i+1\n",
    "        # print(ddfinal)\n",
    "        ddfinal.insert(loc=0, column='case:concept:name', value=i+1)\n",
    "        #resfinal = resfinal.reindex(columns = ['case:concept:name', 'concept:name', 'Start_time', 'End_time', 'Duration'])\n",
    "        ddfinal = mergeData(ddfinal)\n",
    "        \n",
    "#         print(ddfinal)\n",
    "        ddfinal = ddfinal.drop(ddfinal[ddfinal['concept:name']=='waiting'].index)\n",
    "    \n",
    "#         pm4py.write_xes(ddfinal, './%s/'%path + 'day%d.xes'%(i+1))\n",
    "    #     Add daily routine to Final data\n",
    "        daySimulation = daySimulation.append(ddfinal)\n",
    "        \n",
    "        # Create Event Log 3A\n",
    "\n",
    "    #daySimulation = daySimulation.drop(daySimulation[daySimulation['concept:name']=='waiting'].index)\n",
    "    #print(daySimulation)\n",
    "    pm4py.write_xes(daySimulation, fileName)"
   ]
  },
  {
   "cell_type": "code",
   "execution_count": null,
   "id": "unsigned-cover",
   "metadata": {},
   "outputs": [],
   "source": []
  },
  {
   "cell_type": "code",
   "execution_count": 223,
   "id": "comparable-vault",
   "metadata": {},
   "outputs": [],
   "source": [
    "def createEventLog3B(dayRange, fileName):\n",
    "#     path = './'+fileName.split('.')[0] \n",
    "#     if os.path.exists(path):\n",
    "#         pass\n",
    "#     else:\n",
    "#         os.mkdir(path)\n",
    "    \n",
    "    #xes_Index = [\"case:concept:name\",\"Activity\" , \"start_time\", \"End_time\", \"Duration\"]\n",
    "    daySimulation = pd.DataFrame()\n",
    "    \n",
    "#     Setting the start date (the first date in log)\n",
    "    start_time = datetime(2022, 1, 1, 16, 0, 0, 0)\n",
    "\n",
    "    for i in range(dayRange):\n",
    "        # Create daily routine\n",
    "        dayActivities = build3B()\n",
    "#         dayActivities.append([wakeUp(), round(random.uniform(1, 15),2)])\n",
    "        dd = pd.DataFrame(dayActivities)\n",
    "        dd = pd.concat([dd[0].apply(lambda x: pd.Series(x)), dd[1]], axis=1)\n",
    "        dd.columns = ['Activity', 'Min', 'Max', 'Duration']\n",
    "        dd = dd.reindex(columns = [\"Activity\",\"Min\", \"Max\", \"start_time\", \"End_time\", \"Duration\"]) \n",
    "        dd = dd.fillna(\"\")\n",
    "        #print(dd)\n",
    "        # Randomly get time and calculate routine\n",
    "#         start_time = datetime(2022, 1, i+1, 22, 0, 0, 0).strftime('%Y-%m-%d %H:%M:%S:%f')\n",
    "#         Adding one day to the starting date\n",
    "        start_time = start_time + timedelta(days=1)\n",
    "    \n",
    "        ddfinal = calculateDuration(dd, start_time)\n",
    "        ddfinal = ddfinal.drop(columns =['Min', 'Max'])\n",
    "        ddfinal = ddfinal.rename(columns={'Activity':'concept:name'})\n",
    "        ddfinal = ddfinal.rename(columns={'End_time':'time:timestamp'})\n",
    "        ddfinal.insert(loc=0, column='case:concept:name', value=i+1)\n",
    "        ddfinal = mergeData(ddfinal)\n",
    "        \n",
    "        ddfinal = ddfinal.drop(ddfinal[ddfinal['concept:name']=='waiting'].index)\n",
    "    \n",
    "#         pm4py.write_xes(ddfinal, './%s/'%path + 'day%d.xes'%(i+1))\n",
    "\n",
    "    #     Add daily routine to Final data\n",
    "        daySimulation = daySimulation.append(ddfinal)\n",
    "        \n",
    "        # Create Event Log 3A\n",
    "    daySimulation = daySimulation.drop(daySimulation[daySimulation['concept:name']=='waiting'].index)\n",
    "    pm4py.write_xes(daySimulation, fileName)"
   ]
  },
  {
   "cell_type": "code",
   "execution_count": 224,
   "id": "exact-likelihood",
   "metadata": {
    "scrolled": true
   },
   "outputs": [
    {
     "name": "stderr",
     "output_type": "stream",
     "text": [
      "/var/folders/7c/r3slh6d1643d1hl26cgzfq5c0000gn/T/ipykernel_62803/1504229274.py:46: FutureWarning: The frame.append method is deprecated and will be removed from pandas in a future version. Use pandas.concat instead.\n",
      "  daySimulation = daySimulation.append(ddfinal)\n",
      "/var/folders/7c/r3slh6d1643d1hl26cgzfq5c0000gn/T/ipykernel_62803/1504229274.py:46: FutureWarning: The frame.append method is deprecated and will be removed from pandas in a future version. Use pandas.concat instead.\n",
      "  daySimulation = daySimulation.append(ddfinal)\n",
      "/var/folders/7c/r3slh6d1643d1hl26cgzfq5c0000gn/T/ipykernel_62803/1504229274.py:46: FutureWarning: The frame.append method is deprecated and will be removed from pandas in a future version. Use pandas.concat instead.\n",
      "  daySimulation = daySimulation.append(ddfinal)\n",
      "/var/folders/7c/r3slh6d1643d1hl26cgzfq5c0000gn/T/ipykernel_62803/1504229274.py:46: FutureWarning: The frame.append method is deprecated and will be removed from pandas in a future version. Use pandas.concat instead.\n",
      "  daySimulation = daySimulation.append(ddfinal)\n",
      "/var/folders/7c/r3slh6d1643d1hl26cgzfq5c0000gn/T/ipykernel_62803/1504229274.py:46: FutureWarning: The frame.append method is deprecated and will be removed from pandas in a future version. Use pandas.concat instead.\n",
      "  daySimulation = daySimulation.append(ddfinal)\n",
      "/var/folders/7c/r3slh6d1643d1hl26cgzfq5c0000gn/T/ipykernel_62803/1504229274.py:46: FutureWarning: The frame.append method is deprecated and will be removed from pandas in a future version. Use pandas.concat instead.\n",
      "  daySimulation = daySimulation.append(ddfinal)\n",
      "/var/folders/7c/r3slh6d1643d1hl26cgzfq5c0000gn/T/ipykernel_62803/1504229274.py:46: FutureWarning: The frame.append method is deprecated and will be removed from pandas in a future version. Use pandas.concat instead.\n",
      "  daySimulation = daySimulation.append(ddfinal)\n",
      "/var/folders/7c/r3slh6d1643d1hl26cgzfq5c0000gn/T/ipykernel_62803/1504229274.py:46: FutureWarning: The frame.append method is deprecated and will be removed from pandas in a future version. Use pandas.concat instead.\n",
      "  daySimulation = daySimulation.append(ddfinal)\n",
      "/var/folders/7c/r3slh6d1643d1hl26cgzfq5c0000gn/T/ipykernel_62803/1504229274.py:46: FutureWarning: The frame.append method is deprecated and will be removed from pandas in a future version. Use pandas.concat instead.\n",
      "  daySimulation = daySimulation.append(ddfinal)\n",
      "/var/folders/7c/r3slh6d1643d1hl26cgzfq5c0000gn/T/ipykernel_62803/1504229274.py:46: FutureWarning: The frame.append method is deprecated and will be removed from pandas in a future version. Use pandas.concat instead.\n",
      "  daySimulation = daySimulation.append(ddfinal)\n",
      "/var/folders/7c/r3slh6d1643d1hl26cgzfq5c0000gn/T/ipykernel_62803/1504229274.py:46: FutureWarning: The frame.append method is deprecated and will be removed from pandas in a future version. Use pandas.concat instead.\n",
      "  daySimulation = daySimulation.append(ddfinal)\n",
      "/var/folders/7c/r3slh6d1643d1hl26cgzfq5c0000gn/T/ipykernel_62803/1504229274.py:46: FutureWarning: The frame.append method is deprecated and will be removed from pandas in a future version. Use pandas.concat instead.\n",
      "  daySimulation = daySimulation.append(ddfinal)\n",
      "/var/folders/7c/r3slh6d1643d1hl26cgzfq5c0000gn/T/ipykernel_62803/1504229274.py:46: FutureWarning: The frame.append method is deprecated and will be removed from pandas in a future version. Use pandas.concat instead.\n",
      "  daySimulation = daySimulation.append(ddfinal)\n",
      "/var/folders/7c/r3slh6d1643d1hl26cgzfq5c0000gn/T/ipykernel_62803/1504229274.py:46: FutureWarning: The frame.append method is deprecated and will be removed from pandas in a future version. Use pandas.concat instead.\n",
      "  daySimulation = daySimulation.append(ddfinal)\n",
      "/var/folders/7c/r3slh6d1643d1hl26cgzfq5c0000gn/T/ipykernel_62803/1504229274.py:46: FutureWarning: The frame.append method is deprecated and will be removed from pandas in a future version. Use pandas.concat instead.\n",
      "  daySimulation = daySimulation.append(ddfinal)\n",
      "/var/folders/7c/r3slh6d1643d1hl26cgzfq5c0000gn/T/ipykernel_62803/1504229274.py:46: FutureWarning: The frame.append method is deprecated and will be removed from pandas in a future version. Use pandas.concat instead.\n",
      "  daySimulation = daySimulation.append(ddfinal)\n",
      "/var/folders/7c/r3slh6d1643d1hl26cgzfq5c0000gn/T/ipykernel_62803/1504229274.py:46: FutureWarning: The frame.append method is deprecated and will be removed from pandas in a future version. Use pandas.concat instead.\n",
      "  daySimulation = daySimulation.append(ddfinal)\n",
      "/var/folders/7c/r3slh6d1643d1hl26cgzfq5c0000gn/T/ipykernel_62803/1504229274.py:46: FutureWarning: The frame.append method is deprecated and will be removed from pandas in a future version. Use pandas.concat instead.\n",
      "  daySimulation = daySimulation.append(ddfinal)\n",
      "/var/folders/7c/r3slh6d1643d1hl26cgzfq5c0000gn/T/ipykernel_62803/1504229274.py:46: FutureWarning: The frame.append method is deprecated and will be removed from pandas in a future version. Use pandas.concat instead.\n",
      "  daySimulation = daySimulation.append(ddfinal)\n",
      "/var/folders/7c/r3slh6d1643d1hl26cgzfq5c0000gn/T/ipykernel_62803/1504229274.py:46: FutureWarning: The frame.append method is deprecated and will be removed from pandas in a future version. Use pandas.concat instead.\n",
      "  daySimulation = daySimulation.append(ddfinal)\n",
      "/var/folders/7c/r3slh6d1643d1hl26cgzfq5c0000gn/T/ipykernel_62803/1504229274.py:46: FutureWarning: The frame.append method is deprecated and will be removed from pandas in a future version. Use pandas.concat instead.\n",
      "  daySimulation = daySimulation.append(ddfinal)\n",
      "/var/folders/7c/r3slh6d1643d1hl26cgzfq5c0000gn/T/ipykernel_62803/1504229274.py:46: FutureWarning: The frame.append method is deprecated and will be removed from pandas in a future version. Use pandas.concat instead.\n",
      "  daySimulation = daySimulation.append(ddfinal)\n",
      "/var/folders/7c/r3slh6d1643d1hl26cgzfq5c0000gn/T/ipykernel_62803/1504229274.py:46: FutureWarning: The frame.append method is deprecated and will be removed from pandas in a future version. Use pandas.concat instead.\n",
      "  daySimulation = daySimulation.append(ddfinal)\n",
      "/var/folders/7c/r3slh6d1643d1hl26cgzfq5c0000gn/T/ipykernel_62803/1504229274.py:46: FutureWarning: The frame.append method is deprecated and will be removed from pandas in a future version. Use pandas.concat instead.\n",
      "  daySimulation = daySimulation.append(ddfinal)\n",
      "/var/folders/7c/r3slh6d1643d1hl26cgzfq5c0000gn/T/ipykernel_62803/1504229274.py:46: FutureWarning: The frame.append method is deprecated and will be removed from pandas in a future version. Use pandas.concat instead.\n",
      "  daySimulation = daySimulation.append(ddfinal)\n",
      "/var/folders/7c/r3slh6d1643d1hl26cgzfq5c0000gn/T/ipykernel_62803/1504229274.py:46: FutureWarning: The frame.append method is deprecated and will be removed from pandas in a future version. Use pandas.concat instead.\n",
      "  daySimulation = daySimulation.append(ddfinal)\n",
      "/var/folders/7c/r3slh6d1643d1hl26cgzfq5c0000gn/T/ipykernel_62803/1504229274.py:46: FutureWarning: The frame.append method is deprecated and will be removed from pandas in a future version. Use pandas.concat instead.\n",
      "  daySimulation = daySimulation.append(ddfinal)\n",
      "/var/folders/7c/r3slh6d1643d1hl26cgzfq5c0000gn/T/ipykernel_62803/1504229274.py:46: FutureWarning: The frame.append method is deprecated and will be removed from pandas in a future version. Use pandas.concat instead.\n",
      "  daySimulation = daySimulation.append(ddfinal)\n",
      "/var/folders/7c/r3slh6d1643d1hl26cgzfq5c0000gn/T/ipykernel_62803/1504229274.py:46: FutureWarning: The frame.append method is deprecated and will be removed from pandas in a future version. Use pandas.concat instead.\n",
      "  daySimulation = daySimulation.append(ddfinal)\n",
      "/var/folders/7c/r3slh6d1643d1hl26cgzfq5c0000gn/T/ipykernel_62803/1504229274.py:46: FutureWarning: The frame.append method is deprecated and will be removed from pandas in a future version. Use pandas.concat instead.\n",
      "  daySimulation = daySimulation.append(ddfinal)\n",
      "/var/folders/7c/r3slh6d1643d1hl26cgzfq5c0000gn/T/ipykernel_62803/1504229274.py:46: FutureWarning: The frame.append method is deprecated and will be removed from pandas in a future version. Use pandas.concat instead.\n",
      "  daySimulation = daySimulation.append(ddfinal)\n",
      "/var/folders/7c/r3slh6d1643d1hl26cgzfq5c0000gn/T/ipykernel_62803/1504229274.py:46: FutureWarning: The frame.append method is deprecated and will be removed from pandas in a future version. Use pandas.concat instead.\n",
      "  daySimulation = daySimulation.append(ddfinal)\n",
      "/var/folders/7c/r3slh6d1643d1hl26cgzfq5c0000gn/T/ipykernel_62803/1504229274.py:46: FutureWarning: The frame.append method is deprecated and will be removed from pandas in a future version. Use pandas.concat instead.\n",
      "  daySimulation = daySimulation.append(ddfinal)\n",
      "/var/folders/7c/r3slh6d1643d1hl26cgzfq5c0000gn/T/ipykernel_62803/1504229274.py:46: FutureWarning: The frame.append method is deprecated and will be removed from pandas in a future version. Use pandas.concat instead.\n",
      "  daySimulation = daySimulation.append(ddfinal)\n",
      "/var/folders/7c/r3slh6d1643d1hl26cgzfq5c0000gn/T/ipykernel_62803/1504229274.py:46: FutureWarning: The frame.append method is deprecated and will be removed from pandas in a future version. Use pandas.concat instead.\n",
      "  daySimulation = daySimulation.append(ddfinal)\n"
     ]
    },
    {
     "name": "stderr",
     "output_type": "stream",
     "text": [
      "/var/folders/7c/r3slh6d1643d1hl26cgzfq5c0000gn/T/ipykernel_62803/1504229274.py:46: FutureWarning: The frame.append method is deprecated and will be removed from pandas in a future version. Use pandas.concat instead.\n",
      "  daySimulation = daySimulation.append(ddfinal)\n",
      "/var/folders/7c/r3slh6d1643d1hl26cgzfq5c0000gn/T/ipykernel_62803/1504229274.py:46: FutureWarning: The frame.append method is deprecated and will be removed from pandas in a future version. Use pandas.concat instead.\n",
      "  daySimulation = daySimulation.append(ddfinal)\n",
      "/var/folders/7c/r3slh6d1643d1hl26cgzfq5c0000gn/T/ipykernel_62803/1504229274.py:46: FutureWarning: The frame.append method is deprecated and will be removed from pandas in a future version. Use pandas.concat instead.\n",
      "  daySimulation = daySimulation.append(ddfinal)\n",
      "/var/folders/7c/r3slh6d1643d1hl26cgzfq5c0000gn/T/ipykernel_62803/1504229274.py:46: FutureWarning: The frame.append method is deprecated and will be removed from pandas in a future version. Use pandas.concat instead.\n",
      "  daySimulation = daySimulation.append(ddfinal)\n",
      "/var/folders/7c/r3slh6d1643d1hl26cgzfq5c0000gn/T/ipykernel_62803/1504229274.py:46: FutureWarning: The frame.append method is deprecated and will be removed from pandas in a future version. Use pandas.concat instead.\n",
      "  daySimulation = daySimulation.append(ddfinal)\n",
      "/var/folders/7c/r3slh6d1643d1hl26cgzfq5c0000gn/T/ipykernel_62803/1504229274.py:46: FutureWarning: The frame.append method is deprecated and will be removed from pandas in a future version. Use pandas.concat instead.\n",
      "  daySimulation = daySimulation.append(ddfinal)\n",
      "/var/folders/7c/r3slh6d1643d1hl26cgzfq5c0000gn/T/ipykernel_62803/1504229274.py:46: FutureWarning: The frame.append method is deprecated and will be removed from pandas in a future version. Use pandas.concat instead.\n",
      "  daySimulation = daySimulation.append(ddfinal)\n",
      "/var/folders/7c/r3slh6d1643d1hl26cgzfq5c0000gn/T/ipykernel_62803/1504229274.py:46: FutureWarning: The frame.append method is deprecated and will be removed from pandas in a future version. Use pandas.concat instead.\n",
      "  daySimulation = daySimulation.append(ddfinal)\n",
      "/var/folders/7c/r3slh6d1643d1hl26cgzfq5c0000gn/T/ipykernel_62803/1504229274.py:46: FutureWarning: The frame.append method is deprecated and will be removed from pandas in a future version. Use pandas.concat instead.\n",
      "  daySimulation = daySimulation.append(ddfinal)\n",
      "/var/folders/7c/r3slh6d1643d1hl26cgzfq5c0000gn/T/ipykernel_62803/1504229274.py:46: FutureWarning: The frame.append method is deprecated and will be removed from pandas in a future version. Use pandas.concat instead.\n",
      "  daySimulation = daySimulation.append(ddfinal)\n",
      "/var/folders/7c/r3slh6d1643d1hl26cgzfq5c0000gn/T/ipykernel_62803/1504229274.py:46: FutureWarning: The frame.append method is deprecated and will be removed from pandas in a future version. Use pandas.concat instead.\n",
      "  daySimulation = daySimulation.append(ddfinal)\n",
      "/var/folders/7c/r3slh6d1643d1hl26cgzfq5c0000gn/T/ipykernel_62803/1504229274.py:46: FutureWarning: The frame.append method is deprecated and will be removed from pandas in a future version. Use pandas.concat instead.\n",
      "  daySimulation = daySimulation.append(ddfinal)\n",
      "/var/folders/7c/r3slh6d1643d1hl26cgzfq5c0000gn/T/ipykernel_62803/1504229274.py:46: FutureWarning: The frame.append method is deprecated and will be removed from pandas in a future version. Use pandas.concat instead.\n",
      "  daySimulation = daySimulation.append(ddfinal)\n",
      "/var/folders/7c/r3slh6d1643d1hl26cgzfq5c0000gn/T/ipykernel_62803/1504229274.py:46: FutureWarning: The frame.append method is deprecated and will be removed from pandas in a future version. Use pandas.concat instead.\n",
      "  daySimulation = daySimulation.append(ddfinal)\n",
      "/var/folders/7c/r3slh6d1643d1hl26cgzfq5c0000gn/T/ipykernel_62803/1504229274.py:46: FutureWarning: The frame.append method is deprecated and will be removed from pandas in a future version. Use pandas.concat instead.\n",
      "  daySimulation = daySimulation.append(ddfinal)\n",
      "/var/folders/7c/r3slh6d1643d1hl26cgzfq5c0000gn/T/ipykernel_62803/1504229274.py:46: FutureWarning: The frame.append method is deprecated and will be removed from pandas in a future version. Use pandas.concat instead.\n",
      "  daySimulation = daySimulation.append(ddfinal)\n",
      "/var/folders/7c/r3slh6d1643d1hl26cgzfq5c0000gn/T/ipykernel_62803/1504229274.py:46: FutureWarning: The frame.append method is deprecated and will be removed from pandas in a future version. Use pandas.concat instead.\n",
      "  daySimulation = daySimulation.append(ddfinal)\n",
      "/var/folders/7c/r3slh6d1643d1hl26cgzfq5c0000gn/T/ipykernel_62803/1504229274.py:46: FutureWarning: The frame.append method is deprecated and will be removed from pandas in a future version. Use pandas.concat instead.\n",
      "  daySimulation = daySimulation.append(ddfinal)\n",
      "/var/folders/7c/r3slh6d1643d1hl26cgzfq5c0000gn/T/ipykernel_62803/1504229274.py:46: FutureWarning: The frame.append method is deprecated and will be removed from pandas in a future version. Use pandas.concat instead.\n",
      "  daySimulation = daySimulation.append(ddfinal)\n",
      "/var/folders/7c/r3slh6d1643d1hl26cgzfq5c0000gn/T/ipykernel_62803/1504229274.py:46: FutureWarning: The frame.append method is deprecated and will be removed from pandas in a future version. Use pandas.concat instead.\n",
      "  daySimulation = daySimulation.append(ddfinal)\n",
      "/var/folders/7c/r3slh6d1643d1hl26cgzfq5c0000gn/T/ipykernel_62803/1504229274.py:46: FutureWarning: The frame.append method is deprecated and will be removed from pandas in a future version. Use pandas.concat instead.\n",
      "  daySimulation = daySimulation.append(ddfinal)\n"
     ]
    },
    {
     "data": {
      "application/vnd.jupyter.widget-view+json": {
       "model_id": "2f276a72511a46cf8f65dfcfe30bb7e3",
       "version_major": 2,
       "version_minor": 0
      },
      "text/plain": [
       "exporting log, completed traces ::   0%|          | 0/56 [00:00<?, ?it/s]"
      ]
     },
     "metadata": {},
     "output_type": "display_data"
    },
    {
     "name": "stderr",
     "output_type": "stream",
     "text": [
      "/var/folders/7c/r3slh6d1643d1hl26cgzfq5c0000gn/T/ipykernel_62803/1504229274.py:46: FutureWarning: The frame.append method is deprecated and will be removed from pandas in a future version. Use pandas.concat instead.\n",
      "  daySimulation = daySimulation.append(ddfinal)\n",
      "/var/folders/7c/r3slh6d1643d1hl26cgzfq5c0000gn/T/ipykernel_62803/1504229274.py:46: FutureWarning: The frame.append method is deprecated and will be removed from pandas in a future version. Use pandas.concat instead.\n",
      "  daySimulation = daySimulation.append(ddfinal)\n",
      "/var/folders/7c/r3slh6d1643d1hl26cgzfq5c0000gn/T/ipykernel_62803/1504229274.py:46: FutureWarning: The frame.append method is deprecated and will be removed from pandas in a future version. Use pandas.concat instead.\n",
      "  daySimulation = daySimulation.append(ddfinal)\n",
      "/var/folders/7c/r3slh6d1643d1hl26cgzfq5c0000gn/T/ipykernel_62803/1504229274.py:46: FutureWarning: The frame.append method is deprecated and will be removed from pandas in a future version. Use pandas.concat instead.\n",
      "  daySimulation = daySimulation.append(ddfinal)\n",
      "/var/folders/7c/r3slh6d1643d1hl26cgzfq5c0000gn/T/ipykernel_62803/1504229274.py:46: FutureWarning: The frame.append method is deprecated and will be removed from pandas in a future version. Use pandas.concat instead.\n",
      "  daySimulation = daySimulation.append(ddfinal)\n",
      "/var/folders/7c/r3slh6d1643d1hl26cgzfq5c0000gn/T/ipykernel_62803/1504229274.py:46: FutureWarning: The frame.append method is deprecated and will be removed from pandas in a future version. Use pandas.concat instead.\n",
      "  daySimulation = daySimulation.append(ddfinal)\n",
      "/var/folders/7c/r3slh6d1643d1hl26cgzfq5c0000gn/T/ipykernel_62803/1504229274.py:46: FutureWarning: The frame.append method is deprecated and will be removed from pandas in a future version. Use pandas.concat instead.\n",
      "  daySimulation = daySimulation.append(ddfinal)\n"
     ]
    },
    {
     "data": {
      "application/vnd.jupyter.widget-view+json": {
       "model_id": "a6748be0846641c4bd293cc526a47d7f",
       "version_major": 2,
       "version_minor": 0
      },
      "text/plain": [
       "exporting log, completed traces ::   0%|          | 0/7 [00:00<?, ?it/s]"
      ]
     },
     "metadata": {},
     "output_type": "display_data"
    },
    {
     "name": "stderr",
     "output_type": "stream",
     "text": [
      "/var/folders/7c/r3slh6d1643d1hl26cgzfq5c0000gn/T/ipykernel_62803/1504229274.py:46: FutureWarning: The frame.append method is deprecated and will be removed from pandas in a future version. Use pandas.concat instead.\n",
      "  daySimulation = daySimulation.append(ddfinal)\n",
      "/var/folders/7c/r3slh6d1643d1hl26cgzfq5c0000gn/T/ipykernel_62803/1504229274.py:46: FutureWarning: The frame.append method is deprecated and will be removed from pandas in a future version. Use pandas.concat instead.\n",
      "  daySimulation = daySimulation.append(ddfinal)\n",
      "/var/folders/7c/r3slh6d1643d1hl26cgzfq5c0000gn/T/ipykernel_62803/1504229274.py:46: FutureWarning: The frame.append method is deprecated and will be removed from pandas in a future version. Use pandas.concat instead.\n",
      "  daySimulation = daySimulation.append(ddfinal)\n",
      "/var/folders/7c/r3slh6d1643d1hl26cgzfq5c0000gn/T/ipykernel_62803/1504229274.py:46: FutureWarning: The frame.append method is deprecated and will be removed from pandas in a future version. Use pandas.concat instead.\n",
      "  daySimulation = daySimulation.append(ddfinal)\n",
      "/var/folders/7c/r3slh6d1643d1hl26cgzfq5c0000gn/T/ipykernel_62803/1504229274.py:46: FutureWarning: The frame.append method is deprecated and will be removed from pandas in a future version. Use pandas.concat instead.\n",
      "  daySimulation = daySimulation.append(ddfinal)\n",
      "/var/folders/7c/r3slh6d1643d1hl26cgzfq5c0000gn/T/ipykernel_62803/1504229274.py:46: FutureWarning: The frame.append method is deprecated and will be removed from pandas in a future version. Use pandas.concat instead.\n",
      "  daySimulation = daySimulation.append(ddfinal)\n",
      "/var/folders/7c/r3slh6d1643d1hl26cgzfq5c0000gn/T/ipykernel_62803/1504229274.py:46: FutureWarning: The frame.append method is deprecated and will be removed from pandas in a future version. Use pandas.concat instead.\n",
      "  daySimulation = daySimulation.append(ddfinal)\n"
     ]
    },
    {
     "data": {
      "application/vnd.jupyter.widget-view+json": {
       "model_id": "79c7dc6f60cc4476bcbeafec6249037c",
       "version_major": 2,
       "version_minor": 0
      },
      "text/plain": [
       "exporting log, completed traces ::   0%|          | 0/7 [00:00<?, ?it/s]"
      ]
     },
     "metadata": {},
     "output_type": "display_data"
    },
    {
     "name": "stderr",
     "output_type": "stream",
     "text": [
      "/var/folders/7c/r3slh6d1643d1hl26cgzfq5c0000gn/T/ipykernel_62803/20227009.py:41: FutureWarning: The frame.append method is deprecated and will be removed from pandas in a future version. Use pandas.concat instead.\n",
      "  daySimulation = daySimulation.append(ddfinal)\n",
      "/var/folders/7c/r3slh6d1643d1hl26cgzfq5c0000gn/T/ipykernel_62803/20227009.py:41: FutureWarning: The frame.append method is deprecated and will be removed from pandas in a future version. Use pandas.concat instead.\n",
      "  daySimulation = daySimulation.append(ddfinal)\n",
      "/var/folders/7c/r3slh6d1643d1hl26cgzfq5c0000gn/T/ipykernel_62803/20227009.py:41: FutureWarning: The frame.append method is deprecated and will be removed from pandas in a future version. Use pandas.concat instead.\n",
      "  daySimulation = daySimulation.append(ddfinal)\n",
      "/var/folders/7c/r3slh6d1643d1hl26cgzfq5c0000gn/T/ipykernel_62803/20227009.py:41: FutureWarning: The frame.append method is deprecated and will be removed from pandas in a future version. Use pandas.concat instead.\n",
      "  daySimulation = daySimulation.append(ddfinal)\n",
      "/var/folders/7c/r3slh6d1643d1hl26cgzfq5c0000gn/T/ipykernel_62803/20227009.py:41: FutureWarning: The frame.append method is deprecated and will be removed from pandas in a future version. Use pandas.concat instead.\n",
      "  daySimulation = daySimulation.append(ddfinal)\n",
      "/var/folders/7c/r3slh6d1643d1hl26cgzfq5c0000gn/T/ipykernel_62803/20227009.py:41: FutureWarning: The frame.append method is deprecated and will be removed from pandas in a future version. Use pandas.concat instead.\n",
      "  daySimulation = daySimulation.append(ddfinal)\n",
      "/var/folders/7c/r3slh6d1643d1hl26cgzfq5c0000gn/T/ipykernel_62803/20227009.py:41: FutureWarning: The frame.append method is deprecated and will be removed from pandas in a future version. Use pandas.concat instead.\n",
      "  daySimulation = daySimulation.append(ddfinal)\n"
     ]
    },
    {
     "data": {
      "application/vnd.jupyter.widget-view+json": {
       "model_id": "891450928aae477587362662d6ef5263",
       "version_major": 2,
       "version_minor": 0
      },
      "text/plain": [
       "exporting log, completed traces ::   0%|          | 0/7 [00:00<?, ?it/s]"
      ]
     },
     "metadata": {},
     "output_type": "display_data"
    },
    {
     "name": "stderr",
     "output_type": "stream",
     "text": [
      "/var/folders/7c/r3slh6d1643d1hl26cgzfq5c0000gn/T/ipykernel_62803/20227009.py:41: FutureWarning: The frame.append method is deprecated and will be removed from pandas in a future version. Use pandas.concat instead.\n",
      "  daySimulation = daySimulation.append(ddfinal)\n",
      "/var/folders/7c/r3slh6d1643d1hl26cgzfq5c0000gn/T/ipykernel_62803/20227009.py:41: FutureWarning: The frame.append method is deprecated and will be removed from pandas in a future version. Use pandas.concat instead.\n",
      "  daySimulation = daySimulation.append(ddfinal)\n",
      "/var/folders/7c/r3slh6d1643d1hl26cgzfq5c0000gn/T/ipykernel_62803/20227009.py:41: FutureWarning: The frame.append method is deprecated and will be removed from pandas in a future version. Use pandas.concat instead.\n",
      "  daySimulation = daySimulation.append(ddfinal)\n",
      "/var/folders/7c/r3slh6d1643d1hl26cgzfq5c0000gn/T/ipykernel_62803/20227009.py:41: FutureWarning: The frame.append method is deprecated and will be removed from pandas in a future version. Use pandas.concat instead.\n",
      "  daySimulation = daySimulation.append(ddfinal)\n",
      "/var/folders/7c/r3slh6d1643d1hl26cgzfq5c0000gn/T/ipykernel_62803/20227009.py:41: FutureWarning: The frame.append method is deprecated and will be removed from pandas in a future version. Use pandas.concat instead.\n",
      "  daySimulation = daySimulation.append(ddfinal)\n",
      "/var/folders/7c/r3slh6d1643d1hl26cgzfq5c0000gn/T/ipykernel_62803/20227009.py:41: FutureWarning: The frame.append method is deprecated and will be removed from pandas in a future version. Use pandas.concat instead.\n",
      "  daySimulation = daySimulation.append(ddfinal)\n",
      "/var/folders/7c/r3slh6d1643d1hl26cgzfq5c0000gn/T/ipykernel_62803/20227009.py:41: FutureWarning: The frame.append method is deprecated and will be removed from pandas in a future version. Use pandas.concat instead.\n",
      "  daySimulation = daySimulation.append(ddfinal)\n"
     ]
    },
    {
     "data": {
      "application/vnd.jupyter.widget-view+json": {
       "model_id": "6962509e8e734507907fbcaedb223f35",
       "version_major": 2,
       "version_minor": 0
      },
      "text/plain": [
       "exporting log, completed traces ::   0%|          | 0/7 [00:00<?, ?it/s]"
      ]
     },
     "metadata": {},
     "output_type": "display_data"
    }
   ],
   "source": [
    "createEventLog3A(56, 'Morning3A.xes')\n",
    "\n",
    "createEventLog3A(7, 'Morning3Ap.xes')\n",
    "createEventLog3A(7, 'Morning3Ap2.xes')\n",
    "\n",
    "createEventLog3B(7, 'Morning3B.xes')\n",
    "createEventLog3B(7, 'Morning3B2.xes')"
   ]
  },
  {
   "cell_type": "markdown",
   "id": "challenging-windsor",
   "metadata": {},
   "source": [
    "# ------------------------------"
   ]
  }
 ],
 "metadata": {
  "kernelspec": {
   "display_name": "Python 3 (ipykernel)",
   "language": "python",
   "name": "python3"
  },
  "language_info": {
   "codemirror_mode": {
    "name": "ipython",
    "version": 3
   },
   "file_extension": ".py",
   "mimetype": "text/x-python",
   "name": "python",
   "nbconvert_exporter": "python",
   "pygments_lexer": "ipython3",
   "version": "3.9.12"
  }
 },
 "nbformat": 4,
 "nbformat_minor": 5
}
